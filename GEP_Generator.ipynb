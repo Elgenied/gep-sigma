{
 "cells": [
  {
   "cell_type": "markdown",
   "metadata": {},
   "source": [
    "# Welcome to the GEP Generator\n",
    "\n",
    "This Jupyter based interface has been designed to support scenario runs for the Global Electrification Platform. \n",
    "\n",
    "The interface is built upon a modified version of [OnSSET](http://www.onsset.org/) developed by KTH dESA to provide an easy and quick way to generate electrification investment scenarios compatible with GEP data guidelines and protocols. \n",
    "\n",
    "Follow the steps below to generate custom electrification investment outlooks for your country of interest."
   ]
  },
  {
   "cell_type": "markdown",
   "metadata": {},
   "source": [
    "#### Start by importing the code "
   ]
  },
  {
   "cell_type": "code",
   "execution_count": 1,
   "metadata": {
    "scrolled": true
   },
   "outputs": [
    {
     "name": "stderr",
     "output_type": "stream",
     "text": [
      "2020-07-20 22:00:29,687\t\tCONFIGDIR=C:\\Users\\alexl\\.matplotlib\n",
      "2020-07-20 22:00:29,690\t\t(private) matplotlib data path: C:\\Users\\alexl\\anaconda3\\envs\\gep_onsset_env\\lib\\site-packages\\matplotlib\\mpl-data\n",
      "2020-07-20 22:00:29,693\t\tmatplotlib data path: C:\\Users\\alexl\\anaconda3\\envs\\gep_onsset_env\\lib\\site-packages\\matplotlib\\mpl-data\n",
      "2020-07-20 22:00:29,694\t\tloaded rc file C:\\Users\\alexl\\anaconda3\\envs\\gep_onsset_env\\lib\\site-packages\\matplotlib\\mpl-data\\matplotlibrc\n",
      "2020-07-20 22:00:29,696\t\tmatplotlib version 3.2.1\n",
      "2020-07-20 22:00:29,696\t\tinteractive is False\n",
      "2020-07-20 22:00:29,697\t\tplatform is win32\n",
      "2020-07-20 22:00:29,698\t\tloaded modules: ['sys', 'builtins', '_frozen_importlib', '_imp', '_warnings', '_frozen_importlib_external', '_io', 'marshal', 'nt', '_thread', '_weakref', 'winreg', 'time', 'zipimport', '_codecs', 'codecs', 'encodings.aliases', 'encodings', 'encodings.utf_8', 'encodings.cp1252', '_signal', '__main__', 'encodings.latin_1', '_abc', 'abc', 'io', '_stat', 'stat', '_collections_abc', 'genericpath', 'ntpath', 'os.path', 'os', '_sitebuiltins', '_locale', '_bootlocale', 'types', 'importlib._bootstrap', 'importlib._bootstrap_external', 'warnings', 'importlib', 'importlib.machinery', 'importlib.abc', '_operator', 'operator', 'keyword', '_heapq', 'heapq', 'itertools', 'reprlib', '_collections', 'collections', '_functools', 'functools', 'contextlib', 'importlib.util', 'mpl_toolkits', 'site', '_weakrefset', 'weakref', 'pkgutil', 'runpy', 'ipykernel._version', '__future__', 'enum', '_sre', 'sre_constants', 'sre_parse', 'sre_compile', 'copyreg', 're', '_json', 'json.scanner', 'json.decoder', 'json.encoder', 'json', 'errno', 'signal', 'threading', 'msvcrt', '_winapi', 'subprocess', 'IPython.core', 'IPython.core.getipython', 'IPython.core.release', 'atexit', 'copy', 'posixpath', 'fnmatch', 'glob', 'token', 'tokenize', 'linecache', 'traceback', 'collections.abc', '_string', 'string', 'logging', 'zlib', '_compression', '_bz2', 'bz2', '_lzma', 'lzma', 'shutil', '_opcode', 'opcode', 'dis', 'inspect', '_struct', 'struct', 'six', 'traitlets.utils', 'traitlets.utils.getargspec', 'ipython_genutils._version', 'ipython_genutils', 'locale', 'ipython_genutils.encoding', 'platform', 'ipython_genutils.py3compat', 'traitlets.utils.importstring', 'traitlets.utils.sentinel', 'traitlets.utils.bunch', 'traitlets.traitlets', 'traitlets._version', 'traitlets', 'decorator', 'gettext', 'argparse', '_ast', 'ast', 'math', '_bisect', 'bisect', '_sha512', '_random', 'random', 'ipython_genutils.path', 'traitlets.config.loader', 'textwrap', 'ipython_genutils.text', 'traitlets.config.configurable', 'ipython_genutils.importstring', 'traitlets.config.application', 'traitlets.config', 'pprint', 'sysconfig', 'urllib', 'urllib.parse', 'pydoc', 'bdb', 'IPython.utils', 'IPython.utils.ipstruct', 'IPython.utils.coloransi', 'pygments', 'IPython.utils.colorable', 'IPython.utils.PyColorize', 'IPython.utils.encoding', 'IPython.utils.py3compat', 'IPython.core.excolors', 'IPython.testing', 'IPython.testing.skipdoctest', 'cmd', 'codeop', 'code', 'pdb', 'IPython.core.debugger', 'IPython.core.display_trap', '_ctypes', 'ctypes._endian', 'ctypes', 'ctypes.wintypes', 'shlex', 'IPython.utils._process_common', 'IPython.utils._process_win32', 'IPython.utils.process', 'IPython.utils.decorators', 'IPython.utils.path', 'IPython.utils.data', 'IPython.utils.terminal', 'IPython.core.ultratb', 'IPython.utils._sysinfo', 'IPython.utils.sysinfo', 'IPython.core.crashhandler', 'tempfile', 'IPython.utils.importstring', 'IPython.paths', 'IPython.core.profiledir', 'IPython.core.application', 'IPython.terminal', '_hashlib', '_blake2', '_sha3', 'hashlib', 'IPython.core.compilerop', 'IPython.core.error', 'pathlib', 'IPython.utils.text', 'IPython.core.magic_arguments', 'getopt', 'typing.io', 'typing.re', 'typing', 'binascii', 'mimetypes', 'IPython.core.display', 'IPython.core.page', 'getpass', 'IPython.lib.security', 'IPython.lib', '_datetime', 'datetime', 'IPython.lib.pretty', 'IPython.utils.openpy', 'IPython.utils.dir2', 'IPython.utils.wildcard', 'pygments.lexers._mapping', 'pygments.modeline', 'pygments.plugin', 'pygments.util', 'pygments.lexers', 'pygments.filter', 'pygments.token', 'pygments.filters', 'pygments.regexopt', 'pygments.lexer', 'pygments.unistring', 'pygments.lexers.python', 'pygments.formatters._mapping', 'pygments.formatters', 'pygments.styles', 'pygments.formatter', 'pygments.formatters.html', 'IPython.core.oinspect', 'IPython.core.inputtransformer2', 'IPython.core.magic', '_compat_pickle', '_pickle', 'pickle', 'pickleshare', 'IPython.core.autocall', 'IPython.core.macro', 'IPython.core.splitinput', 'IPython.core.prefilter', 'IPython.core.alias', 'IPython.core.builtin_trap', 'backcall.backcall', 'backcall', 'IPython.core.events', 'IPython.core.displayhook', 'IPython.core.displaypub', 'IPython.core.extensions', 'IPython.utils.sentinel', 'IPython.core.formatters', '_sqlite3', 'sqlite3.dbapi2', 'sqlite3', 'IPython.core.history', 'IPython.core.logger', 'IPython.core.payload', 'IPython.core.usage', 'html.entities', 'html', 'IPython.lib.display', 'IPython.display', 'IPython.utils.capture', 'IPython.utils.io', 'IPython.core.hooks', 'IPython.utils.strdispatch', 'IPython.utils.syspathcontext', 'IPython.utils.tempdir', 'IPython.utils.contexts', 'IPython.core.async_helpers', 'IPython.core.interactiveshell', 'concurrent', 'concurrent.futures._base', 'concurrent.futures', '_socket', 'select', 'selectors', 'socket', '_ssl', 'base64', 'ssl', 'asyncio.constants', 'asyncio.format_helpers', 'asyncio.base_futures', 'asyncio.log', 'asyncio.coroutines', '_contextvars', 'contextvars', 'asyncio.exceptions', 'asyncio.base_tasks', '_asyncio', 'asyncio.events', 'asyncio.futures', 'asyncio.protocols', 'asyncio.transports', 'asyncio.sslproto', 'asyncio.locks', 'asyncio.tasks', 'asyncio.staggered', 'asyncio.trsock', 'asyncio.base_events', 'asyncio.runners', 'asyncio.queues', 'asyncio.streams', 'asyncio.subprocess', '_overlapped', 'asyncio.base_subprocess', 'asyncio.proactor_events', 'asyncio.selector_events', 'asyncio.windows_utils', 'asyncio.windows_events', 'asyncio', 'prompt_toolkit.application.current', 'prompt_toolkit.eventloop.utils', 'prompt_toolkit.eventloop.async_generator', 'wcwidth.table_wide', 'wcwidth.table_zero', 'wcwidth.unicode_versions', 'wcwidth.wcwidth', 'wcwidth', 'prompt_toolkit.utils', 'prompt_toolkit.eventloop.inputhook', 'prompt_toolkit.eventloop', 'prompt_toolkit.application.run_in_terminal', 'prompt_toolkit.selection', 'prompt_toolkit.clipboard.base', 'prompt_toolkit.clipboard.in_memory', 'prompt_toolkit.clipboard', 'prompt_toolkit.cache', 'prompt_toolkit.enums', 'prompt_toolkit.filters.base', 'prompt_toolkit.filters.app', 'prompt_toolkit.filters.cli', 'prompt_toolkit.filters.utils', 'prompt_toolkit.filters', 'prompt_toolkit.document', 'prompt_toolkit.auto_suggest', 'prompt_toolkit.data_structures', 'prompt_toolkit.styles.base', 'prompt_toolkit.styles.named_colors', 'prompt_toolkit.styles.style', 'prompt_toolkit.styles.defaults', 'prompt_toolkit.styles.pygments', 'colorsys', 'prompt_toolkit.styles.style_transformation', 'prompt_toolkit.styles', 'prompt_toolkit.output.color_depth', 'prompt_toolkit.output.base', 'prompt_toolkit.patch_stdout', 'prompt_toolkit.output.defaults', 'prompt_toolkit.output', 'array', 'prompt_toolkit.output.vt100', 'prompt_toolkit.mouse_events', 'prompt_toolkit.formatted_text.base', 'prompt_toolkit.formatted_text.ansi', 'xml', 'xml.dom.domreg', 'xml.dom', 'xml.dom.minicompat', 'xml.dom.NodeFilter', 'xml.dom.xmlbuilder', 'xml.dom.minidom', 'prompt_toolkit.formatted_text.html', 'prompt_toolkit.formatted_text.pygments', 'prompt_toolkit.formatted_text.utils', 'prompt_toolkit.formatted_text', 'prompt_toolkit.completion.base', 'prompt_toolkit.completion.filesystem', 'prompt_toolkit.completion.word_completer', 'prompt_toolkit.completion.fuzzy_completer', 'prompt_toolkit.completion.nested', 'prompt_toolkit.completion', 'prompt_toolkit.history', 'prompt_toolkit.keys', 'prompt_toolkit.key_binding.key_bindings', 'prompt_toolkit.key_binding.key_processor', 'prompt_toolkit.key_binding', 'prompt_toolkit.key_binding.vi_state', 'prompt_toolkit.search', 'prompt_toolkit.validation', 'prompt_toolkit.buffer', 'prompt_toolkit.input.base', 'prompt_toolkit.input.defaults', 'prompt_toolkit.input', 'prompt_toolkit.input.typeahead', 'prompt_toolkit.key_binding.bindings', 'prompt_toolkit.key_binding.bindings.scroll', 'prompt_toolkit.key_binding.bindings.page_navigation', 'prompt_toolkit.lexers.base', 'prompt_toolkit.lexers.pygments', 'prompt_toolkit.lexers', 'prompt_toolkit.layout.utils', 'prompt_toolkit.layout.processors', 'prompt_toolkit.layout.controls', 'prompt_toolkit.layout.dimension', 'prompt_toolkit.layout.margins', 'prompt_toolkit.layout.mouse_handlers', 'prompt_toolkit.layout.screen', 'prompt_toolkit.layout.containers', 'prompt_toolkit.layout.layout', 'prompt_toolkit.layout.menus', 'prompt_toolkit.layout', 'prompt_toolkit.key_binding.bindings.completion', 'prompt_toolkit.key_binding.bindings.named_commands', 'prompt_toolkit.key_binding.bindings.basic', 'prompt_toolkit.key_binding.bindings.cpr', 'prompt_toolkit.key_binding.bindings.emacs', 'prompt_toolkit.key_binding.bindings.mouse', 'prompt_toolkit.input.ansi_escape_sequences', 'prompt_toolkit.input.vt100_parser', 'prompt_toolkit.key_binding.digraphs', 'prompt_toolkit.key_binding.bindings.vi', 'prompt_toolkit.key_binding.defaults', 'prompt_toolkit.key_binding.emacs_state', 'prompt_toolkit.layout.dummy', 'prompt_toolkit.renderer', 'prompt_toolkit.application.application', 'prompt_toolkit.application.dummy', 'prompt_toolkit.application', 'prompt_toolkit.key_binding.bindings.focus', 'prompt_toolkit.widgets.toolbars', 'prompt_toolkit.widgets.base', 'prompt_toolkit.widgets.dialogs', 'prompt_toolkit.widgets.menus', 'prompt_toolkit.widgets', 'prompt_toolkit.shortcuts.dialogs', 'prompt_toolkit.shortcuts.progress_bar.formatters', 'prompt_toolkit.shortcuts.progress_bar.base', 'prompt_toolkit.shortcuts.progress_bar', 'prompt_toolkit.key_binding.bindings.auto_suggest', 'prompt_toolkit.key_binding.bindings.open_in_editor', 'prompt_toolkit.shortcuts.prompt', 'prompt_toolkit.shortcuts.utils', 'prompt_toolkit.shortcuts', 'prompt_toolkit', 'pygments.style', 'unicodedata', 'IPython.core.latex_symbols', 'IPython.utils.generics', 'parso._compatibility', 'parso.utils', 'parso.tree', 'parso.python', 'parso.python.token', 'parso.python.tokenize', 'parso.pgen2.grammar_parser', 'parso.pgen2.generator', 'parso.pgen2', 'parso.parser', 'difflib', 'parso.python.prefix', 'parso.python.tree', 'parso.python.parser', 'parso.python.diff', 'gc', 'parso.cache', 'parso.normalizer', 'parso.python.errors', 'parso.python.pep8', 'parso.file_io', 'parso.grammar', 'parso', 'jedi.file_io', '_queue', 'queue', 'jedi._compatibility', 'jedi.parser_utils', 'jedi.debug', 'jedi.settings', 'jedi.cache', 'jedi.inference.cache', 'jedi.inference.helpers', 'jedi.inference.utils', 'jedi.inference.base_value', 'jedi.common', 'jedi.inference.sys_path', 'jedi.inference.recursion', 'jedi.inference.flow_analysis', 'jedi.inference.lazy_value', 'jedi.inference.docstrings', 'jedi.plugins', 'jedi.inference.names', 'jedi.inference.filters', 'jedi.inference.compiled.getattr_static', 'jedi.inference.compiled.access', 'jedi.inference.signature', 'jedi.inference.context', 'jedi.inference.compiled.value', 'jedi.inference.compiled', 'jedi.inference.analysis', 'jedi.inference.gradual', 'jedi.inference.value.module', 'jedi.inference.value.dynamic_arrays', 'jedi.inference.value.iterable', 'jedi.inference.arguments', 'jedi.inference.parser_cache', 'jedi.inference.gradual.generics', 'jedi.inference.value.function', 'jedi.inference.value.klass', 'jedi.inference.value.instance', 'jedi.inference.value', 'jedi.inference.gradual.base', 'jedi.inference.gradual.type_var', 'jedi.inference.gradual.typing', 'jedi.inference.gradual.stub_value', 'jedi.inference.gradual.typeshed', 'jedi.inference.imports', 'jedi.inference.param', 'jedi.inference.gradual.annotation', 'jedi.inference.value.decorator', 'jedi.inference.syntax_tree', 'jedi.inference', 'jedi.inference.gradual.conversion', 'jedi.inference.compiled.mixed', 'pydoc_data', 'pydoc_data.topics', 'jedi.api.keywords', 'jedi.api.completion_cache', 'jedi.api.helpers', 'jedi.api.classes', 'jedi.api.interpreter', 'jedi.api.strings', 'jedi.api.file_name', 'jedi.api.completion', 'filecmp', 'jedi.inference.compiled.subprocess.functions', 'jedi.api.exceptions', 'jedi.inference.compiled.subprocess', 'jedi.api.environment', 'jedi.inference.references', 'jedi.api.project', 'jedi.api.errors', 'jedi.api.refactoring', 'jedi.api.refactoring.extract', 'jedi.inference.gradual.utils', 'jedi.api', 'jedi.plugins.stdlib', 'jedi.plugins.flask', 'jedi.plugins.pytest', 'jedi.plugins.django', 'jedi.plugins.registry', 'jedi', 'IPython.core.completer', 'IPython.terminal.ptutils', 'IPython.lib.clipboard', 'IPython.terminal.shortcuts', 'IPython.terminal.debugger', 'IPython.terminal.magics', 'IPython.terminal.pt_inputhooks', 'IPython.terminal.prompts', 'IPython.terminal.interactiveshell', 'IPython.core.magics.auto', 'IPython.core.magics.basic', 'email', 'http', 'email.errors', 'email.quoprimime', 'email.base64mime', 'quopri', 'email.encoders', 'email.charset', 'email.header', 'calendar', 'email._parseaddr', 'email.utils', 'email._policybase', 'email.feedparser', 'email.parser', 'uu', 'email._encoded_words', 'email.iterators', 'email.message', 'http.client', 'urllib.response', 'urllib.error', 'nturl2path', 'urllib.request', 'IPython.core.magics.code', 'IPython.core.magics.config', 'IPython.core.magics.display', 'timeit', '_lsprof', 'profile', 'cProfile', 'pstats', 'IPython.utils.module_paths', 'IPython.utils.timing', 'IPython.core.magics.execution', 'IPython.core.magics.extension', 'IPython.core.magics.history', 'IPython.core.magics.logging', 'IPython.core.magics.namespace', 'IPython.core.magics.osm', 'IPython.core.magics.packaging', 'IPython.core.pylabtools', 'IPython.core.magics.pylab', 'IPython.lib.backgroundjobs', 'IPython.core.magics.script', 'IPython.core.magics', 'IPython.core.shellapp', 'IPython.extensions', 'IPython.extensions.storemagic', 'IPython.terminal.ipapp', 'IPython.terminal.embed', 'IPython.utils.frame', 'IPython', 'jupyter_client._version', 'zmq.backend.select', 'cython_runtime', 'zmq.backend.cython.constants', '_cython_0_29_17', 'zmq.backend.cython.error', 'zmq.error', 'zmq.backend.cython.message', 'zmq.backend.cython.context', 'zmq.backend.cython.socket', 'zmq.backend.cython.utils', 'zmq.backend.cython._poll', 'zmq.backend.cython._version', 'zmq.backend.cython._device', 'zmq.backend.cython._proxy_steerable', 'zmq.backend.cython', 'zmq.backend', 'zmq.utils', 'zmq.utils.constant_names', 'zmq.sugar.constants', 'zmq.sugar.attrsettr', 'zmq.sugar.poll', 'zmq.utils.strtypes', 'zmq.utils.jsonapi', 'zmq.sugar.socket', 'zmq.sugar.context', 'zmq.sugar.frame', 'zmq.sugar.tracker', 'zmq.sugar.version', 'zmq.sugar.stopwatch', 'zmq.sugar', 'zmq', 'jupyter_client.localinterfaces', 'jupyter_core.version', 'jupyter_core', 'distutils', 'distutils.errors', 'distutils.dep_util', 'distutils.debug', 'distutils.log', 'distutils.spawn', 'distutils.util', 'jupyter_core.paths', 'jupyter_client.connect', 'traitlets.log', 'jupyter_client.launcher', 'jupyter_client.channelsabc', 'jupyter_client.channels', 'jupyter_client.clientabc', 'jupyter_client.client', 'jupyter_client.kernelspec', 'jupyter_client.managerabc', 'jupyter_client.manager', 'jupyter_client.blocking.channels', 'jupyter_client.blocking.client', 'jupyter_client.blocking', 'zmq._future', 'zmq.asyncio', 'jupyter_client.asynchronous.channels', 'jupyter_client.asynchronous.client', 'jupyter_client.asynchronous', 'uuid', 'jupyter_client.multikernelmanager', 'jupyter_client', 'ipykernel.connect', 'ipykernel', 'tornado', 'numbers', 'logging.handlers', 'tornado.speedups', 'tornado.util', 'tornado.escape', 'colorama.ansi', 'colorama.win32', 'colorama.winterm', 'colorama.ansitowin32', 'colorama.initialise', 'colorama', 'tornado.log', 'tornado.concurrent', 'tornado.ioloop', 'tornado.platform', 'tornado.gen', 'tornado.platform.asyncio', 'zmq.eventloop.ioloop', 'zmq.eventloop', 'zmq.eventloop.zmqstream', 'imp', 'hmac', 'dateutil._version', 'dateutil', '_decimal', 'decimal', 'dateutil._common', 'dateutil.relativedelta', 'six.moves', 'dateutil.tz._common', 'dateutil.tz._factories', 'dateutil.tz.win', 'dateutil.tz.tz', 'dateutil.tz', 'dateutil.parser._parser', 'dateutil.parser.isoparser', 'dateutil.parser', '_strptime', 'jupyter_client.jsonutil', 'jupyter_client.adapter', 'jupyter_client.session', 'ipykernel.iostream', 'ipykernel.heartbeat', 'IPython.utils.tokenutil', 'tornado.locks', 'tornado.queues', 'ipykernel.jsonutil', 'ipykernel.kernelbase', 'ipykernel.comm.comm', 'ipykernel.comm.manager', 'ipykernel.comm', 'IPython.core.payloadpage', 'ipykernel.displayhook', 'ipykernel.zmqshell', 'distutils.version', 'ipykernel.eventloops', 'ipykernel.ipkernel', 'ipykernel.parentpoller', 'ipykernel.kernelapp', 'win32api', 'win32security', 'ntsecuritycon', 'faulthandler', 'ipykernel.codeutil', 'ipykernel.pickleutil', 'ipykernel.serialize', 'ipykernel.datapub', 'IPython.core.completerlib', 'storemagic', 'numpy._globals', 'numpy.__config__', 'numpy.version', 'mkl._mklinit', 'mkl._py_mkl_service', 'mkl', 'numpy._distributor_init', 'numpy.core._multiarray_umath', 'numpy.compat._inspect', 'numpy.compat.py3k', 'numpy.compat', 'numpy.core.overrides', 'numpy.core.multiarray', 'numpy.core.umath', 'numpy.core._string_helpers', 'numpy.core._dtype', 'numpy.core._type_aliases', 'numpy.core.numerictypes', 'numpy.core._asarray', 'numpy.core._exceptions', 'numpy.core._methods', 'numpy.core.fromnumeric', 'numpy.core.shape_base', 'numpy.core._ufunc_config', 'numpy.core.arrayprint', 'numpy.core.numeric', 'numpy.core.defchararray', 'numpy.core.records', 'numpy.core.memmap', 'numpy.core.function_base', 'numpy.core.machar', 'numpy.core.getlimits', 'numpy.core.einsumfunc', 'numpy.core._multiarray_tests', 'numpy.core._add_newdocs', 'numpy.core._dtype_ctypes', 'numpy.core._internal', 'numpy._pytesttester', 'numpy.core', 'numpy.lib.mixins', 'numpy.lib.ufunclike', 'numpy.lib.type_check', 'numpy.lib.scimath', 'numpy.lib.twodim_base', 'numpy.linalg.lapack_lite', 'numpy.linalg._umath_linalg', 'numpy.linalg.linalg', 'numpy.linalg', 'numpy.matrixlib.defmatrix', 'numpy.matrixlib', 'numpy.lib.histograms', 'numpy.lib.function_base', 'numpy.lib.stride_tricks', 'numpy.lib.index_tricks', 'numpy.lib.nanfunctions', 'numpy.lib.shape_base', 'numpy.lib.polynomial', 'numpy.lib.utils', 'numpy.lib.arraysetops', 'numpy.lib.format', 'numpy.lib._datasource', 'numpy.lib._iotools', 'numpy.lib.npyio', 'numpy.lib.financial', 'numpy.lib.arrayterator', 'numpy.lib.arraypad', 'numpy.lib._version', 'numpy.lib', 'numpy.fft._pocketfft_internal', 'numpy.fft._pocketfft', 'numpy.fft.helper', 'numpy.fft', 'numpy.polynomial.polyutils', 'numpy.polynomial._polybase', 'numpy.polynomial.polynomial', 'numpy.polynomial.chebyshev', 'numpy.polynomial.legendre', 'numpy.polynomial.hermite', 'numpy.polynomial.hermite_e', 'numpy.polynomial.laguerre', 'numpy.polynomial', '_cython_0_29_20', 'numpy.random._common', 'secrets', 'numpy.random._bit_generator', 'numpy.random._bounded_integers', 'numpy.random._mt19937', 'numpy.random.mtrand', 'numpy.random._philox', 'numpy.random._pcg64', 'numpy.random._sfc64', 'numpy.random._generator', 'numpy.random._pickle', 'numpy.random', 'numpy.ctypeslib', 'numpy.ma.core', 'numpy.ma.extras', 'numpy.ma', 'numpy', 'pytz.exceptions', 'pytz.lazy', 'pytz.tzinfo', 'pytz.tzfile', 'pytz', 'pandas.compat', 'pandas.compat.numpy', 'pandas._libs.tslibs.np_datetime', 'pandas._libs.ops_dispatch', 'pandas._libs.missing', 'pandas._libs.tslibs.nattype', 'pandas._libs.tslibs.timezones', 'pandas._config.config', 'pandas._config.dates', 'pandas._config.display', 'pandas._config', 'pandas._config.localization', 'pandas._libs.tslibs.strptime', 'pandas._libs.tslibs.ccalendar', 'pandas._libs.tslibs.offsets', 'pandas._libs.tslibs.timedeltas', 'pandas._libs.tslibs.tzconversion', 'pandas._libs.tslibs.fields', 'pandas._libs.tslibs.c_timestamp', 'pandas._libs.tslibs.frequencies', 'pandas._libs.tslibs.parsing', 'pandas._libs.tslibs.conversion', 'pandas._libs.tslibs.timestamps', 'pandas._libs.tslibs.resolution', 'pandas._libs.tslibs.period', 'pandas._libs.tslibs', 'pandas._libs', 'pandas._libs.hashtable', 'fractions', 'pandas._libs.tslib', 'pandas._libs.lib', 'pandas.core', 'pandas.core.config_init', 'pandas.core.dtypes', 'pandas._libs.algos', 'pandas._libs.interval', 'pandas._typing', 'pandas.errors', 'pandas.core.dtypes.generic', 'pandas.core.dtypes.base', 'pandas.core.dtypes.inference', 'pandas.core.dtypes.dtypes', 'pandas.core.dtypes.common', 'pandas.core.dtypes.missing', 'pandas._libs.properties', 'pandas.util._decorators', 'pandas.core.util', 'pandas._libs.hashing', 'pandas.util._validators', 'pandas.core.dtypes.cast', 'pandas.core.util.hashing', 'pandas.util', 'pandas.core.common', 'pandas.core.construction', 'pandas.core.indexers', 'pandas.core.algorithms', 'pandas.compat.numpy.function', 'pandas._libs.ops', 'pandas.core.ops.roperator', 'pandas.core.ops.missing', 'pandas.core.ops.dispatch', 'pandas.core.ops.invalid', 'pandas.core.ops.array_ops', 'pandas.core.ops.common', 'pandas.core.ops.docstrings', 'pandas.core.ops.mask_ops', 'pandas.core.ops.methods', 'pandas.core.ops', 'pandas.compat._optional', 'pandas.core.missing', 'pandas.core.sorting', 'pandas.core.arrays.base', 'pandas.core.nanops', 'pandas.core.arrays.masked', 'pandas.core.arrays.boolean', 'pandas.core.accessor', 'pandas.core.base', 'pandas.io', 'pandas.io.formats', 'pandas.io.formats.console', 'pandas.core.arrays.categorical', 'pandas.tseries', 'dateutil.easter', 'pandas.tseries.offsets', 'pandas.tseries.frequencies', 'pandas.core.arrays.datetimelike', 'pandas.core.arrays._ranges', 'pandas.core.arrays.datetimes', 'pandas.core.tools', 'pandas.core.tools.numeric', 'pandas.core.arrays.integer', 'pandas.core.indexes', 'pandas._libs.index', 'pandas._libs.join', 'pandas.core.dtypes.concat', 'pandas.io.formats.printing', 'pandas.core.indexes.frozen', 'pandas.core.strings', 'pandas.core.indexes.base', 'pandas.core.arrays.interval', 'pandas.core.arrays.numpy_', 'pandas.core.arrays.period', 'pandas._libs.sparse', 'pandas.core.arrays.sparse.dtype', 'pandas.core.arrays.sparse.array', 'pandas.core.arrays.sparse.accessor', 'pandas.core.arrays.sparse', 'pandas.core.arrays.string_', 'pandas.core.arrays.timedeltas', 'pandas.core.arrays', 'pandas.core.indexes.extension', 'pandas.core.indexes.category', 'pandas.core.indexes.numeric', 'pandas.core.tools.timedeltas', 'pandas.core.indexes.datetimelike', 'pandas.arrays', 'pandas.core.tools.datetimes', 'pandas.core.indexes.datetimes', 'pandas.util._exceptions', 'pandas.core.indexes.multi', 'pandas.core.indexes.timedeltas', 'pandas.core.indexes.interval', 'pandas.core.indexes.period', 'pandas.core.indexes.range', 'pandas.core.indexes.api', 'pandas._libs.indexing', 'pandas.core.indexing', 'pandas._libs.writers', 'pandas._libs.internals', 'pandas.core.internals.blocks', 'pandas.core.internals.concat', 'pandas.core.internals.managers', 'pandas.core.internals', 'gzip', 'mmap', 'zipfile', 'pandas.io.common', 'pandas.io.formats.format', 'pandas.core.generic', 'pandas.core.internals.construction', 'pandas._libs.reshape', 'pandas.core.indexes.accessors', 'pandas.plotting._core', 'pandas.plotting._misc', 'pandas.plotting', 'pandas._libs.window', 'pandas._libs.window.aggregations', 'pandas.core.groupby.base', 'pandas.core.window.common', 'pandas._libs.window.indexers', 'pandas.core.window.indexers', 'pandas.core.window.numba_', 'pandas.core.window.rolling', 'pandas.core.window.ewm', 'pandas.core.window.expanding', 'pandas.core.window', 'pandas.core.series', 'pandas.core.frame', 'pandas._libs.groupby', 'pandas._libs.reduction', 'pandas.core.groupby.categorical', 'pandas.core.groupby.grouper', 'pandas.core.groupby.ops', 'pandas.core.groupby.groupby', 'pandas.core.groupby.generic', 'pandas.core.groupby', 'pandas.core.api', 'pandas.tseries.api', 'pandas.core.computation', 'pandas.core.computation.common', 'pandas.core.computation.align', 'pandas.compat.chainmap', 'pandas.core.computation.scope', 'pandas.core.computation.ops', 'pandas.core.computation.engines', 'pandas.core.computation.parsing', 'pandas.core.computation.expr', 'pandas.core.computation.eval', 'pandas.core.computation.api', 'pandas.core.reshape', 'pandas.core.reshape.concat', 'pandas.core.reshape.melt', 'pandas.core.reshape.merge', 'pandas.core.reshape.util', 'pandas.core.reshape.pivot', 'pandas.core.reshape.reshape', 'pandas.core.reshape.tile', 'pandas.core.reshape.api', 'pandas.api.extensions', 'pandas.api.indexers', 'pandas.core.dtypes.api', 'pandas.api.types', 'pandas.api', 'pandas.util._print_versions', 'pandas.io.clipboards', '_csv', 'csv', 'pandas._libs.parsers', 'pandas.io.excel._util', 'pandas.io.date_converters', 'pandas.io.parsers', 'pandas.io.excel._odfreader', 'pandas.io.excel._openpyxl', 'pandas.io.excel._xlrd', 'pandas.io.excel._pyxlsb', 'pandas.io.excel._base', 'pandas._libs.json', 'pandas.io.excel._xlsxwriter', 'pandas.io.excel._xlwt', 'pandas.io.excel', 'pandas.io.feather_format', 'pandas.io.gbq', 'pandas.io.html', 'pandas.io.json._normalize', 'pandas.io.json._table_schema', 'pandas.io.json._json', 'pandas.io.json', 'pandas.io.orc', 'pandas.io.parquet', 'pandas.compat.pickle_compat', 'pandas.io.pickle', 'pandas.core.computation.pytables', 'pandas.io.pytables', 'pandas.io.sas.sasreader', 'pandas.io.sas', 'pandas.io.spss', 'pandas.io.sql', 'pandas.io.stata', 'pandas.io.api', 'pandas.util._tester', 'pandas._libs.testing', 'pandas._testing', 'pandas.testing', 'pandas._version', 'pandas', 'gep_onsset.gep_onsset', 'gep_onsset', 'matplotlib', 'matplotlib.cbook.deprecation', 'matplotlib.cbook', 'pyparsing', 'matplotlib.fontconfig_pattern', 'matplotlib.docstring', 'matplotlib._color_data', 'matplotlib.colors', 'cycler', 'matplotlib.rcsetup', 'matplotlib._version', 'matplotlib.ft2font', 'kiwisolver']\n"
     ]
    },
    {
     "name": "stderr",
     "output_type": "stream",
     "text": [
      "2020-07-20 22:00:29,771\t\tCACHEDIR=C:\\Users\\alexl\\.matplotlib\n",
      "2020-07-20 22:00:29,777\t\tUsing fontManager instance from C:\\Users\\alexl\\.matplotlib\\fontlist-v310.json\n",
      "2020-07-20 22:00:29,943\t\tLoaded backend module://ipykernel.pylab.backend_inline version unknown.\n",
      "2020-07-20 22:00:29,943\t\tLoaded backend module://ipykernel.pylab.backend_inline version unknown.\n",
      "2020-07-20 22:00:29,960\t\tLoaded backend module://ipykernel.pylab.backend_inline version unknown.\n"
     ]
    }
   ],
   "source": [
    "from gep_onsset import *\n",
    "from IPython.display import display, Markdown, HTML\n",
    "%matplotlib inline"
   ]
  },
  {
   "cell_type": "markdown",
   "metadata": {},
   "source": [
    "# 1. GIS data selection\n",
    "\n",
    "First, run the cell below to browse to the directory your input CSV file is located at and select the input file. Sample file shall be located at .\\ gep-onsset\\test_data. \n"
   ]
  },
  {
   "cell_type": "code",
   "execution_count": 2,
   "metadata": {
    "scrolled": true
   },
   "outputs": [],
   "source": [
    "import tkinter as tk\n",
    "from tkinter import filedialog, messagebox\n",
    "from openpyxl import load_workbook\n",
    "root = tk.Tk()\n",
    "root.withdraw()\n",
    "root.attributes(\"-topmost\", True)\n",
    "messagebox.showinfo('OnSSET', 'Open the input file with extracted GIS data')\n",
    "input_file = filedialog.askopenfilename()\n",
    "\n",
    "onsseter = SettlementProcessor(input_file)"
   ]
  },
  {
   "cell_type": "markdown",
   "metadata": {},
   "source": [
    "# 2. Modelling period and target electrification rate\n",
    "\n",
    "Next, define the modelling period and the electrification rate to be achieved by the end of the analysis, and also for an intermediate year. Further down you will also define an intermediate year and target (in the ***Levers*** section).\n",
    "\n",
    "*On the GEP Explorer, the end year electrification rate target is set to 100%, and the intermediate target is set to follow a linear increase from the current level. If a country for example has 52% access by 2018, the target would be to increase electrification rate by 4% per year to reach 100% by 2030. Therefore the intermediate target would be 80% by 2025.*"
   ]
  },
  {
   "cell_type": "code",
   "execution_count": 3,
   "metadata": {
    "scrolled": true
   },
   "outputs": [],
   "source": [
    "start_year = 2018\n",
    "end_year = 2030\n",
    "electrification_rate_target = 1 # E.g. 1 for 100% electrification rate or 0.80 for 80% electrification rate \n",
    "\n",
    "intermediate_year = 2025\n",
    "intermediate_electrification_target = 0.6375 # E.g. for a target electrification rate of 75%, enter 0.75\n",
    "\n",
    "yearsofanalysis = [intermediate_year, end_year]\n",
    "eleclimits = {intermediate_year: intermediate_electrification_target, end_year: electrification_rate_target}\n",
    "time_steps = {intermediate_year: intermediate_year-start_year, end_year: end_year-intermediate_year}"
   ]
  },
  {
   "cell_type": "markdown",
   "metadata": {},
   "source": [
    "# 3. Levers\n",
    "\n",
    "Next, define the values of the levers. These are the 6 levers that are available on the GEP Explorer. Contrary to the GEP Explorer where each lever has two or three pre-defined values, here they can take any value."
   ]
  },
  {
   "cell_type": "markdown",
   "metadata": {},
   "source": [
    "#### Lever 1: Population growth\n",
    "\n",
    "For the first lever first, enter the expected population in the country by the end year of the analysis (e.g. 2030). \n",
    "\n",
    "*The default values in the GEP Explorer are based on the medium growth variant and high growth variant of the UN Population Database, found <a href=\"https://population.un.org/wpp/\" target=\"_blank\">here</a>.*"
   ]
  },
  {
   "cell_type": "code",
   "execution_count": 4,
   "metadata": {
    "scrolled": true
   },
   "outputs": [],
   "source": [
    "end_year_pop = 26578250"
   ]
  },
  {
   "cell_type": "markdown",
   "metadata": {},
   "source": [
    "#### Lever 2: Electricity demand target\n",
    "For the second lever, enter the target tier (level of electricity access) for urban and rural households respectively. This can take a value between \"1\" (lowest level of electricity access) and \"5\" (highest level of electricity access) as in ESMAPs Multi-Tier Framework for Measuring Electricity Access (found <a href=\"https://www.esmap.org/node/55526\" target=\"_blank\">here</a>). Alternatively, enter \"6\" to use a distribution of the tiers across the country based on poverty levels and GDP according to the methodology found <a href=\"https://www.mdpi.com/1996-1073/12/7/1395\" target=\"_blank\">here</a>.   \n",
    "\n",
    "*On the GEP Explorer, the following three electricity demand targets are used:*\n",
    "\n",
    "*Top down demand target - Low: In this case, all urban clusters are tergeted to reach the current average consumption level of electrified households, and rural settlements are assigned Tier 1.* \n",
    "\n",
    "*Top down demand target - High: In this case, all urban clusters are tergeted to reach one Tier higher than the current average consumption level of electrified households, and rural settlements are assigned Tier 3.*\n",
    "\n",
    "*Bottom up demand target (Poverty - GDP): In this case each settlement is assigned a demand target based on poverty and GDP levels as described in the methodology above. Choose \"6\" for both the urban_target_tier and rural_target_tier to use this option* "
   ]
  },
  {
   "cell_type": "code",
   "execution_count": 5,
   "metadata": {
    "scrolled": true
   },
   "outputs": [],
   "source": [
    "urban_target_tier = 4\n",
    "rural_target_tier = 1"
   ]
  },
  {
   "cell_type": "markdown",
   "metadata": {},
   "source": [
    "#### Lever 3: Intermediate investment plan\n",
    "For the third lever, restrictions can be placed on how many grid connections can be achieved in a year.\n",
    "\n",
    "*On the GEP Explorer there are two options that explore how to achieve the intermediate electrification target. Not capped scenario assumes that the electrification rate increases linearly over the modelling years; no restrictions are set in terms of feasible grid connections per year. Capped growth scenario assumes that the electrification rate increases as in the first scenario but is subject to grid connections limitation, equal to 2.5% of population per year. Note that on the platfrom, there are no restrictions applied after 2025, thus the restriction for 2030 is always set to \"999999999\"*"
   ]
  },
  {
   "cell_type": "code",
   "execution_count": 6,
   "metadata": {
    "scrolled": true
   },
   "outputs": [],
   "source": [
    "# This is the maximum amount of new households that can be connected to the grid in one year (thousands)\n",
    "annual_new_grid_connections_limit_intermediate = 999999999 # Limit per year from start year (e.g. 2018) to intermediate year (e.g. 2025)\n",
    "annual_new_grid_connections_limit_end = 999999999 # Limit per year from intermediate year (e.g. 2025) to end year (e.g. 2030)"
   ]
  },
  {
   "cell_type": "markdown",
   "metadata": {},
   "source": [
    "#### Lever 4: Grid generating cost of electricity\n",
    "This lever examines different average costs of generating electricity by the power-plants connected to the national grid. This cost is one of the factors that affect the LCoE of connecting to the grid (together with extension of the grid lines etc.), and may affect the split between grid- and off-grid technologies.\n",
    "\n",
    "*On the GEP Explorer, the Estimated on-grid cost is based on either national plans or a power optimization model. The High-on grid cost is assumed to be 25% higher*"
   ]
  },
  {
   "cell_type": "code",
   "execution_count": 7,
   "metadata": {
    "scrolled": true
   },
   "outputs": [],
   "source": [
    "grid_generation_cost = 0.047 ### This is the grid cost electricity USD/kWh as expected in the end year of the analysis"
   ]
  },
  {
   "cell_type": "markdown",
   "metadata": {},
   "source": [
    "#### Lever 5: PV system cost adjustment\n",
    "This lever reflects the role of PV system costs on electrification results. All PV based systems will be adjusted by a factor to simulate a higher or lower cost of PV systems (compared to the baseline values entered below). A value lower than 1 means lower investment costs for PV systems compared to baseline projection, and a value larger than 1 means higher investment cost for PV systems compared to baseline. E.g. \"0.75\" would mean a cost that is 25% lower compared to baseline costs.\n",
    "\n",
    "*On the GEP Explorer, three values for this parameter are explored:*\n",
    "\n",
    "*Expected PV cost: Adjustment factor set to 1*\n",
    "\n",
    "*High PV cost: Adjustment factor set to 1.25 to simulate 25% higher costs*\n",
    "\n",
    "*Low PV cost: Adjustment factor set to 0.75 to simulate 25% lower cost*"
   ]
  },
  {
   "cell_type": "code",
   "execution_count": 8,
   "metadata": {
    "scrolled": true
   },
   "outputs": [],
   "source": [
    "pv_adjustment_factor = 1"
   ]
  },
  {
   "cell_type": "markdown",
   "metadata": {},
   "source": [
    "#### Lever 6: Rollout plan\n",
    "This lever reflects the electrification approach to be examined. On the GEP Explorer, there are currently two options in use:\n",
    "\n",
    "**Nationwide Least Cost approach:** This options aims to achieve the electrification rate targets set for the intermediate and end year. For the years where the target is set below 100%, the algorithm prioritizes grid densification first (ramp up in already electrified clusters) then selection based on lowest invetsment cost per capita to choose which clusters to be electrified. Note! a generation capacity limit for the centralized grid is applied in order to keep grid expansion to sensible levels until the intermediate year. On the GEP Explorer, this follows historical trends for the countries in the region that managed the largest relative increase in recent years.*\n",
    "\n",
    "**Forced grid approach:** This can take the following forms.\n",
    "\n",
    " - Grid connection within 1 km: Presents a rollout plan that considers only “forced” grid connection to all settlements located within 1km from existing MV network (auto_intensification set equal to 1). \n",
    "\n",
    "- Grid connection within 2 km: Presents a rollout plan that considers only “forced” grid connection to all settlements located within 2km from existing MV network (auto_intensification set equal to 2).\n",
    "\n",
    "- Forced grid under a defined buffer zone (auto_intensification set equal to Xkm) & least cost approach outside of the buffer zone."
   ]
  },
  {
   "cell_type": "code",
   "execution_count": 9,
   "metadata": {
    "scrolled": true
   },
   "outputs": [],
   "source": [
    "prioritization = 6                        # Select 5, 4 or 6; 5 = Nationwide Least Cost approach, 4 = Forced grid connection within a buffer only, 6 = Forced grid within buffer + least cost out of the buffer\n",
    "\n",
    "auto_intensification = 2                  # Buffer distance (km) for automatic intensification if choosing prioritization 4 or 6\n",
    "\n",
    "# This is the maximum generation capacity that can be added to the grid in one year (MW)\n",
    "annual_grid_cap_gen_limit_intermediate = 54 # Limit per year from start year (e.g. 2018) to intermediate year (e.g. 2025)\n",
    "annual_grid_cap_gen_limit_end = 999999999 # Limit per year from intermediate year (e.g. 2025) to end year (e.g. 2030)"
   ]
  },
  {
   "cell_type": "markdown",
   "metadata": {},
   "source": [
    "# 4. Enter country specific data\n",
    "\n",
    "In addition to the levers above the user can customize a large number of variables describing the social - economic - technological environment in the selected country. \n",
    "\n",
    "**Note!** Most input values shall represent future estimates for the variable, i.e. they describe and **NOT** current values."
   ]
  },
  {
   "cell_type": "markdown",
   "metadata": {},
   "source": [
    "### a. Demographics and Social components"
   ]
  },
  {
   "cell_type": "code",
   "execution_count": 10,
   "metadata": {
    "scrolled": true
   },
   "outputs": [],
   "source": [
    "pop_start_year = 19165000       ### Write the population in the base year (e.g. 2018) \n",
    "\n",
    "urban_ratio_start_year = 0.169   ### Write the urban population population ratio in the base year (e.g. 2018)\n",
    "urban_ratio_end_year = 0.209     ### Write the urban population population ratio in the end year (e.g. 2030)\n",
    "\n",
    "num_people_per_hh_urban = 3.5     ### Write the number of people per household expected in the end year (e.g. 2030)\n",
    "num_people_per_hh_rural = 4.1   ### Write the number of people per household expected in the end year (e.g. 2030)\n",
    "\n",
    "elec_ratio_start_year = 0.13   ### Write the electrification rate in the base year (e.g. 2018)\n",
    "urban_elec_ratio = 0.58       ### Write urban electrification rate in the base year (e.g. 2018)\n",
    "rural_elec_ratio = 0.04         ### Write rural electrification rate in the base year (e.g. 2018)"
   ]
  },
  {
   "cell_type": "markdown",
   "metadata": {},
   "source": [
    "### b. Technology specifications & costs\n",
    "\n",
    "The cell below contains all the information that is used to calculate the levelized costs for all the technologies, including grid. These default values should be updated to reflect the most accurate values in the country. There are currently 7 potential technologies to include in the model:\n",
    "* Grid\n",
    "* PV Mini-grid\n",
    "* Wind Mini-grid\n",
    "* Hydro Mini-grid\n",
    "* Diesel Mini-grid\n",
    "* PV Stand-alone systems\n",
    "* Diesel Stand-alone systems\n",
    "\n",
    "First, decide whether to include diesel technologies or not:"
   ]
  },
  {
   "cell_type": "code",
   "execution_count": 11,
   "metadata": {
    "scrolled": true
   },
   "outputs": [],
   "source": [
    "diesel_techs = 0                      ### 0 = diesel NOT included, 1 = diesel included "
   ]
  },
  {
   "cell_type": "code",
   "execution_count": 12,
   "metadata": {
    "scrolled": true
   },
   "outputs": [],
   "source": [
    "grid_power_plants_capital_cost = 1363 ### The cost in USD/kW is for capacity upgrades of the grid\n",
    "grid_losses = 0.167                     ### The fraction of electricity lost in transmission and distribution (percentage)  "
   ]
  },
  {
   "cell_type": "code",
   "execution_count": 13,
   "metadata": {
    "scrolled": true
   },
   "outputs": [],
   "source": [
    "diesel_price = 0.5                   ### This is the diesel price in USD/liter as expected in the end year of the analysis."
   ]
  },
  {
   "cell_type": "code",
   "execution_count": 14,
   "metadata": {
    "scrolled": true
   },
   "outputs": [],
   "source": [
    "sa_diesel_capital_cost = 938          ### Stand-alone Diesel capital cost (USD/kW) as expected in the years of the analysis\n",
    "mg_diesel_capital_cost = 721          ### Mini-grid Diesel capital cost (USD/kW) as expected in the years of the analysis\n",
    "mg_pv_capital_cost = 2950             ### Mini-grid PV capital cost (USD/kW) as expected in the years of the analysis\n",
    "mg_wind_capital_cost = 3750           ### Mini-grid Wind capital cost (USD/kW) as expected in the years of the analysis\n",
    "mg_hydro_capital_cost = 3000          ### Mini-grid Hydro capital cost (USD/kW) as expected in the years of the analysis"
   ]
  },
  {
   "cell_type": "code",
   "execution_count": 15,
   "metadata": {
    "scrolled": true
   },
   "outputs": [],
   "source": [
    "sa_pv_capital_cost_1 = 9620          ### Stand-alone PV capital cost (USD/kW) for household systems under 20 W\n",
    "sa_pv_capital_cost_2 = 8780          ### Stand-alone PV capital cost (USD/kW) for household systems between 21-50 W\n",
    "sa_pv_capital_cost_3 = 6380           ### Stand-alone PV capital cost (USD/kW) for household systems between 51-100 W\n",
    "sa_pv_capital_cost_4 = 4470           ### Stand-alone PV capital cost (USD/kW) for household systems between 101-1000 W\n",
    "sa_pv_capital_cost_5 = 6950           ### Stand-alone PV capital cost (USD/kW) for household systems over 1 kW"
   ]
  },
  {
   "cell_type": "markdown",
   "metadata": {},
   "source": [
    "The cells below contain additional technology specifications"
   ]
  },
  {
   "cell_type": "code",
   "execution_count": 16,
   "metadata": {
    "scrolled": true
   },
   "outputs": [],
   "source": [
    "discount_rate = 0.08 # E.g. 0.08 means a discount rate of 8%\n",
    "existing_grid_cost_ratio = 0.1        ### The additional cost per round of electrification (percentage) \n",
    "\n",
    "# Transmission and distribution costs\n",
    "hv_line_capacity=69 # kV\n",
    "hv_line_cost=53000 # USD/km\n",
    "mv_line_cost = 7000 # USD/kW\n",
    "mv_line_capacity=33 # kV\n",
    "mv_line_max_length=50 # km\n",
    "mv_increase_rate=0.1\n",
    "max_mv_line_dist = 50 # km\n",
    "MV_line_amperage_limit = 8  # Ampere (A)\n",
    "lv_line_capacity=0.24 #kV\n",
    "lv_line_max_length=0.5 # km\n",
    "lv_line_cost=4250 # USD/km\n",
    "service_Transf_type=50  # kVa\n",
    "service_Transf_cost=4250  # $/unit\n",
    "max_nodes_per_serv_trans=300  # maximum number of nodes served by each service transformer\n",
    "hv_lv_transformer_cost=25000 # USD/unit\n",
    "hv_mv_transformer_cost=25000 # USD/unit\n",
    "mv_lv_transformer_cost=10000 # USD/unit\n",
    "mv_mv_transformer_cost=10000 # USD/unit\n",
    "\n",
    "\n",
    "# Centralized grid costs\n",
    "grid_calc = Technology(om_of_td_lines=0.02,\n",
    "                        distribution_losses=grid_losses,\n",
    "                        connection_cost_per_hh=125,\n",
    "                        base_to_peak_load_ratio=0.8,\n",
    "                        capacity_factor=1,\n",
    "                        tech_life=30,\n",
    "                        grid_penalty_ratio=1,\n",
    "                        grid_capacity_investment=grid_power_plants_capital_cost,\n",
    "                        grid_price=grid_generation_cost)\n",
    "\n",
    "# Mini-grid hydro costs\n",
    "mg_hydro_calc = Technology(om_of_td_lines=0.02,\n",
    "                            distribution_losses=0.05,\n",
    "                            connection_cost_per_hh=100,\n",
    "                            base_to_peak_load_ratio=0.85,\n",
    "                            capacity_factor=0.5,\n",
    "                            tech_life=30,\n",
    "                            capital_cost=mg_hydro_capital_cost,\n",
    "                            om_costs=0.02,\n",
    "                            )\n",
    "\n",
    "# Mini-grid wind costs\n",
    "mg_wind_calc = Technology(om_of_td_lines=0.02,\n",
    "                            distribution_losses=0.05,\n",
    "                            connection_cost_per_hh=100,\n",
    "                            base_to_peak_load_ratio=0.85,\n",
    "                            capital_cost=mg_wind_capital_cost,\n",
    "                            om_costs=0.02,\n",
    "                            tech_life=20,\n",
    "                            )\n",
    "\n",
    "# Mini-grid PV costs\n",
    "mg_pv_calc = Technology(om_of_td_lines=0.02,\n",
    "                        distribution_losses=0.05,\n",
    "                        connection_cost_per_hh=100,\n",
    "                        base_to_peak_load_ratio=0.85,\n",
    "                        tech_life=20,\n",
    "                        om_costs=0.015,\n",
    "                        capital_cost=mg_pv_capital_cost * pv_adjustment_factor                        \n",
    "                       )\n",
    "\n",
    "# Stand-alone PV costs\n",
    "sa_pv_calc = Technology(base_to_peak_load_ratio=0.9,\n",
    "                        tech_life=15,\n",
    "                        om_costs=0.02,\n",
    "                        capital_cost={0.020: sa_pv_capital_cost_1 * pv_adjustment_factor, \n",
    "                                      0.050: sa_pv_capital_cost_2 * pv_adjustment_factor, \n",
    "                                      0.100: sa_pv_capital_cost_3 * pv_adjustment_factor, \n",
    "                                      1: sa_pv_capital_cost_4 * pv_adjustment_factor, \n",
    "                                      5: sa_pv_capital_cost_5 * pv_adjustment_factor},\n",
    "                        standalone=True\n",
    "                        )\n",
    "\n",
    "# Mini-grid diesel costs\n",
    "mg_diesel_calc = Technology(om_of_td_lines=0.03,\n",
    "                            distribution_losses=0.05,\n",
    "                            connection_cost_per_hh=100,\n",
    "                            base_to_peak_load_ratio=0.85,\n",
    "                            capacity_factor=0.7,\n",
    "                            tech_life=15,\n",
    "                            om_costs=0.1,\n",
    "                            efficiency=0.33,\n",
    "                            capital_cost=mg_diesel_capital_cost,\n",
    "                            diesel_price=diesel_price,\n",
    "                            diesel_truck_consumption=33.7,\n",
    "                            diesel_truck_volume=15000,\n",
    "                            )\n",
    "\n",
    "# Stand-alone diesel costs\n",
    "sa_diesel_calc = Technology(base_to_peak_load_ratio=0.9,\n",
    "                            capacity_factor=0.7,\n",
    "                            tech_life=10,\n",
    "                            om_costs=0.1,\n",
    "                            capital_cost=sa_diesel_capital_cost,\n",
    "                            diesel_price=diesel_price,\n",
    "                            standalone=True,\n",
    "                            efficiency=0.28,\n",
    "                            diesel_truck_consumption=14,\n",
    "                            diesel_truck_volume=300)"
   ]
  },
  {
   "cell_type": "markdown",
   "metadata": {},
   "source": [
    "# 5. Calibration of start year values and general information\n",
    "\n",
    "The following steps calibrate the start year conditions in the country in terms of population and current electrification rate, and also adds some additional useful information to be used in the further calculations. If you have retrieved the input file from Energydata.info some of these steps are already completed, and you may skip those cells below where there is a note. "
   ]
  },
  {
   "cell_type": "code",
   "execution_count": 17,
   "metadata": {},
   "outputs": [
    {
     "name": "stderr",
     "output_type": "stream",
     "text": [
      "2020-07-20 22:00:41,184\t\tCalibrate current population\n",
      "2020-07-20 22:00:43,433\t\tProject future population\n"
     ]
    },
    {
     "data": {
      "text/markdown": [
       "#### The csv file has been imported correctly. Here is a preview:"
      ],
      "text/plain": [
       "<IPython.core.display.Markdown object>"
      ]
     },
     "metadata": {},
     "output_type": "display_data"
    },
    {
     "data": {
      "text/html": [
       "<div>\n",
       "<style scoped>\n",
       "    .dataframe tbody tr th:only-of-type {\n",
       "        vertical-align: middle;\n",
       "    }\n",
       "\n",
       "    .dataframe tbody tr th {\n",
       "        vertical-align: top;\n",
       "    }\n",
       "\n",
       "    .dataframe thead th {\n",
       "        text-align: right;\n",
       "    }\n",
       "</style>\n",
       "<table border=\"1\" class=\"dataframe\">\n",
       "  <thead>\n",
       "    <tr style=\"text-align: right;\">\n",
       "      <th></th>\n",
       "      <th>Country</th>\n",
       "      <th>Pop</th>\n",
       "      <th>NightLights</th>\n",
       "      <th>TravelHours</th>\n",
       "      <th>GHI</th>\n",
       "      <th>WindVel</th>\n",
       "      <th>Hydropower</th>\n",
       "      <th>HydropowerDist</th>\n",
       "    </tr>\n",
       "  </thead>\n",
       "  <tbody>\n",
       "    <tr>\n",
       "      <th>144007</th>\n",
       "      <td>Malawi</td>\n",
       "      <td>136.59820</td>\n",
       "      <td>0.09538</td>\n",
       "      <td>0.90000</td>\n",
       "      <td>1993</td>\n",
       "      <td>4.47028</td>\n",
       "      <td>267</td>\n",
       "      <td>38.10756</td>\n",
       "    </tr>\n",
       "    <tr>\n",
       "      <th>15254</th>\n",
       "      <td>Malawi</td>\n",
       "      <td>6.16935</td>\n",
       "      <td>0.00000</td>\n",
       "      <td>1.78333</td>\n",
       "      <td>2078</td>\n",
       "      <td>5.11784</td>\n",
       "      <td>370</td>\n",
       "      <td>3.84704</td>\n",
       "    </tr>\n",
       "    <tr>\n",
       "      <th>94344</th>\n",
       "      <td>Malawi</td>\n",
       "      <td>29.55717</td>\n",
       "      <td>0.00000</td>\n",
       "      <td>0.76667</td>\n",
       "      <td>2028</td>\n",
       "      <td>3.99215</td>\n",
       "      <td>509</td>\n",
       "      <td>8.04709</td>\n",
       "    </tr>\n",
       "    <tr>\n",
       "      <th>77087</th>\n",
       "      <td>Malawi</td>\n",
       "      <td>41.52894</td>\n",
       "      <td>0.00000</td>\n",
       "      <td>0.33333</td>\n",
       "      <td>2069</td>\n",
       "      <td>4.36715</td>\n",
       "      <td>271</td>\n",
       "      <td>24.02759</td>\n",
       "    </tr>\n",
       "    <tr>\n",
       "      <th>115975</th>\n",
       "      <td>Malawi</td>\n",
       "      <td>12.51305</td>\n",
       "      <td>0.00000</td>\n",
       "      <td>0.88333</td>\n",
       "      <td>2065</td>\n",
       "      <td>4.21953</td>\n",
       "      <td>102</td>\n",
       "      <td>13.61787</td>\n",
       "    </tr>\n",
       "    <tr>\n",
       "      <th>56987</th>\n",
       "      <td>Malawi</td>\n",
       "      <td>3.38536</td>\n",
       "      <td>0.00000</td>\n",
       "      <td>4.03333</td>\n",
       "      <td>2101</td>\n",
       "      <td>4.61385</td>\n",
       "      <td>270</td>\n",
       "      <td>19.26122</td>\n",
       "    </tr>\n",
       "    <tr>\n",
       "      <th>189515</th>\n",
       "      <td>Malawi</td>\n",
       "      <td>3.65270</td>\n",
       "      <td>0.00000</td>\n",
       "      <td>0.68333</td>\n",
       "      <td>2039</td>\n",
       "      <td>4.11902</td>\n",
       "      <td>150</td>\n",
       "      <td>7.75153</td>\n",
       "    </tr>\n",
       "  </tbody>\n",
       "</table>\n",
       "</div>"
      ],
      "text/plain": [
       "       Country        Pop  NightLights  TravelHours   GHI  WindVel  \\\n",
       "144007  Malawi  136.59820      0.09538      0.90000  1993  4.47028   \n",
       "15254   Malawi    6.16935      0.00000      1.78333  2078  5.11784   \n",
       "94344   Malawi   29.55717      0.00000      0.76667  2028  3.99215   \n",
       "77087   Malawi   41.52894      0.00000      0.33333  2069  4.36715   \n",
       "115975  Malawi   12.51305      0.00000      0.88333  2065  4.21953   \n",
       "56987   Malawi    3.38536      0.00000      4.03333  2101  4.61385   \n",
       "189515  Malawi    3.65270      0.00000      0.68333  2039  4.11902   \n",
       "\n",
       "        Hydropower  HydropowerDist  \n",
       "144007         267        38.10756  \n",
       "15254          370         3.84704  \n",
       "94344          509         8.04709  \n",
       "77087          271        24.02759  \n",
       "115975         102        13.61787  \n",
       "56987          270        19.26122  \n",
       "189515         150         7.75153  "
      ]
     },
     "metadata": {},
     "output_type": "display_data"
    }
   ],
   "source": [
    "onsseter.calibrate_pop_and_urban(pop_start_year, end_year_pop, end_year_pop, urban_ratio_start_year, \n",
    "                                 urban_ratio_end_year, start_year, end_year, intermediate_year)\n",
    "\n",
    "display(Markdown('#### The csv file has been imported correctly. Here is a preview:'))\n",
    "display(onsseter.df[['Country','Pop','NightLights','TravelHours','GHI','WindVel','Hydropower','HydropowerDist']].sample(7))"
   ]
  },
  {
   "cell_type": "markdown",
   "metadata": {},
   "source": [
    "**Note!**\n",
    "*If you have retrieved an input file from Energydata.info, this step has already been completed and does not need to be run again. You may proceed to the next step*"
   ]
  },
  {
   "cell_type": "code",
   "execution_count": 18,
   "metadata": {
    "scrolled": true
   },
   "outputs": [
    {
     "name": "stderr",
     "output_type": "stream",
     "text": [
      "2020-07-20 22:01:01,179\t\tEnsure that columns that are supposed to be numeric are numeric\n",
      "2020-07-20 22:01:01,194\t\tAdding column \"ElectrificationOrder\"\n",
      "2020-07-20 22:01:01,196\t\tReplace null values with zero\n",
      "2020-07-20 22:01:01,223\t\tSort by country, Y and X\n",
      "2020-07-20 22:01:01,338\t\tClassify road dist\n",
      "2020-07-20 22:01:03,564\t\tClassify substation dist\n",
      "2020-07-20 22:01:05,844\t\tClassify land cover\n",
      "2020-07-20 22:01:08,105\t\tClassify elevation\n",
      "2020-07-20 22:01:10,357\t\tClassify slope\n",
      "2020-07-20 22:01:12,604\t\tCombined classification\n",
      "2020-07-20 22:01:12,625\t\tGrid penalty\n",
      "2020-07-20 22:01:15,068\t\tCalculate Wind CF\n"
     ]
    }
   ],
   "source": [
    "onsseter.condition_df()\n",
    "onsseter.grid_penalties()\n",
    "onsseter.calc_wind_cfs()"
   ]
  },
  {
   "cell_type": "markdown",
   "metadata": {},
   "source": [
    "#### Calibration of currently electrified settlements\n",
    "\n",
    "The model calibrates which settlements are likely to be electrified in the start year, to match the national statistical values defined above. A settlement is considered to be electrified if it meets all of the following conditions:\n",
    "- Has more night-time lights than the defined threshold (this is set to 0 by default)\n",
    "- Is closer to the existing grid network than the distance limit\n",
    "- Has more population than the threshold\n",
    "\n",
    "First, define the threshold limits. Then run the calibration and check if the results seem okay. Else, redefine these thresholds and run again.\n",
    "\n",
    "**Note!**\n",
    "*If you have retrieved an input file from Energydata.info, this step has already been completed and does not need to be run again. You may proceed to the next step*"
   ]
  },
  {
   "cell_type": "code",
   "execution_count": 19,
   "metadata": {
    "scrolled": false
   },
   "outputs": [
    {
     "name": "stderr",
     "output_type": "stream",
     "text": [
      "2020-07-20 22:01:21,456\t\tCalibrate current electrification\n"
     ]
    },
    {
     "name": "stdout",
     "output_type": "stream",
     "text": [
      "We have identified the existence of transformers or MV lines as input data; therefore we proceed using those for the calibration\n",
      "The modelled electrification rate achieved is 0.13.Urban elec. rate is 0.59 and Rural elec. rate is 0.04. \n",
      "If this is not acceptable please revise this part of the algorithm\n"
     ]
    }
   ],
   "source": [
    "min_night_lights = 0    ### 0 Indicates no night light, while any number above refers to the night-lights intensity\n",
    "min_pop = 0      ### Settlement population above which we can assume that it could be electrified\n",
    "\n",
    "max_service_transformer_distance = 2    ### Distance  in km from the existing grid network below which we can assume a settlement could be electrified\n",
    "max_mv_line_distance = 2\n",
    "max_hv_line_distance = 25\n",
    "\n",
    "elec_modelled, urban_internal_elec_ratio, rural_internal_elec_ratio = onsseter.elec_current_and_future(elec_ratio_start_year, \n",
    "                                                                                                       urban_elec_ratio, \n",
    "                                                                                                       rural_elec_ratio, \n",
    "                                                                                                       pop_start_year, \n",
    "                                                                                                       start_year,\n",
    "                                                                                                       min_night_lights=min_night_lights, \n",
    "                                                                                                       min_pop=min_pop, \n",
    "                                                                                                       max_transformer_dist=max_service_transformer_distance, \n",
    "                                                                                                       max_mv_dist=max_mv_line_distance, \n",
    "                                                                                                       max_hv_dist=max_hv_line_distance) \n",
    "\n",
    "onsseter.grid_reach_estimate(start_year, gridspeed=9999)"
   ]
  },
  {
   "cell_type": "markdown",
   "metadata": {},
   "source": [
    "The figure below show the results of the calibration. Settlements in **blue** are considered to be (at least partly) electrified already in the start year of the analysis, while settlements in **yellow** are yet to be electrified. Re-running the calibration step with different intial values may change the map below."
   ]
  },
  {
   "cell_type": "code",
   "execution_count": 20,
   "metadata": {
    "scrolled": false
   },
   "outputs": [
    {
     "data": {
      "image/png": "[encoded data removed]",
      "text/plain": [
       "<Figure size 648x648 with 1 Axes>"
      ]
     },
     "metadata": {
      "needs_background": "light"
     },
     "output_type": "display_data"
    },
    {
     "data": {
      "text/plain": [
       "<Figure size 2160x2160 with 0 Axes>"
      ]
     },
     "metadata": {},
     "output_type": "display_data"
    }
   ],
   "source": [
    "from matplotlib import pyplot as plt\n",
    "colors = ['#73B2FF','#EDD100','#EDA800','#1F6600','#98E600','#70A800','#1FA800']\n",
    "plt.figure(figsize=(9,9))\n",
    "plt.plot(onsseter.df.loc[onsseter.df[SET_ELEC_CURRENT]==0, SET_X_DEG], onsseter.df.loc[onsseter.df[SET_ELEC_CURRENT]==0, SET_Y_DEG], 'y,')\n",
    "plt.plot(onsseter.df.loc[onsseter.df[SET_ELEC_CURRENT]==1, SET_X_DEG], onsseter.df.loc[onsseter.df[SET_ELEC_CURRENT]==1, SET_Y_DEG], 'b,')\n",
    "if onsseter.df[SET_X_DEG].max() - onsseter.df[SET_X_DEG].min() > onsseter.df[SET_Y_DEG].max() - onsseter.df[SET_Y_DEG].min():\n",
    "    plt.xlim(onsseter.df[SET_X_DEG].min() - 1, onsseter.df[SET_X_DEG].max() + 1)\n",
    "    plt.ylim((onsseter.df[SET_Y_DEG].min()+onsseter.df[SET_Y_DEG].max())/2 - 0.5*abs(onsseter.df[SET_X_DEG].max() - onsseter.df[SET_X_DEG].min()) - 1, (onsseter.df[SET_Y_DEG].min()+onsseter.df[SET_Y_DEG].max())/2 + 0.5*abs(onsseter.df[SET_X_DEG].max() - onsseter.df[SET_X_DEG].min()) + 1)\n",
    "else:\n",
    "    plt.xlim((onsseter.df[SET_X_DEG].min()+onsseter.df[SET_X_DEG].max())/2 - 0.5*abs(onsseter.df[SET_Y_DEG].max() - onsseter.df[SET_Y_DEG].min()) - 1, (onsseter.df[SET_X_DEG].min()+onsseter.df[SET_X_DEG].max())/2 + 0.5*abs(onsseter.df[SET_Y_DEG].max() - onsseter.df[SET_Y_DEG].min()) + 1)\n",
    "    plt.ylim(onsseter.df[SET_Y_DEG].min() -1, onsseter.df[SET_Y_DEG].max() +1)\n",
    "plt.figure(figsize=(30,30))\n",
    "logging.getLogger('matplotlib.font_manager').disabled = True"
   ]
  },
  {
   "cell_type": "markdown",
   "metadata": {},
   "source": [
    "In some cases it can be of interest to filter out clusters with very low populations, e.g. to increase computational speed or to remove false positives in the data. Setting the **pop_threshold** variable below larger than 0 will filter out all settlements below that threshold form the analysis."
   ]
  },
  {
   "cell_type": "code",
   "execution_count": 21,
   "metadata": {
    "scrolled": true
   },
   "outputs": [],
   "source": [
    "pop_threshold = 0  # If you wish to remove low density population cells, enter a threshold above 0\n",
    "onsseter.df = onsseter.df.loc[onsseter.df[SET_POP] > pop_threshold]"
   ]
  },
  {
   "cell_type": "markdown",
   "metadata": {},
   "source": [
    "# 6. Define the demand\n",
    "\n",
    "This piece of code defines the target electricity demand in the region/country. Residential electricity demand is defined as kWh/household/year, while all other demands are defined as kWh/capita/year. Note that at the moment, all productive uses demands are set to 0 by default."
   ]
  },
  {
   "cell_type": "code",
   "execution_count": 22,
   "metadata": {
    "scrolled": true
   },
   "outputs": [
    {
     "name": "stderr",
     "output_type": "stream",
     "text": [
      "2020-07-20 22:01:36,444\t\tPopulate ResidentialDemandTier columns\n"
     ]
    }
   ],
   "source": [
    "# Define the annual household electricity targets to choose from\n",
    "tier_1 = 38.7  # 38.7 refers to kWh/household/year. \n",
    "tier_2 = 219\n",
    "tier_3 = 803\n",
    "tier_4 = 2117\n",
    "tier_5 = 2993\n",
    "\n",
    "onsseter.prepare_wtf_tier_columns(num_people_per_hh_rural, num_people_per_hh_urban, tier_1, tier_2, tier_3, tier_4, tier_5)"
   ]
  },
  {
   "cell_type": "code",
   "execution_count": 23,
   "metadata": {
    "scrolled": true
   },
   "outputs": [],
   "source": [
    "onsseter.df[SET_EDU_DEMAND] = 0           # Demand for educational facilities (kWh/capita/year)\n",
    "onsseter.df[SET_HEALTH_DEMAND] = 0        # Demand for health facilities (kWh/capita/year)\n",
    "onsseter.df[SET_COMMERCIAL_DEMAND] = 0    # Demand for commercial activities (kWh/capita/year)\n",
    "onsseter.df[SET_AGRI_DEMAND] = 0          # Demand for agricultural activities (kWh/capita/year)\n",
    "productive_demand = 0 # 1 if productive demand is defined and should be included, else 0"
   ]
  },
  {
   "cell_type": "markdown",
   "metadata": {},
   "source": [
    "# 7. Start a scenario run, which calculate and compare technology costs for every settlement in the country\n",
    "\n",
    "Based on the previous calculation this piece of code identifies the LCoE that every off-grid technology can provide, for each single populated settlement of the selected country. The cell then takes all the currently grid-connected points in the country, and looks at the points within a certain distance from them, to see if it is more economical to connect them to the grid, or to use one of the off-grid technologies calculated above. Once more points are connected to the grid, the process is repeated, so that new points close to those points might also be connected. This is repeated until there are no new points to connect to the grid."
   ]
  },
  {
   "cell_type": "code",
   "execution_count": 24,
   "metadata": {},
   "outputs": [],
   "source": [
    "# You may select to calculate investment cost breakdown (set as 1) or only total investment (set as 2). The latter is faster\n",
    "cost_choice = 1"
   ]
  },
  {
   "cell_type": "code",
   "execution_count": 25,
   "metadata": {
    "scrolled": false
   },
   "outputs": [
    {
     "name": "stderr",
     "output_type": "stream",
     "text": [
      "2020-07-20 22:01:36,478\t\tDetermine current MV line length\n",
      "2020-07-20 22:01:36,627\t\tCalculate new connections\n",
      "2020-07-20 22:01:36,733\t\tSetting electrification demand as per target per year\n",
      "2020-07-20 22:01:37,088\t\tCalculate minigrid hydro LCOE\n",
      "2020-07-20 22:01:43,240\t\t58 potential hydropower sites were utilised to maximum capacity\n",
      "2020-07-20 22:01:43,241\t\tCalculate minigrid PV LCOE\n",
      "2020-07-20 22:02:09,348\t\tCalculate minigrid wind LCOE\n",
      "2020-07-20 22:02:12,658\t\tCalculate standalone PV LCOE\n",
      "2020-07-20 22:02:38,433\t\tDetermine minimum technology (off-grid)\n",
      "2020-07-20 22:02:38,673\t\tDetermine minimum tech LCOE\n",
      "2020-07-20 22:02:38,907\t\tDefine the initial electrification status\n",
      "2020-07-20 22:02:39,082\t\tElectrification algorithm starts running\n",
      "2020-07-20 22:02:56,439\t\tInitially 58636 electrified\n",
      "2020-07-20 22:02:57,875\t\tElectrification loop 1 with 2188 electrified\n",
      "2020-07-20 22:02:58,705\t\tElectrification loop 2 with 1231 electrified\n",
      "2020-07-20 22:02:59,203\t\tElectrification loop 3 with 219 electrified\n",
      "2020-07-20 22:02:59,613\t\tElectrification loop 4 with 42 electrified\n",
      "2020-07-20 22:02:59,936\t\tElectrification loop 5 with 5 electrified\n",
      "2020-07-20 22:03:00,081\t\tElectrification loop 6 with 1 electrified\n",
      "2020-07-20 22:03:00,268\t\tDetermine minimum overall\n",
      "2020-07-20 22:03:00,557\t\tDetermine minimum overall LCOE\n",
      "2020-07-20 22:03:00,592\t\tAdd technology codes\n",
      "2020-07-20 22:03:00,822\t\tCalculate total discounted investment cost\n",
      "2020-07-20 22:03:26,217\t\tCalculate LV discounted investment cost\n",
      "2020-07-20 22:03:50,056\t\tCalculate MV discounted investment cost\n",
      "2020-07-20 22:04:13,685\t\tCalculate HV discounted investment cost\n",
      "2020-07-20 22:04:37,373\t\tCalculate transformer discounted investment cost\n",
      "2020-07-20 22:05:01,121\t\tCalculate connection discounted investment cost\n",
      "2020-07-20 22:05:24,691\t\tCalculating discounted capital investment\n",
      "2020-07-20 22:05:48,629\t\tCalculating discounted recurring investment\n",
      "2020-07-20 22:06:13,807\t\tDetermine electrification limits\n",
      "2020-07-20 22:06:19,243\t\tDetermine final electrification decision\n",
      "2020-07-20 22:06:19,428\t\tCalculate new capacity\n"
     ]
    },
    {
     "name": "stdout",
     "output_type": "stream",
     "text": [
      "final elecrate for the year is: 0.6331746051229258\n",
      "The electrification rate achieved in 2025 is 63.3 %\n"
     ]
    },
    {
     "name": "stderr",
     "output_type": "stream",
     "text": [
      "2020-07-20 22:06:19,560\t\tCalculate new connections\n",
      "2020-07-20 22:06:19,740\t\tSetting electrification demand as per target per year\n",
      "2020-07-20 22:06:19,876\t\tCalculate minigrid hydro LCOE\n",
      "2020-07-20 22:06:26,316\t\t56 potential hydropower sites were utilised to maximum capacity\n",
      "2020-07-20 22:06:26,317\t\tCalculate minigrid PV LCOE\n",
      "2020-07-20 22:06:52,601\t\tCalculate minigrid wind LCOE\n",
      "2020-07-20 22:06:56,220\t\tCalculate standalone PV LCOE\n",
      "2020-07-20 22:07:22,569\t\tDetermine minimum technology (off-grid)\n",
      "2020-07-20 22:07:22,839\t\tDetermine minimum tech LCOE\n",
      "2020-07-20 22:07:23,141\t\tDefine the initial electrification status\n",
      "2020-07-20 22:07:23,368\t\tElectrification algorithm starts running\n",
      "2020-07-20 22:07:39,576\t\tInitially 58644 electrified\n",
      "2020-07-20 22:07:40,983\t\tElectrification loop 1 with 3449 electrified\n",
      "2020-07-20 22:07:41,536\t\tElectrification loop 2 with 790 electrified\n",
      "2020-07-20 22:07:41,833\t\tElectrification loop 3 with 81 electrified\n",
      "2020-07-20 22:07:42,091\t\tElectrification loop 4 with 8 electrified\n",
      "2020-07-20 22:07:42,220\t\tElectrification loop 5 with 1 electrified\n",
      "2020-07-20 22:07:42,407\t\tDetermine minimum overall\n",
      "2020-07-20 22:07:42,726\t\tDetermine minimum overall LCOE\n",
      "2020-07-20 22:07:42,781\t\tAdd technology codes\n",
      "2020-07-20 22:07:43,063\t\tCalculate total discounted investment cost\n",
      "2020-07-20 22:08:08,758\t\tCalculate LV discounted investment cost\n",
      "2020-07-20 22:08:33,014\t\tCalculate MV discounted investment cost\n",
      "2020-07-20 22:08:57,386\t\tCalculate HV discounted investment cost\n",
      "2020-07-20 22:09:21,878\t\tCalculate transformer discounted investment cost\n",
      "2020-07-20 22:09:46,453\t\tCalculate connection discounted investment cost\n",
      "2020-07-20 22:10:10,889\t\tCalculating discounted capital investment\n",
      "2020-07-20 22:10:35,523\t\tCalculating discounted recurring investment\n",
      "2020-07-20 22:11:02,847\t\tDetermine electrification limits\n",
      "2020-07-20 22:11:02,865\t\tDetermine final electrification decision\n"
     ]
    },
    {
     "name": "stdout",
     "output_type": "stream",
     "text": [
      "The electrification rate achieved in 2030 is 100.0 %\n"
     ]
    },
    {
     "name": "stderr",
     "output_type": "stream",
     "text": [
      "2020-07-20 22:11:03,224\t\tCalculate new capacity\n"
     ]
    }
   ],
   "source": [
    "onsseter.current_mv_line_dist()\n",
    "\n",
    "Technology.set_default_values(base_year=start_year, start_year=start_year, end_year=end_year, discount_rate=discount_rate,\n",
    "                             HV_line_type=hv_line_capacity, HV_line_cost=hv_line_cost, MV_line_type=mv_line_capacity,\n",
    "                             MV_line_amperage_limit=MV_line_amperage_limit, MV_line_cost=mv_line_cost, LV_line_type=lv_line_capacity,\n",
    "                             LV_line_cost=lv_line_cost, LV_line_max_length=lv_line_max_length, \n",
    "                             service_Transf_type=service_Transf_type, service_Transf_cost = service_Transf_cost,\n",
    "                             max_nodes_per_serv_trans=max_nodes_per_serv_trans, MV_LV_sub_station_cost=mv_lv_transformer_cost,\n",
    "                             MV_MV_sub_station_cost=mv_mv_transformer_cost, HV_LV_sub_station_cost=hv_lv_transformer_cost,\n",
    "                             HV_MV_sub_station_cost=hv_mv_transformer_cost)\n",
    "\n",
    "for year in yearsofanalysis:\n",
    "    #end_year_pop = 1\n",
    "        \n",
    "    eleclimit = eleclimits[year]\n",
    "    time_step = time_steps[year]\n",
    "    \n",
    "    \n",
    "    if year == end_year:\n",
    "        grid_connect_limit = time_step * annual_new_grid_connections_limit_end * 1000\n",
    "        grid_cap_gen_limit = time_step * annual_grid_cap_gen_limit_end * 1000\n",
    "    else:\n",
    "        grid_connect_limit = time_step * annual_new_grid_connections_limit_intermediate * 1000\n",
    "        grid_cap_gen_limit = time_step * annual_grid_cap_gen_limit_intermediate * 1000\n",
    "        \n",
    "    onsseter.set_scenario_variables(year, num_people_per_hh_rural, num_people_per_hh_urban, time_step,\n",
    "                                            start_year, urban_elec_ratio, rural_elec_ratio, urban_target_tier, \n",
    "                                            rural_target_tier, end_year_pop, productive_demand)\n",
    "\n",
    "    onsseter.calculate_off_grid_lcoes(mg_hydro_calc, mg_wind_calc, mg_pv_calc, sa_pv_calc, mg_diesel_calc,\n",
    "                                        sa_diesel_calc, 0, 0, 0, 0, 0, year, start_year, end_year, time_step,\n",
    "                                     diesel_techs=diesel_techs)\n",
    "\n",
    "    onsseter.pre_electrification(grid_calc, grid_generation_cost, year, time_step, start_year)\n",
    "\n",
    "    onsseter.run_elec(grid_calc, max_mv_line_dist, year, start_year, end_year, time_step,\n",
    "                              grid_cap_gen_limit, grid_connect_limit, auto_intensification, prioritization)\n",
    "\n",
    "    onsseter.results_columns(mg_hydro_calc, mg_wind_calc, mg_pv_calc, sa_pv_calc, mg_diesel_calc,\n",
    "                                     sa_diesel_calc, grid_calc, 0, 0, 0, 0, 0, year)\n",
    "\n",
    "    onsseter.calculate_investments(mg_hydro_calc, mg_wind_calc, mg_pv_calc, sa_pv_calc, mg_diesel_calc,\n",
    "                                           sa_diesel_calc, grid_calc, 0, 0, 0, 0, 0, year, end_year, time_step, cost_choice)\n",
    "\n",
    "    onsseter.apply_limitations(eleclimit, year, time_step, prioritization, auto_intensification)\n",
    "\n",
    "    onsseter.final_decision(mg_hydro_calc, mg_wind_calc, mg_pv_calc, sa_pv_calc, mg_diesel_calc, sa_diesel_calc,\n",
    "                                    grid_calc, 0, 0, 0, 0, 0, year, end_year, time_step)    "
   ]
  },
  {
   "cell_type": "markdown",
   "metadata": {},
   "source": [
    "# 8. Results, Summaries and Visualization\n",
    "With all the calculations and grid-extensions complete, this block gets the final results on which technology was chosen for each point, how much capacity needs to be installed and what it will cost. Then the summaries, plots and maps are generated."
   ]
  },
  {
   "cell_type": "code",
   "execution_count": 26,
   "metadata": {
    "scrolled": true
   },
   "outputs": [
    {
     "name": "stderr",
     "output_type": "stream",
     "text": [
      "<ipython-input-26-cbc8eff32ed1>:29: DeprecationWarning: The default dtype for empty Series will be 'object' instead of 'float64' in a future version. Specify a dtype explicitly to silence this warning.\n",
      "  summary = pd.Series(index=sumtechs, name='country')\n"
     ]
    }
   ],
   "source": [
    "elements = []\n",
    "for year in yearsofanalysis:\n",
    "    elements.append(\"Population{}\".format(year))\n",
    "    elements.append(\"NewConnections{}\".format(year))\n",
    "    elements.append(\"Capacity{}\".format(year))\n",
    "    elements.append(\"Investment{}\".format(year))\n",
    "\n",
    "techs = [\"Grid\", \"SA_Diesel\", \"SA_PV\", \"MG_Diesel\", \"MG_PV\", \"MG_Wind\", \"MG_Hydro\"]\n",
    "\n",
    "sumtechs = []\n",
    "for year in yearsofanalysis:\n",
    "    sumtechs.extend([\"Population{}\".format(year) + t for t in techs])\n",
    "    sumtechs.extend([\"NewConnections{}\".format(year) + t for t in techs])\n",
    "    sumtechs.extend([\"Capacity{}\".format(year) + t for t in techs])\n",
    "    sumtechs.extend([\"Investment{}\".format(year) + t for t in techs])\n",
    "    \n",
    "if cost_choice == 1:\n",
    "    for year in yearsofanalysis:\n",
    "        sumtechs.extend([\"InvestmentCostLV{}\".format(year) + t for t in techs])\n",
    "        sumtechs.extend([\"InvestmentCostMV{}\".format(year) + t for t in techs])\n",
    "        sumtechs.extend([\"InvestmentCostHV{}\".format(year) + t for t in techs])\n",
    "        sumtechs.extend([\"InvestmentCostTransformer{}\".format(year) + t for t in techs])\n",
    "        sumtechs.extend([\"InvestmentCostConnection{}\".format(year) + t for t in techs])\n",
    "        sumtechs.extend([\"CapitalCapacityInvestment{}\".format(year) + t for t in techs])\n",
    "        sumtechs.extend([\"RecurringCosts{}\".format(year) + t for t in techs])\n",
    "    else:\n",
    "        pass\n",
    "\n",
    "summary = pd.Series(index=sumtechs, name='country')\n",
    "\n",
    "if cost_choice == 1:\n",
    "    for year in yearsofanalysis:\n",
    "        for t in techs:\n",
    "            summary.loc[\"Population{}\".format(year) + t] = onsseter.df.loc[(onsseter.df[SET_MIN_OVERALL + '{}'.format(year)] == t + '{}'.format(year)) & (onsseter.df[SET_ELEC_FINAL_CODE + '{}'.format(year)] < 99), SET_POP + '{}'.format(year)].sum()\n",
    "            summary.loc[\"NewConnections{}\".format(year) + t] = onsseter.df.loc[(onsseter.df[SET_MIN_OVERALL + '{}'.format(year)] == t + '{}'.format(year)) & (onsseter.df[SET_ELEC_FINAL_CODE + '{}'.format(year)] < 99), SET_NEW_CONNECTIONS + '{}'.format(year)].sum()\n",
    "            summary.loc[\"Capacity{}\".format(year) + t] = onsseter.df.loc[(onsseter.df[SET_MIN_OVERALL + '{}'.format(year)] == t + '{}'.format(year)) & (onsseter.df[SET_ELEC_FINAL_CODE + '{}'.format(year)] < 99), SET_NEW_CAPACITY + '{}'.format(year)].sum()/1000\n",
    "            summary.loc[\"Investment{}\".format(year) + t] = onsseter.df.loc[(onsseter.df[SET_MIN_OVERALL + '{}'.format(year)] == t + '{}'.format(year)) & (onsseter.df[SET_ELEC_FINAL_CODE + '{}'.format(year)] < 99), SET_INVESTMENT_COST + '{}'.format(year)].sum()\n",
    "            summary.loc[\"InvestmentCostLV{}\".format(year) + t] = onsseter.df.loc[(onsseter.df[SET_MIN_OVERALL + '{}'.format(year)] == t + '{}'.format(year)) & (onsseter.df[SET_ELEC_FINAL_CODE + '{}'.format(year)] < 99), \"InvestmentCostLV\" + '{}'.format(year)].sum()\n",
    "            summary.loc[\"InvestmentCostMV{}\".format(year) + t] = onsseter.df.loc[(onsseter.df[SET_MIN_OVERALL + '{}'.format(year)] == t + '{}'.format(year)) & (onsseter.df[SET_ELEC_FINAL_CODE + '{}'.format(year)] < 99), \"InvestmentCostMV\" + '{}'.format(year)].sum()\n",
    "            summary.loc[\"InvestmentCostHV{}\".format(year) + t] = onsseter.df.loc[(onsseter.df[SET_MIN_OVERALL + '{}'.format(year)] == t + '{}'.format(year)) & (onsseter.df[SET_ELEC_FINAL_CODE + '{}'.format(year)] < 99), \"InvestmentCostHV\" + '{}'.format(year)].sum()\n",
    "            summary.loc[\"InvestmentCostTransformer{}\".format(year) + t] = onsseter.df.loc[(onsseter.df[SET_MIN_OVERALL + '{}'.format(year)] == t + '{}'.format(year)) & (onsseter.df[SET_ELEC_FINAL_CODE + '{}'.format(year)] < 99), \"InvestmentCostTransformer\" + '{}'.format(year)].sum()\n",
    "            summary.loc[\"InvestmentCostConnection{}\".format(year) + t] = onsseter.df.loc[(onsseter.df[SET_MIN_OVERALL + '{}'.format(year)] == t + '{}'.format(year)) & (onsseter.df[SET_ELEC_FINAL_CODE + '{}'.format(year)] < 99), \"InvestmentCostConnection\" + '{}'.format(year)].sum()\n",
    "            summary.loc[\"CapitalCapacityInvestment{}\".format(year) + t] = onsseter.df.loc[(onsseter.df[SET_MIN_OVERALL + '{}'.format(year)] == t + '{}'.format(year)) & (onsseter.df[SET_ELEC_FINAL_CODE + '{}'.format(year)] < 99), \"CapitalCapacityInvestment\" + '{}'.format(year)].sum()\n",
    "            summary.loc[\"RecurringCosts{}\".format(year) + t] = onsseter.df.loc[(onsseter.df[SET_MIN_OVERALL + '{}'.format(year)] == t + '{}'.format(year)) & (onsseter.df[SET_ELEC_FINAL_CODE + '{}'.format(year)] < 99), \"RecurringCosts\" + '{}'.format(year)].sum()\n",
    "else:\n",
    "    for year in yearsofanalysis:\n",
    "        for t in techs:\n",
    "            summary.loc[\"Population{}\".format(year) + t] = onsseter.df.loc[(onsseter.df[SET_MIN_OVERALL + '{}'.format(year)] == t + '{}'.format(year)) & (onsseter.df[SET_ELEC_FINAL_CODE + '{}'.format(year)] < 99), SET_POP + '{}'.format(year)].sum()\n",
    "            summary.loc[\"NewConnections{}\".format(year) + t] = onsseter.df.loc[(onsseter.df[SET_MIN_OVERALL + '{}'.format(year)] == t + '{}'.format(year)) & (onsseter.df[SET_ELEC_FINAL_CODE + '{}'.format(year)] < 99), SET_NEW_CONNECTIONS + '{}'.format(year)].sum()\n",
    "            summary.loc[\"Capacity{}\".format(year) + t] = onsseter.df.loc[(onsseter.df[SET_MIN_OVERALL + '{}'.format(year)] == t + '{}'.format(year)) & (onsseter.df[SET_ELEC_FINAL_CODE + '{}'.format(year)] < 99), SET_NEW_CAPACITY + '{}'.format(year)].sum()/1000\n",
    "            summary.loc[\"Investment{}\".format(year) + t] = onsseter.df.loc[(onsseter.df[SET_MIN_OVERALL + '{}'.format(year)] == t + '{}'.format(year)) & (onsseter.df[SET_ELEC_FINAL_CODE + '{}'.format(year)] < 99), SET_INVESTMENT_COST + '{}'.format(year)].sum()\n",
    "    \n",
    "summary = summary.fillna(0)\n",
    "     \n",
    "index = techs + ['Total']\n",
    "columns = []\n",
    "\n",
    "if cost_choice == 1:\n",
    "    for year in yearsofanalysis:\n",
    "        columns.append(\"Population{}\".format(year))\n",
    "        columns.append(\"NewConnections{}\".format(year))\n",
    "        columns.append(\"Capacity{} (MW)\".format(year))\n",
    "        columns.append(\"Investment{} (million USD)\".format(year))\n",
    "        columns.append(\"InvestmentLV{} (million USD)\".format(year))\n",
    "        columns.append(\"InvestmentMV{} (million USD)\".format(year))\n",
    "        columns.append(\"InvestmentHV{} (million USD)\".format(year))\n",
    "        columns.append(\"InvestmentTrans{} (million USD)\".format(year))\n",
    "        columns.append(\"InvestmentCon{} (million USD)\".format(year))\n",
    "        columns.append(\"InvestmentCap{} (million USD)\".format(year))\n",
    "        columns.append(\"RecurringCosts{} (million USD)\".format(year))\n",
    "else:\n",
    "    for year in yearsofanalysis:\n",
    "        columns.append(\"Population{}\".format(year))\n",
    "        columns.append(\"NewConnections{}\".format(year))\n",
    "        columns.append(\"Capacity{} (MW)\".format(year))\n",
    "        columns.append(\"Investment{} (million USD)\".format(year))\n",
    "    \n",
    "summary_table = pd.DataFrame(index=index, columns=columns)\n",
    "\n",
    "if cost_choice == 1:\n",
    "    summary_table[columns[0]] = summary.iloc[0:7].astype(int).tolist() + [int(summary.iloc[0:7].sum())]\n",
    "    summary_table[columns[1]] = summary.iloc[7:14].astype(int).tolist() + [int(summary.iloc[7:14].sum())]\n",
    "    summary_table[columns[2]] = summary.iloc[14:21].astype(int).tolist() + [int(summary.iloc[14:21].sum())]\n",
    "    summary_table[columns[3]] = [round(x/1e4)/1e2 for x in summary.iloc[21:28].astype(float).tolist()] + [round(summary.iloc[21:28].sum()/1e4)/1e2]\n",
    "    summary_table[columns[4]] = [round(x/1e4)/1e2 for x in summary.iloc[56:63].astype(float).tolist()] + [round(summary.iloc[56:63].sum()/1e4)/1e2]\n",
    "    summary_table[columns[5]] = [round(x/1e4)/1e2 for x in summary.iloc[63:70].astype(float).tolist()] + [round(summary.iloc[63:70].sum()/1e4)/1e2]\n",
    "    summary_table[columns[6]] = [round(x/1e4)/1e2 for x in summary.iloc[70:77].astype(float).tolist()] + [round(summary.iloc[70:77].sum()/1e4)/1e2]\n",
    "    summary_table[columns[7]] = [round(x/1e4)/1e2 for x in summary.iloc[77:84].astype(float).tolist()] + [round(summary.iloc[77:84].sum()/1e4)/1e2]\n",
    "    summary_table[columns[8]] = [round(x/1e4)/1e2 for x in summary.iloc[84:91].astype(float).tolist()] + [round(summary.iloc[84:91].sum()/1e4)/1e2]\n",
    "    summary_table[columns[9]] = [round(x/1e4)/1e2 for x in summary.iloc[91:98].astype(float).tolist()] + [round(summary.iloc[91:98].sum()/1e4)/1e2]\n",
    "    summary_table[columns[10]] = [round(x/1e4)/1e2 for x in summary.iloc[98:105].astype(float).tolist()] + [round(summary.iloc[98:105].sum()/1e4)/1e2]\n",
    "    \n",
    "    summary_table[columns[11]] = summary.iloc[28:35].astype(int).tolist() + [int(summary.iloc[28:35].sum())]\n",
    "    summary_table[columns[12]] = summary.iloc[35:42].astype(int).tolist() + [int(summary.iloc[35:42].sum())]\n",
    "    summary_table[columns[13]] = summary.iloc[42:49].astype(int).tolist() + [int(summary.iloc[42:49].sum())]\n",
    "    summary_table[columns[14]] = [round(x/1e4)/1e2 for x in summary.iloc[49:56].astype(float).tolist()] + [round(summary.iloc[49:56].sum()/1e4)/1e2]\n",
    "    summary_table[columns[15]] = [round(x/1e4)/1e2 for x in summary.iloc[105:112].astype(float).tolist()] + [round(summary.iloc[105:112].sum()/1e4)/1e2]\n",
    "    summary_table[columns[16]] = [round(x/1e4)/1e2 for x in summary.iloc[112:119].astype(float).tolist()] + [round(summary.iloc[112:119].sum()/1e4)/1e2]\n",
    "    summary_table[columns[17]] = [round(x/1e4)/1e2 for x in summary.iloc[119:126].astype(float).tolist()] + [round(summary.iloc[119:126].sum()/1e4)/1e2]\n",
    "    summary_table[columns[18]] = [round(x/1e4)/1e2 for x in summary.iloc[126:133].astype(float).tolist()] + [round(summary.iloc[126:133].sum()/1e4)/1e2]\n",
    "    summary_table[columns[19]] = [round(x/1e4)/1e2 for x in summary.iloc[133:140].astype(float).tolist()] + [round(summary.iloc[133:140].sum()/1e4)/1e2]\n",
    "    summary_table[columns[20]] = [round(x/1e4)/1e2 for x in summary.iloc[140:147].astype(float).tolist()] + [round(summary.iloc[140:147].sum()/1e4)/1e2]\n",
    "    summary_table[columns[21]] = [round(x/1e4)/1e2 for x in summary.iloc[147:154].astype(float).tolist()] + [round(summary.iloc[147:154].sum()/1e4)/1e2]\n",
    "else:\n",
    "    summary_table[columns[0]] = summary.iloc[0:7].astype(int).tolist() + [int(summary.iloc[0:7].sum())]\n",
    "    summary_table[columns[1]] = summary.iloc[7:14].astype(int).tolist() + [int(summary.iloc[7:14].sum())]\n",
    "    summary_table[columns[2]] = summary.iloc[14:21].astype(int).tolist() + [int(summary.iloc[14:21].sum())]\n",
    "    summary_table[columns[3]] = [round(x/1e4)/1e2 for x in summary.iloc[21:28].astype(float).tolist()] + [round(summary.iloc[21:28].sum()/1e4)/1e2]\n",
    "    summary_table[columns[4]] = summary.iloc[28:35].astype(int).tolist() + [int(summary.iloc[28:35].sum())]\n",
    "    summary_table[columns[5]] = summary.iloc[35:42].astype(int).tolist() + [int(summary.iloc[35:42].sum())]\n",
    "    summary_table[columns[6]] = summary.iloc[42:49].astype(int).tolist() + [int(summary.iloc[42:49].sum())]\n",
    "    summary_table[columns[7]] = [round(x/1e4)/1e2 for x in summary.iloc[49:56].astype(float).tolist()] + [round(summary.iloc[49:56].sum()/1e4)/1e2]"
   ]
  },
  {
   "cell_type": "code",
   "execution_count": 27,
   "metadata": {
    "scrolled": true
   },
   "outputs": [
    {
     "data": {
      "text/markdown": [
       "### Summary \n",
       " These are the summarized results of the selected country"
      ],
      "text/plain": [
       "<IPython.core.display.Markdown object>"
      ]
     },
     "metadata": {},
     "output_type": "display_data"
    },
    {
     "data": {
      "text/html": [
       "<div>\n",
       "<style scoped>\n",
       "    .dataframe tbody tr th:only-of-type {\n",
       "        vertical-align: middle;\n",
       "    }\n",
       "\n",
       "    .dataframe tbody tr th {\n",
       "        vertical-align: top;\n",
       "    }\n",
       "\n",
       "    .dataframe thead th {\n",
       "        text-align: right;\n",
       "    }\n",
       "</style>\n",
       "<table border=\"1\" class=\"dataframe\">\n",
       "  <thead>\n",
       "    <tr style=\"text-align: right;\">\n",
       "      <th></th>\n",
       "      <th>Population2025</th>\n",
       "      <th>NewConnections2025</th>\n",
       "      <th>Capacity2025 (MW)</th>\n",
       "      <th>Investment2025 (million USD)</th>\n",
       "      <th>InvestmentLV2025 (million USD)</th>\n",
       "      <th>InvestmentMV2025 (million USD)</th>\n",
       "      <th>InvestmentHV2025 (million USD)</th>\n",
       "      <th>InvestmentTrans2025 (million USD)</th>\n",
       "      <th>InvestmentCon2025 (million USD)</th>\n",
       "      <th>InvestmentCap2025 (million USD)</th>\n",
       "      <th>...</th>\n",
       "      <th>NewConnections2030</th>\n",
       "      <th>Capacity2030 (MW)</th>\n",
       "      <th>Investment2030 (million USD)</th>\n",
       "      <th>InvestmentLV2030 (million USD)</th>\n",
       "      <th>InvestmentMV2030 (million USD)</th>\n",
       "      <th>InvestmentHV2030 (million USD)</th>\n",
       "      <th>InvestmentTrans2030 (million USD)</th>\n",
       "      <th>InvestmentCon2030 (million USD)</th>\n",
       "      <th>InvestmentCap2030 (million USD)</th>\n",
       "      <th>RecurringCosts2030 (million USD)</th>\n",
       "    </tr>\n",
       "  </thead>\n",
       "  <tbody>\n",
       "    <tr>\n",
       "      <th>Grid</th>\n",
       "      <td>13657807</td>\n",
       "      <td>11166357</td>\n",
       "      <td>245</td>\n",
       "      <td>2641.78</td>\n",
       "      <td>509.73</td>\n",
       "      <td>634.04</td>\n",
       "      <td>1.28</td>\n",
       "      <td>809.14</td>\n",
       "      <td>353.04</td>\n",
       "      <td>334.54</td>\n",
       "      <td>...</td>\n",
       "      <td>3509318</td>\n",
       "      <td>116</td>\n",
       "      <td>455.59</td>\n",
       "      <td>68.80</td>\n",
       "      <td>178.9</td>\n",
       "      <td>0.0</td>\n",
       "      <td>46.43</td>\n",
       "      <td>68.74</td>\n",
       "      <td>92.72</td>\n",
       "      <td>129.42</td>\n",
       "    </tr>\n",
       "    <tr>\n",
       "      <th>SA_Diesel</th>\n",
       "      <td>0</td>\n",
       "      <td>0</td>\n",
       "      <td>0</td>\n",
       "      <td>0.00</td>\n",
       "      <td>0.00</td>\n",
       "      <td>0.00</td>\n",
       "      <td>0.00</td>\n",
       "      <td>0.00</td>\n",
       "      <td>0.00</td>\n",
       "      <td>0.00</td>\n",
       "      <td>...</td>\n",
       "      <td>0</td>\n",
       "      <td>0</td>\n",
       "      <td>0.00</td>\n",
       "      <td>0.00</td>\n",
       "      <td>0.0</td>\n",
       "      <td>0.0</td>\n",
       "      <td>0.00</td>\n",
       "      <td>0.00</td>\n",
       "      <td>0.00</td>\n",
       "      <td>0.00</td>\n",
       "    </tr>\n",
       "    <tr>\n",
       "      <th>SA_PV</th>\n",
       "      <td>999663</td>\n",
       "      <td>999663</td>\n",
       "      <td>5</td>\n",
       "      <td>49.14</td>\n",
       "      <td>0.00</td>\n",
       "      <td>0.00</td>\n",
       "      <td>0.00</td>\n",
       "      <td>0.00</td>\n",
       "      <td>0.00</td>\n",
       "      <td>49.14</td>\n",
       "      <td>...</td>\n",
       "      <td>8280097</td>\n",
       "      <td>45</td>\n",
       "      <td>235.40</td>\n",
       "      <td>0.00</td>\n",
       "      <td>0.0</td>\n",
       "      <td>0.0</td>\n",
       "      <td>0.00</td>\n",
       "      <td>0.00</td>\n",
       "      <td>235.40</td>\n",
       "      <td>23.51</td>\n",
       "    </tr>\n",
       "    <tr>\n",
       "      <th>MG_Diesel</th>\n",
       "      <td>0</td>\n",
       "      <td>0</td>\n",
       "      <td>0</td>\n",
       "      <td>0.00</td>\n",
       "      <td>0.00</td>\n",
       "      <td>0.00</td>\n",
       "      <td>0.00</td>\n",
       "      <td>0.00</td>\n",
       "      <td>0.00</td>\n",
       "      <td>0.00</td>\n",
       "      <td>...</td>\n",
       "      <td>0</td>\n",
       "      <td>0</td>\n",
       "      <td>0.00</td>\n",
       "      <td>0.00</td>\n",
       "      <td>0.0</td>\n",
       "      <td>0.0</td>\n",
       "      <td>0.00</td>\n",
       "      <td>0.00</td>\n",
       "      <td>0.00</td>\n",
       "      <td>0.00</td>\n",
       "    </tr>\n",
       "    <tr>\n",
       "      <th>MG_PV</th>\n",
       "      <td>0</td>\n",
       "      <td>0</td>\n",
       "      <td>0</td>\n",
       "      <td>0.00</td>\n",
       "      <td>0.00</td>\n",
       "      <td>0.00</td>\n",
       "      <td>0.00</td>\n",
       "      <td>0.00</td>\n",
       "      <td>0.00</td>\n",
       "      <td>0.00</td>\n",
       "      <td>...</td>\n",
       "      <td>131363</td>\n",
       "      <td>45</td>\n",
       "      <td>86.00</td>\n",
       "      <td>3.91</td>\n",
       "      <td>0.5</td>\n",
       "      <td>0.0</td>\n",
       "      <td>0.57</td>\n",
       "      <td>2.19</td>\n",
       "      <td>78.83</td>\n",
       "      <td>6.62</td>\n",
       "    </tr>\n",
       "    <tr>\n",
       "      <th>MG_Wind</th>\n",
       "      <td>0</td>\n",
       "      <td>0</td>\n",
       "      <td>0</td>\n",
       "      <td>0.00</td>\n",
       "      <td>0.00</td>\n",
       "      <td>0.00</td>\n",
       "      <td>0.00</td>\n",
       "      <td>0.00</td>\n",
       "      <td>0.00</td>\n",
       "      <td>0.00</td>\n",
       "      <td>...</td>\n",
       "      <td>0</td>\n",
       "      <td>0</td>\n",
       "      <td>0.00</td>\n",
       "      <td>0.00</td>\n",
       "      <td>0.0</td>\n",
       "      <td>0.0</td>\n",
       "      <td>0.00</td>\n",
       "      <td>0.00</td>\n",
       "      <td>0.00</td>\n",
       "      <td>0.00</td>\n",
       "    </tr>\n",
       "    <tr>\n",
       "      <th>MG_Hydro</th>\n",
       "      <td>0</td>\n",
       "      <td>0</td>\n",
       "      <td>0</td>\n",
       "      <td>0.00</td>\n",
       "      <td>0.00</td>\n",
       "      <td>0.00</td>\n",
       "      <td>0.00</td>\n",
       "      <td>0.00</td>\n",
       "      <td>0.00</td>\n",
       "      <td>0.00</td>\n",
       "      <td>...</td>\n",
       "      <td>0</td>\n",
       "      <td>0</td>\n",
       "      <td>0.00</td>\n",
       "      <td>0.00</td>\n",
       "      <td>0.0</td>\n",
       "      <td>0.0</td>\n",
       "      <td>0.00</td>\n",
       "      <td>0.00</td>\n",
       "      <td>0.00</td>\n",
       "      <td>0.00</td>\n",
       "    </tr>\n",
       "    <tr>\n",
       "      <th>Total</th>\n",
       "      <td>14657471</td>\n",
       "      <td>12166021</td>\n",
       "      <td>251</td>\n",
       "      <td>2690.92</td>\n",
       "      <td>509.73</td>\n",
       "      <td>634.04</td>\n",
       "      <td>1.28</td>\n",
       "      <td>809.14</td>\n",
       "      <td>353.04</td>\n",
       "      <td>383.69</td>\n",
       "      <td>...</td>\n",
       "      <td>11920778</td>\n",
       "      <td>208</td>\n",
       "      <td>776.98</td>\n",
       "      <td>72.71</td>\n",
       "      <td>179.4</td>\n",
       "      <td>0.0</td>\n",
       "      <td>47.00</td>\n",
       "      <td>70.93</td>\n",
       "      <td>406.95</td>\n",
       "      <td>159.55</td>\n",
       "    </tr>\n",
       "  </tbody>\n",
       "</table>\n",
       "<p>8 rows × 22 columns</p>\n",
       "</div>"
      ],
      "text/plain": [
       "           Population2025  NewConnections2025  Capacity2025 (MW)  \\\n",
       "Grid             13657807            11166357                245   \n",
       "SA_Diesel               0                   0                  0   \n",
       "SA_PV              999663              999663                  5   \n",
       "MG_Diesel               0                   0                  0   \n",
       "MG_PV                   0                   0                  0   \n",
       "MG_Wind                 0                   0                  0   \n",
       "MG_Hydro                0                   0                  0   \n",
       "Total            14657471            12166021                251   \n",
       "\n",
       "           Investment2025 (million USD)  InvestmentLV2025 (million USD)  \\\n",
       "Grid                            2641.78                          509.73   \n",
       "SA_Diesel                          0.00                            0.00   \n",
       "SA_PV                             49.14                            0.00   \n",
       "MG_Diesel                          0.00                            0.00   \n",
       "MG_PV                              0.00                            0.00   \n",
       "MG_Wind                            0.00                            0.00   \n",
       "MG_Hydro                           0.00                            0.00   \n",
       "Total                           2690.92                          509.73   \n",
       "\n",
       "           InvestmentMV2025 (million USD)  InvestmentHV2025 (million USD)  \\\n",
       "Grid                               634.04                            1.28   \n",
       "SA_Diesel                            0.00                            0.00   \n",
       "SA_PV                                0.00                            0.00   \n",
       "MG_Diesel                            0.00                            0.00   \n",
       "MG_PV                                0.00                            0.00   \n",
       "MG_Wind                              0.00                            0.00   \n",
       "MG_Hydro                             0.00                            0.00   \n",
       "Total                              634.04                            1.28   \n",
       "\n",
       "           InvestmentTrans2025 (million USD)  InvestmentCon2025 (million USD)  \\\n",
       "Grid                                  809.14                           353.04   \n",
       "SA_Diesel                               0.00                             0.00   \n",
       "SA_PV                                   0.00                             0.00   \n",
       "MG_Diesel                               0.00                             0.00   \n",
       "MG_PV                                   0.00                             0.00   \n",
       "MG_Wind                                 0.00                             0.00   \n",
       "MG_Hydro                                0.00                             0.00   \n",
       "Total                                 809.14                           353.04   \n",
       "\n",
       "           InvestmentCap2025 (million USD)  ...  NewConnections2030  \\\n",
       "Grid                                334.54  ...             3509318   \n",
       "SA_Diesel                             0.00  ...                   0   \n",
       "SA_PV                                49.14  ...             8280097   \n",
       "MG_Diesel                             0.00  ...                   0   \n",
       "MG_PV                                 0.00  ...              131363   \n",
       "MG_Wind                               0.00  ...                   0   \n",
       "MG_Hydro                              0.00  ...                   0   \n",
       "Total                               383.69  ...            11920778   \n",
       "\n",
       "           Capacity2030 (MW)  Investment2030 (million USD)  \\\n",
       "Grid                     116                        455.59   \n",
       "SA_Diesel                  0                          0.00   \n",
       "SA_PV                     45                        235.40   \n",
       "MG_Diesel                  0                          0.00   \n",
       "MG_PV                     45                         86.00   \n",
       "MG_Wind                    0                          0.00   \n",
       "MG_Hydro                   0                          0.00   \n",
       "Total                    208                        776.98   \n",
       "\n",
       "           InvestmentLV2030 (million USD)  InvestmentMV2030 (million USD)  \\\n",
       "Grid                                68.80                           178.9   \n",
       "SA_Diesel                            0.00                             0.0   \n",
       "SA_PV                                0.00                             0.0   \n",
       "MG_Diesel                            0.00                             0.0   \n",
       "MG_PV                                3.91                             0.5   \n",
       "MG_Wind                              0.00                             0.0   \n",
       "MG_Hydro                             0.00                             0.0   \n",
       "Total                               72.71                           179.4   \n",
       "\n",
       "           InvestmentHV2030 (million USD)  InvestmentTrans2030 (million USD)  \\\n",
       "Grid                                  0.0                              46.43   \n",
       "SA_Diesel                             0.0                               0.00   \n",
       "SA_PV                                 0.0                               0.00   \n",
       "MG_Diesel                             0.0                               0.00   \n",
       "MG_PV                                 0.0                               0.57   \n",
       "MG_Wind                               0.0                               0.00   \n",
       "MG_Hydro                              0.0                               0.00   \n",
       "Total                                 0.0                              47.00   \n",
       "\n",
       "           InvestmentCon2030 (million USD)  InvestmentCap2030 (million USD)  \\\n",
       "Grid                                 68.74                            92.72   \n",
       "SA_Diesel                             0.00                             0.00   \n",
       "SA_PV                                 0.00                           235.40   \n",
       "MG_Diesel                             0.00                             0.00   \n",
       "MG_PV                                 2.19                            78.83   \n",
       "MG_Wind                               0.00                             0.00   \n",
       "MG_Hydro                              0.00                             0.00   \n",
       "Total                                70.93                           406.95   \n",
       "\n",
       "           RecurringCosts2030 (million USD)  \n",
       "Grid                                 129.42  \n",
       "SA_Diesel                              0.00  \n",
       "SA_PV                                 23.51  \n",
       "MG_Diesel                              0.00  \n",
       "MG_PV                                  6.62  \n",
       "MG_Wind                                0.00  \n",
       "MG_Hydro                               0.00  \n",
       "Total                                159.55  \n",
       "\n",
       "[8 rows x 22 columns]"
      ]
     },
     "execution_count": 27,
     "metadata": {},
     "output_type": "execute_result"
    }
   ],
   "source": [
    "display(Markdown('### Summary \\n These are the summarized results of the selected country'))\n",
    "summary_table"
   ]
  },
  {
   "cell_type": "code",
   "execution_count": 28,
   "metadata": {
    "scrolled": false
   },
   "outputs": [
    {
     "data": {
      "image/png": "[encoded data removed]",
      "text/plain": [
       "<Figure size 1080x1080 with 4 Axes>"
      ]
     },
     "metadata": {
      "needs_background": "light"
     },
     "output_type": "display_data"
    }
   ],
   "source": [
    "import matplotlib.pylab as plt\n",
    "import seaborn as sns\n",
    "\n",
    "colors = ['#73B2FF','#EDD100','#EDA800','#1F6600','#98E600','#70A800','#1FA800']\n",
    "techs_colors = dict(zip(techs, colors))\n",
    "\n",
    "summary_plot=summary_table.drop(labels='Total',axis=0)\n",
    "fig_size = [15, 15]\n",
    "font_size = 10\n",
    "plt.rcParams[\"figure.figsize\"] = fig_size\n",
    "f, axarr = plt.subplots(2, 2)\n",
    "fig_size = [15, 15]\n",
    "font_size = 10\n",
    "plt.rcParams[\"figure.figsize\"] = fig_size\n",
    "\n",
    "if cost_choice == 1:\n",
    "    sns.barplot(x=summary_plot.index.tolist(), y=columns[11], data=summary_plot, ax=axarr[0, 0], palette=colors)\n",
    "    axarr[0, 0].set_ylabel(columns[4], fontsize=2*font_size)\n",
    "    axarr[0, 0].tick_params(labelsize=font_size)\n",
    "    sns.barplot(x=summary_plot.index.tolist(), y=columns[12], data=summary_plot, ax=axarr[0, 1], palette=colors)\n",
    "    axarr[0, 1].set_ylabel(columns[5], fontsize=2*font_size)\n",
    "    axarr[0, 1].tick_params(labelsize=font_size)\n",
    "    sns.barplot(x=summary_plot.index.tolist(), y=columns[13], data=summary_plot, ax=axarr[1, 0], palette=colors)\n",
    "    axarr[1, 0].set_ylabel(columns[6], fontsize=2*font_size)\n",
    "    axarr[1, 0].tick_params(labelsize=font_size)\n",
    "    sns.barplot(x=summary_plot.index.tolist(), y=columns[14], data=summary_plot, ax=axarr[1, 1], palette=colors)\n",
    "    axarr[1, 1].set_ylabel(columns[7], fontsize=2*font_size)\n",
    "    axarr[1, 1].tick_params(labelsize=font_size)\n",
    "else:\n",
    "    sns.barplot(x=summary_plot.index.tolist(), y=columns[4], data=summary_plot, ax=axarr[0, 0], palette=colors)\n",
    "    axarr[0, 0].set_ylabel(columns[4], fontsize=2*font_size)\n",
    "    axarr[0, 0].tick_params(labelsize=font_size)\n",
    "    sns.barplot(x=summary_plot.index.tolist(), y=columns[5], data=summary_plot, ax=axarr[0, 1], palette=colors)\n",
    "    axarr[0, 1].set_ylabel(columns[5], fontsize=2*font_size)\n",
    "    axarr[0, 1].tick_params(labelsize=font_size)\n",
    "    sns.barplot(x=summary_plot.index.tolist(), y=columns[6], data=summary_plot, ax=axarr[1, 0], palette=colors)\n",
    "    axarr[1, 0].set_ylabel(columns[6], fontsize=2*font_size)\n",
    "    axarr[1, 0].tick_params(labelsize=font_size)\n",
    "    sns.barplot(x=summary_plot.index.tolist(), y=columns[7], data=summary_plot, ax=axarr[1, 1], palette=colors)\n",
    "    axarr[1, 1].set_ylabel(columns[7], fontsize=2*font_size)\n",
    "    axarr[1, 1].tick_params(labelsize=font_size)"
   ]
  },
  {
   "cell_type": "code",
   "execution_count": 29,
   "metadata": {
    "scrolled": false
   },
   "outputs": [
    {
     "data": {
      "text/plain": [
       "<Figure size 2160x2160 with 0 Axes>"
      ]
     },
     "execution_count": 29,
     "metadata": {},
     "output_type": "execute_result"
    },
    {
     "data": {
      "image/png": "[encoded data removed]",
      "text/plain": [
       "<Figure size 648x648 with 1 Axes>"
      ]
     },
     "metadata": {
      "needs_background": "light"
     },
     "output_type": "display_data"
    },
    {
     "data": {
      "text/plain": [
       "<Figure size 2160x2160 with 0 Axes>"
      ]
     },
     "metadata": {},
     "output_type": "display_data"
    }
   ],
   "source": [
    "from matplotlib import pyplot as plt\n",
    "colors = ['#73B2FF','#EDD100','#EDA800','#1F6600','#98E600','#70A800','#1FA800']\n",
    "plt.figure(figsize=(9,9))\n",
    "plt.plot(onsseter.df.loc[onsseter.df['FinalElecCode{}'.format(end_year)]==3, SET_X_DEG], onsseter.df.loc[onsseter.df['FinalElecCode{}'.format(end_year)]==3, SET_Y_DEG], color='#EDA800', marker=',', linestyle='none')\n",
    "plt.plot(onsseter.df.loc[onsseter.df['FinalElecCode{}'.format(end_year)]==2, SET_X_DEG], onsseter.df.loc[onsseter.df['FinalElecCode{}'.format(end_year)]==2, SET_Y_DEG], color='#EDD100', marker=',', linestyle='none')\n",
    "plt.plot(onsseter.df.loc[onsseter.df['FinalElecCode{}'.format(end_year)]==4, SET_X_DEG], onsseter.df.loc[onsseter.df['FinalElecCode{}'.format(end_year)]==4, SET_Y_DEG], color='#1F6600', marker=',', linestyle='none')\n",
    "plt.plot(onsseter.df.loc[onsseter.df['FinalElecCode{}'.format(end_year)]==5, SET_X_DEG], onsseter.df.loc[onsseter.df['FinalElecCode{}'.format(end_year)]==5, SET_Y_DEG], color='#98E600', marker=',', linestyle='none')\n",
    "plt.plot(onsseter.df.loc[onsseter.df['FinalElecCode{}'.format(end_year)]==6, SET_X_DEG], onsseter.df.loc[onsseter.df['FinalElecCode{}'.format(end_year)]==6, SET_Y_DEG], color='#70A800', marker=',', linestyle='none')\n",
    "plt.plot(onsseter.df.loc[onsseter.df['FinalElecCode{}'.format(end_year)]==7, SET_X_DEG], onsseter.df.loc[onsseter.df['FinalElecCode{}'.format(end_year)]==7, SET_Y_DEG], color='#1FA800', marker=',', linestyle='none')\n",
    "plt.plot(onsseter.df.loc[onsseter.df['FinalElecCode{}'.format(end_year)]==1, SET_X_DEG], onsseter.df.loc[onsseter.df['FinalElecCode{}'.format(end_year)]==1, SET_Y_DEG], color='#73B2FF', marker=',', linestyle='none')\n",
    "if onsseter.df[SET_X_DEG].max() - onsseter.df[SET_X_DEG].min() > onsseter.df[SET_Y_DEG].max() - onsseter.df[SET_Y_DEG].min():\n",
    "    plt.xlim(onsseter.df[SET_X_DEG].min() - 1, onsseter.df[SET_X_DEG].max() + 1)\n",
    "    plt.ylim((onsseter.df[SET_Y_DEG].min()+onsseter.df[SET_Y_DEG].max())/2 - 0.5*abs(onsseter.df[SET_X_DEG].max() - onsseter.df[SET_X_DEG].min()) - 1, (onsseter.df[SET_Y_DEG].min()+onsseter.df[SET_Y_DEG].max())/2 + 0.5*abs(onsseter.df[SET_X_DEG].max() - onsseter.df[SET_X_DEG].min()) + 1)\n",
    "else:\n",
    "    plt.xlim((onsseter.df[SET_X_DEG].min()+onsseter.df[SET_X_DEG].max())/2 - 0.5*abs(onsseter.df[SET_Y_DEG].max() - onsseter.df[SET_Y_DEG].min()) - 1, (onsseter.df[SET_X_DEG].min()+onsseter.df[SET_X_DEG].max())/2 + 0.5*abs(onsseter.df[SET_Y_DEG].max() - onsseter.df[SET_Y_DEG].min()) + 1)\n",
    "    plt.ylim(onsseter.df[SET_Y_DEG].min() -1, onsseter.df[SET_Y_DEG].max() +1)\n",
    "plt.figure(figsize=(30,30))"
   ]
  },
  {
   "cell_type": "markdown",
   "metadata": {},
   "source": [
    "## 9. Exporting results\n",
    "\n",
    "This code generates three csv files:\n",
    " - one containing all the results for the scenario created\n",
    " - one containing the summary for the scenario created\n",
    " - one containing some if the key input variables of the scenario\n",
    "\n",
    "Before we proceed, please write the scenario_name in the first cell below. then move on to the next cell and run it to browse to the directory where you want to save your results. Sample file shall be located at .\\ gep-onsset\\sample_output. \n",
    "\n",
    "**Note that if you do not change the scenario name, the previous output files will be overwritten"
   ]
  },
  {
   "cell_type": "code",
   "execution_count": 30,
   "metadata": {
    "scrolled": true
   },
   "outputs": [],
   "source": [
    "scenario_name = \"Sample_Scenario\""
   ]
  },
  {
   "cell_type": "code",
   "execution_count": 31,
   "metadata": {
    "scrolled": true
   },
   "outputs": [],
   "source": [
    "list1 = [('Start_year',start_year,'','',''), \n",
    "         ('End_year',end_year,'','',''),\n",
    "         ('End year electrification rate target',electrification_rate_target,'','',''),\n",
    "         ('Intermediate target year', intermediate_year,'','',''),\n",
    "         ('Intermediate electrification rate target', intermediate_electrification_target,'','',''),\n",
    "         ('PV cost adjustment factor', pv_adjustment_factor, '', '', ''),\n",
    "         ('Urban target tier', urban_target_tier, '', '', ''),\n",
    "         ('Rural target tier', rural_target_tier, '', '', ''),\n",
    "         ('Prioritization', prioritization,'','','5 = least cost, 4 = forced grid within buffer only, 6 = forced grid within buffer & least cost out of the buffer zone'),\n",
    "         ('Auto intensification distance', auto_intensification, '', '', 'Buffer distance (km) for automatic intensification if choosing prioritization 1'),\n",
    "         ('discount_rate',discount_rate,'','',''),\n",
    "         ('pop_threshold',pop_threshold,'','',''),\n",
    "         ('pop_start_year',pop_start_year,'','','the population in the base year (e.g. 2018)'),\n",
    "         ('pop_end_year',end_year_pop,'','','the projected population in the end year (e.g. 2030)'),\n",
    "         ('urban_ratio_start_year',urban_ratio_start_year,'','','the urban population population ratio in the base year (e.g. 2018)'),\n",
    "         ('urban_ratio_end_year',urban_ratio_end_year,'','','the urban population population ratio in the end year (e.g. 2030)'),\n",
    "         ('num_people_per_hh_urban',num_people_per_hh_urban,'','','the number of people per household expected in the end year (e.g. 2030)'),\n",
    "         ('num_people_per_hh_rural',num_people_per_hh_rural,'','','the number of people per household expected in the end year (e.g. 2030)'),\n",
    "         ('elec_ratio_start_year',elec_ratio_start_year,'','','the electrification rate in the base year (e.g. 2018)'),\n",
    "         ('urban_elec_ratio',urban_elec_ratio,'','','urban electrification rate in the base year (e.g. 2018)'),\n",
    "         ('rural_elec_ratio',rural_elec_ratio,'','','rural electrification rate in the base year (e.g. 2018)'),\n",
    "         ('grid_generation_cost',grid_generation_cost,'','','This is the grid cost electricity USD/kWh as expected in the end year of the analysis'),\n",
    "         ('grid_power_plants_capital_cost',grid_power_plants_capital_cost,'','','The cost in USD/kW to for capacity upgrades of the grid-connected power plants'),\n",
    "         ('grid_losses',grid_losses,'','','The fraction of electricity lost in transmission and distribution (percentage)'),\n",
    "         ('base_to_peak',grid_calc.base_to_peak_load_ratio,'','','The ratio of base grid demand to peak demand (percentage)'),\n",
    "         ('existing_grid_cost_ratio',existing_grid_cost_ratio,'','','The additional cost per round of electrification (percentage)'),\n",
    "         ('diesel_price',diesel_price,'','','This is the diesel price in USD/liter as expected in the end year of the analysis'),\n",
    "         ('sa_diesel_capital_cost',sa_diesel_capital_cost,'','','Stand-alone Diesel capital cost (USD/kW) as expected in the years of the analysis'),\n",
    "         ('mg_diesel_capital_cost',mg_diesel_capital_cost,'','','Mini-grid Diesel capital cost (USD/kW) as expected in the years of the analysis'),\n",
    "         ('mg_pv_capital_cost',mg_pv_capital_cost,'','','Mini-grid PV capital cost (USD/kW) as expected in the years of the analysis'),\n",
    "         ('mg_wind_capital_cost',mg_wind_capital_cost,'','','Mini-grid Wind capital cost (USD/kW) as expected in the years of the analysis'),\n",
    "         ('mg_hydro_capital_cost',mg_hydro_capital_cost,'','','Mini-grid Hydro capital cost (USD/kW) as expected in the years of the analysis'),\n",
    "         ('sa_pv_capital_cost_1',sa_pv_capital_cost_1,'','','Stand-alone PV capital cost (USD/kW) for household systems under 20 W'),\n",
    "         ('sa_pv_capital_cost_2',sa_pv_capital_cost_2,'','','Stand-alone PV capital cost (USD/kW) for household systems between 21-50 W'),\n",
    "         ('sa_pv_capital_cost_3',sa_pv_capital_cost_3,'','','Stand-alone PV capital cost (USD/kW) for household systems between 51-100 W'),\n",
    "         ('sa_pv_capital_cost_4',sa_pv_capital_cost_4,'','','Stand-alone PV capital cost (USD/kW) for household systems between 101-200 W'),\n",
    "         ('sa_pv_capital_cost_5',sa_pv_capital_cost_5,'','','Stand-alone PV capital cost (USD/kW) for household systems over 200 W'),\n",
    "         ('mv_line_cost',mv_line_cost,'','','Cost of MV lines in USD/km'),\n",
    "         ('lv_line_cost',lv_line_cost,'','','Cost of LV lines in USD/km'),\n",
    "         ('mv_line_capacity',mv_line_capacity,'','','Capacity of MV lines in kW/line'),\n",
    "         ('lv_line_capacity',lv_line_capacity,'','','Capacity of LV lines in kW/line'),\n",
    "         ('lv_line_max_length',lv_line_max_length,'','','Maximum length of LV lines (km)'),\n",
    "         ('hv_line_cost',hv_line_cost,'','','Cost of HV lines in USD/km'),\n",
    "         ('mv_line_max_length',mv_line_max_length,'','','Maximum length of MV lines (km)'),\n",
    "         ('hv_lv_transformer_cost',hv_lv_transformer_cost,'','','Cost of HV/MV transformer (USD/unit)'),\n",
    "         ('mv_increase_rate',mv_increase_rate,'','','percentage'),\n",
    "         ('max_grid_extension_dist',max_mv_line_dist,'','','Maximum distance that the grid may be extended by means of MV lines'),\n",
    "         ('annual_new_grid_connections_limit_intermediate', annual_new_grid_connections_limit_intermediate,'','','This is the maximum amount of new households that can be connected to the grid in one year (thousands)'),\n",
    "         ('annual_new_grid_connections_limit_end', annual_new_grid_connections_limit_end,'','','This is the maximum amount of new households that can be connected to the grid in one year (thousands)'),\n",
    "         ('grid_capacity_limit_end',annual_grid_cap_gen_limit_end,'','','This is the maximum generation capacity that can be added to the grid in one year (MW)'),\n",
    "         ('grid_capacity_limit_intermediate',annual_grid_cap_gen_limit_intermediate,'','','This is the maximum generation capacity that can be added to the grid in one year (MW)'),\n",
    "         ('GIS data: Administrative boundaries','','','','Delineates the boundaries of the analysis.'),\n",
    "         ('GIS data: DEM','','','','Filled DEM (elevation) maps are use in a number of processes in the analysis (Energy potentials, restriction zones, grid extension suitability map etc.).'),\n",
    "         ('GIS data: Hydropower','','','','Points showing potential mini/small hydropower potential.  Provides power availability in each identified point.'),\n",
    "         ('GIS data: Land Cover','','','','Land cover maps are use in a number of processes in the analysis (Energy potentials, restriction zones, grid extension suitability map etc.).'),\n",
    "         ('GIS data: Night-time Lights','','','','Dataset used to,identify and spatially calibrate the currently electrified/non-electrified population.'),\n",
    "         ('GIS data: Population','','','','Spatial identification and quantification of the current (base year) population. This dataset sets the basis of the ONSSET analysis as it is directly connected with the electricity demand and the assignment of energy access goals'),\n",
    "         ('GIS data: Roads','','','','Current road infrastructure is used in order to specify grid extension suitability.'),\n",
    "         ('GIS data: Solar GHI','','','','Provide information about the Global Horizontal Irradiation (kWh/m2/year) over an area. This is later used to identify the availability/suitability of Photovoltaic systems.'),\n",
    "         ('GIS data: Substations','','','','Current Substation infrastructure is used in order to specify grid extension suitability.'),\n",
    "         ('GIS data: Existing grid','','','','Current grid network'),\n",
    "         ('GIS data: Planned grid','','','','Planned/committed grid network extensions'),\n",
    "         ('GIS data: Travel-time','','','','Visualizes spatially the travel time required to reach from any individual cell to the closest town with population more than 50,000 people.'),\n",
    "         ('GIS data: Wind velocity','','','','Provide information about the wind velocity (m/sec) over an area. This is later used to identify the availability/suitability of wind power (using Capacity factors).'),\n",
    "        ]\n",
    "labels = ['Variable','Value', 'Source', 'Comments', 'Description']\n",
    "df_variables = pd.DataFrame.from_records(list1, columns=labels)"
   ]
  },
  {
   "cell_type": "code",
   "execution_count": 32,
   "metadata": {
    "scrolled": true
   },
   "outputs": [],
   "source": [
    "messagebox.showinfo('OnSSET', 'Browse to the folder where you want to save the outputs')\n",
    "\n",
    "output_dir = filedialog.askdirectory()\n",
    "output_dir_variables = os.path.join(output_dir, '{}_Variables.csv'.format(scenario_name))\n",
    "output_dir_results = os.path.join(output_dir, '{}_Results.csv'.format(scenario_name))\n",
    "output_dir_summaries = os.path.join(output_dir, '{}_Summaries.csv'.format(scenario_name))"
   ]
  },
  {
   "cell_type": "code",
   "execution_count": 33,
   "metadata": {
    "scrolled": true
   },
   "outputs": [],
   "source": [
    "# Returning the result as a csv file\n",
    "onsseter.df.to_csv(output_dir_results, index=False)\n",
    "\n",
    "# Returning the summary as a csv file\n",
    "summary_table.to_csv(output_dir_summaries, index=True)\n",
    "\n",
    "# Returning the input variables as a csv file\n",
    "df_variables.to_csv(output_dir_variables, index=False)"
   ]
  }
 ],
 "metadata": {
  "anaconda-cloud": {},
  "celltoolbar": "Raw Cell Format",
  "kernelspec": {
   "display_name": "Python 3",
   "language": "python",
   "name": "python3"
  },
  "language_info": {
   "codemirror_mode": {
    "name": "ipython",
    "version": 3
   },
   "file_extension": ".py",
   "mimetype": "text/x-python",
   "name": "python",
   "nbconvert_exporter": "python",
   "pygments_lexer": "ipython3",
   "version": "3.8.5"
  }
 },
 "nbformat": 4,
 "nbformat_minor": 2
}
