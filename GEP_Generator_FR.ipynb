{
 "cells": [
  {
   "cell_type": "markdown",
   "metadata": {},
   "source": [
    "# Bienvenue à la GEP-OnSSET Notebook\n",
    "\n",
    "Cette interface basée sur Jupyter a été conçue pour soutenir les scénarios de la Plate-forme mondiale d'électrification.\n",
    "\n",
    "\n",
    "L'interface est construite sur une version modifiée de GEP-OnSSET développée par KTH dESA pour fournir un moyen facile et rapide de générer des scénarios d'investissement dans l'électrification compatibles avec les directives et les protocoles de données du GEP.\n",
    "\n",
    "\n",
    "Suivez les étapes ci-dessous pour générer des perspectives d'investissement en électrification personnalisées pour le pays qui vous intéresse."
   ]
  },
  {
   "cell_type": "markdown",
   "metadata": {},
   "source": [
    "-------------------"
   ]
  },
  {
   "cell_type": "markdown",
   "metadata": {},
   "source": [
    "**Note!** This notebook was translated to French by the participants of the EMPA-2023:\n",
    "* [Djibo Boube Bachirou](https://www.linkedin.com/in/bachirou-djibo-boube-a45b02181/?locale=es_ES)\n",
    "* [Marcel Aragah](https://www.linkedin.com/in/marcel-aragah-84569517a/?originalSubdomain=tg)\n",
    "* [Eric King'ori](https://www.linkedin.com/in/eric-king-ori-1174a0187/)\n",
    "* [Gilles Tounsi Kamdem](https://www.linkedin.com/in/gillestounsi/)\n",
    "* [Nse-Abasi Ayara](https://github.com/Nayara2020)\n",
    "\n",
    "The GEP-OnSSET development team would like to cordially thank the participants for their contribution!"
   ]
  },
  {
   "cell_type": "markdown",
   "metadata": {},
   "source": [
    "-----------------------"
   ]
  },
  {
   "cell_type": "markdown",
   "metadata": {},
   "source": [
    "#### Commencez par importer le code"
   ]
  },
  {
   "cell_type": "code",
   "execution_count": 1,
   "metadata": {
    "scrolled": true
   },
   "outputs": [
    {
     "name": "stderr",
     "output_type": "stream",
     "text": [
      "2023-04-24 13:02:18,697\t\tCACHEDIR=C:\\Users\\alexl\\.matplotlib\n",
      "2023-04-24 13:02:18,709\t\tUsing fontManager instance from C:\\Users\\alexl\\.matplotlib\\fontlist-v310.json\n",
      "2023-04-24 13:02:18,834\t\tLoaded backend module://ipykernel.pylab.backend_inline version unknown.\n",
      "2023-04-24 13:02:18,841\t\tLoaded backend module://ipykernel.pylab.backend_inline version unknown.\n",
      "2023-04-24 13:02:18,844\t\tLoaded backend module://ipykernel.pylab.backend_inline version unknown.\n"
     ]
    }
   ],
   "source": [
    "from onsset import *\n",
    "from IPython.display import display, Markdown, HTML\n",
    "%matplotlib inline"
   ]
  },
  {
   "cell_type": "markdown",
   "metadata": {},
   "source": [
    "**Note**: Si vous rencontrez une erreur, veuillez vous référer à la section import du code onsset.py."
   ]
  },
  {
   "cell_type": "markdown",
   "metadata": {},
   "source": [
    "# 1. Sélection des données SIG\n",
    "\n",
    "Tout d'abord, exécutez la cellule ci-dessous pour parcourir le répertoire dans lequel se trouve votre fichier CSV d'entrée et sélectionnez le fichier d'entrée. \n"
   ]
  },
  {
   "cell_type": "code",
   "execution_count": 2,
   "metadata": {
    "scrolled": true
   },
   "outputs": [],
   "source": [
    "import tkinter as tk\n",
    "from tkinter import filedialog, messagebox\n",
    "from openpyxl import load_workbook\n",
    "root = tk.Tk()\n",
    "root.withdraw()\n",
    "root.attributes(\"-topmost\", True)\n",
    "messagebox.showinfo('OnSSET', 'Ouvrez le fichier d\\'entrée avec les données SIG extraites')\n",
    "input_file = filedialog.askopenfilename()\n",
    "\n",
    "onsseter = SettlementProcessor(input_file)"
   ]
  },
  {
   "cell_type": "code",
   "execution_count": 3,
   "metadata": {},
   "outputs": [],
   "source": [
    "pv_path = os.path.abspath(os.path.join(r'.\\Input', 'sl-2-pv.csv'))\n",
    "wind_path = os.path.abspath(os.path.join(r'.\\Input', 'sl-2-wind.csv'))"
   ]
  },
  {
   "cell_type": "markdown",
   "metadata": {},
   "source": [
    "# 2. Entrez les données spécifiques au pays\n",
    "\n",
    "En plus des options ci-dessus, l'utilisateur peut personnaliser un grand nombre de variables décrivant l'environnement socio-économique-technologique du pays sélectionné.\n",
    "\n",
    "**Remarque!** La plupart des valeurs d'entrée doivent représenter des estimations pour la variable valable tout au long de la période de modélisation, c'est-à-dire **NE PAS** valeurs actuelle"
   ]
  },
  {
   "cell_type": "markdown",
   "metadata": {},
   "source": [
    "#### **Période de modélisation et taux d'électrification cible**\n",
    "\n",
    "Définissez ensuite la période de modélisation et le taux d'électrification à atteindre à la fin de l'analyse. Plus bas, vous définirez également une année et un objectif intermédiaires.\n",
    "\n",
    "**Sur le GEP Explorer, l'objectif de taux d'électrification en fin d'année est fixé à 100 %, et l'objectif intermédiaire est fixé de manière à suivre une augmentation linéaire à partir du niveau actuel. Si, par exemple, un pays a un taux d'accès de 52 % en 2020, l'objectif serait d'augmenter le taux d'électrification d'environ 4 % par an pour atteindre 100 % en 2030. L'objectif intermédiaire serait donc de 80 % d'ici 2025**"
   ]
  },
  {
   "cell_type": "code",
   "execution_count": 4,
   "metadata": {
    "scrolled": true
   },
   "outputs": [],
   "source": [
    "start_year = 2020\n",
    "end_year = 2030\n",
    "electrification_rate_target = 1 # E.g. 1 for 100% electrification rate or 0.80 for 80% electrification rate \n",
    "\n",
    "intermediate_year = 2025\n",
    "intermediate_electrification_target = 0.75 # E.g. for a target electrification rate of 75%, enter 0.75\n",
    "\n",
    "yearsofanalysis = [intermediate_year, end_year]\n",
    "eleclimits = {intermediate_year: intermediate_electrification_target, end_year: electrification_rate_target}\n",
    "time_steps = {intermediate_year: intermediate_year-start_year, end_year: end_year-intermediate_year}"
   ]
  },
  {
   "cell_type": "markdown",
   "metadata": {},
   "source": [
    "#### 3. Niveau cible de demande d'électricité\n",
    "\n",
    "Il faut ensuite définir les valeurs des leviers. Il s'agit des 6 leviers disponibles sur le GEP Explorer. Contrairement au GEP Explorer où chaque levier a deux ou trois valeurs prédéfinies, ici ils peuvent prendre n'importe quelle valeur."
   ]
  },
  {
   "cell_type": "markdown",
   "metadata": {},
   "source": [
    "#### Niveau 1: Croissance de la population\n",
    "Pour le premier Niveau, entrez la population prévue dans le pays à la fin de l'année de l'analyse (par exemple 2030). \n",
    "\n",
    "*Les valeurs par défaut dans le GEP Explorer sont basées sur la variante de croissance moyenne et la variante de croissance élevée de la base de données de l'ONU sur la population, trouvée <ahref=\"https://population.un.org/wpp/\"*"
   ]
  },
  {
   "cell_type": "code",
   "execution_count": 5,
   "metadata": {
    "scrolled": true
   },
   "outputs": [],
   "source": [
    "end_year_pop = 9686665"
   ]
  },
  {
   "cell_type": "markdown",
   "metadata": {},
   "source": [
    "#### Niveau 2: Demande cible d'électricification\n",
    "Pour le deuxième niveau, saisissez le niveau cible (niveau d'accès à l'électricité) pour les ménages urbains et ruraux respectivement. Cette valeur peut être comprise entre \"1\" (niveau d'accès à l'électricité le plus bas) et \"5\" (niveau d'accès à l'électricité le plus élevé), comme dans le cadre multi-niveaux de l'ESMAP pour la mesure de l'accès à l'électricité (found <a href=\"https://www.esmap.org/node/55526\" target=\"_blank\">here</a>). Vous pouvez également saisir \"6\" pour utiliser une répartition des niveaux à travers le pays sur la base des niveaux de pauvreté et du PIB, conformément à la méthodologie trouvée <a href=\"https://www.mdpi.com/1996-1073/12/7/1395\" target=\"_blank\">here</a>.\n",
    "\n",
    "*Sur le GEP Explorer, les trois objectifs de demande d'électricité suivants sont utilisés:*\n",
    "\n",
    "*Top down demand target - Low: dans ce cas, tous les groupes urbains sont classés au niveau 1 pour atteindre le niveau de consommation moyen actuel des ménages électrifiés, et les établissements ruraux sont classés au niveau 1.*\n",
    "\n",
    "*Top down demand target - High: dans ce cas, toutes les agglomérations urbaines sont ciblées pour atteindre un niveau supérieur au niveau de consommation moyen actuel des ménages électrifiés, et les établissements ruraux se voient attribuer le niveau 3*.\n",
    "\n",
    "*Bottom up demand target (Poverty - GDP)(): Dans ce cas, chaque localité se voit attribuer un objectif de demande basé sur les niveaux de pauvreté et de PIB, comme décrit dans la méthodologie ci-dessus. Choisissez \"6\" pour le niveau cible urbain et le niveau cible rural pour utiliser cette option*. "
   ]
  },
  {
   "cell_type": "code",
   "execution_count": 6,
   "metadata": {
    "scrolled": true
   },
   "outputs": [],
   "source": [
    "urban_target_tier = 4\n",
    "rural_target_tier = 2"
   ]
  },
  {
   "cell_type": "markdown",
   "metadata": {},
   "source": [
    "#### Niveau 3: Plan d'investissement intermédiaire\n",
    "Pour le troisième lever, des restrictions peuvent être imposées sur le nombre de connexions au réseau qui peuvent être réalisées au cours d'une année.\n",
    "\n",
    "*Sur le GEP Explorer, deux options permettent d'explorer la manière d'atteindre l'objectif d'électrification intermédiaire. Le scénario non plafonné suppose que le taux d'électrification augmente linéairement au cours des années de modélisation ; aucune restriction n'est fixée en termes de connexions au réseau réalisables par an. Le scénario de croissance plafonnée suppose que le taux d'électrification augmente comme dans le premier scénario, mais qu'il est soumis à une limitation des connexions au réseau, égale à 2,5 % de la population par an. Notez que sur la plateforme, aucune restriction n'est appliquée après 2025, la restriction pour 2030 est donc toujours fixée à \"999999999\"*."
   ]
  },
  {
   "cell_type": "code",
   "execution_count": 7,
   "metadata": {
    "scrolled": true
   },
   "outputs": [],
   "source": [
    "# C'est le nombre maximum de nouveaux ménages qui peuvent être connectés au réseau en un an (en milliers).\n",
    "annual_new_grid_connections_limit_intermediate = 999999999 # Limite par an de l'année de départ (par exemple 2018) à l'année intermédiaire (par exemple 2025)\n",
    "annual_new_grid_connections_limit_end = 999999999 # Limite par an de l'année intermédiaire (par exemple 2025) à l'année finale (par exemple 2030)"
   ]
  },
  {
   "cell_type": "markdown",
   "metadata": {},
   "source": [
    "#### Lever 4 : Coût de production de l'électricité sur le réseau\n",
    "Ce Niveau examine les différents coûts moyens de production d'électricité par les centrales électriques connectées au réseau national. Ce coût est l'un des facteurs qui influencent le LCoE de la connexion au réseau (avec l'extension des lignes de réseau, etc.), et peut affecter la répartition entre les technologies en réseau et hors réseau.\n",
    "\n",
    "*Sur le GEP Explorer, l'estimation du coût du raccordement au réseau est basée sur les plans nationaux ou sur un modèle d'optimisation de l'énergie. On suppose que le coût de l'alimentation par le réseau est supérieur de 25 %*."
   ]
  },
  {
   "cell_type": "code",
   "execution_count": 8,
   "metadata": {
    "scrolled": true
   },
   "outputs": [],
   "source": [
    "grid_generation_cost = 0.047 ### Il s'agit du coût de l'électricité sur le réseau, en USD/kWh, tel qu'il est prévu à la fin de l'année de l'analyse."
   ]
  },
  {
   "cell_type": "markdown",
   "metadata": {},
   "source": [
    "#### Niveau 5 : Ajustement des coûts des systèmes photovoltaïques\n",
    "Ce Niveau reflète le rôle des coûts des systèmes PV sur les résultats de l'électrification. Tous les systèmes photovoltaïques seront ajustés par un facteur pour simuler un coût plus élevé ou plus bas des systèmes photovoltaïques (par rapport aux valeurs de base saisies ci-dessous). Une valeur inférieure à 1 signifie des coûts d'investissement plus faibles pour les systèmes PV par rapport à la projection de base, et une valeur supérieure à 1 signifie des coûts d'investissement plus élevés pour les systèmes PV par rapport à la projection de base. Par exemple, \"0,75\" signifie un coût inférieur de 25 % aux coûts de référence.\n",
    "\n",
    "*Sur le GEP Explorer, trois valeurs pour ce paramètre sont explorées:*\n",
    "\n",
    "*Coût PV prévu : Facteur d'ajustement fixé à 1*\n",
    "\n",
    "*Coût photovoltaïque élevé : Facteur d'ajustement fixé à 1,25 pour simuler des coûts 25% plus élevés*\n",
    "\n",
    "*Coût PV faible : Facteur d'ajustement fixé à 0,75 pour simuler des coûts inférieurs de 25 %*."
   ]
  },
  {
   "cell_type": "code",
   "execution_count": 9,
   "metadata": {
    "scrolled": true
   },
   "outputs": [],
   "source": [
    "pv_adjustment_factor = 1"
   ]
  },
  {
   "cell_type": "markdown",
   "metadata": {},
   "source": [
    "#### Lever 6 : Plan de déploiement\n",
    "Ce levier reflète l'approche d'électrification à examiner. Sur le GEP Explorer, deux options sont actuellement utilisées :\n",
    "\n",
    "**Approche nationale du moindre coût:** Cette option vise à atteindre les objectifs de taux d'électrification fixés pour l'année intermédiaire et l'année finale. Pour les années où l'objectif est inférieur à 100%, l'algorithme donne la priorité à la densification du réseau (montée en puissance dans les clusters déjà électrifiés) puis à la sélection basée sur le coût d'investissement par habitant le plus bas pour choisir les clusters à électrifier. Remarque : une limite de capacité de production pour le réseau centralisé est appliquée afin de maintenir l'expansion du réseau à des niveaux raisonnables jusqu'à l'année intermédiaire. Sur le GEP Explorer, cela suit les tendances historiques pour les pays de la région qui ont géré la plus grande augmentation relative au cours des dernières années*.\n",
    "\n",
    "**Approche de la grille forcée:** Elle peut prendre les formes suivantes.\n",
    "\n",
    "- Réseau forcé dans une zone tampon définie (auto_intensification égale à Xkm) et approche du moindre coût en dehors de la zone tampon.\n",
    "\n",
    "- Réseau forcé dans une zone tampon définie (auto_intensification égale à X km) et pas d'électrification en dehors de la zone tampon."
   ]
  },
  {
   "cell_type": "code",
   "execution_count": 10,
   "metadata": {
    "scrolled": true
   },
   "outputs": [],
   "source": [
    "prioritization = 6                        # Sélectionnez 5, 4 ou 6 ; 5 = Approche nationale du moindre coût, 4 = Connexion forcée au réseau à l'intérieur d'une zone tampon uniquement, 6 = Connexion forcée au réseau à l'intérieur de la zone tampon + moindre coût à l'extérieur de la zone tampon.\n",
    "\n",
    "auto_intensification = 2                 # Distance tampon (km) pour l'intensification automatique si l'on choisit l'ordre de priorité 4 ou 6\n",
    "\n",
    "# Distance tampon (km) pour l'intensification automatique si l'on choisit l'ordre de priorité 4 ou 6\n",
    "\n",
    "annual_grid_cap_gen_limit_intermediate = 54 # Limite par an entre l'année de départ (par exemple 2018) et l'année intermédiaire (par exemple 2025)\n",
    "annual_grid_cap_gen_limit_end = 999999999 # Limite par an de l'année intermédiaire (par exemple 2025) à l'année finale (par exemple 2030)"
   ]
  },
  {
   "cell_type": "markdown",
   "metadata": {},
   "source": [
    "# 4. Saisir des données spécifiques au pays\n",
    "\n",
    "En plus des leviers ci-dessus, l'utilisateur peut personnaliser un grand nombre de variables décrivant l'environnement social, économique et technologique du pays sélectionné. \n",
    "\n",
    "**La plupart des valeurs saisies doivent représenter des estimations futures pour la variable, c'est-à-dire qu'elles décrivent et **NON** les valeurs actuelles."
   ]
  },
  {
   "cell_type": "markdown",
   "metadata": {},
   "source": [
    "### a. Démographie et composantes sociales"
   ]
  },
  {
   "cell_type": "code",
   "execution_count": 11,
   "metadata": {
    "scrolled": true
   },
   "outputs": [],
   "source": [
    "pop_start_year = 7946439       ### Écrire la population de l'année de base (par exemple 2020) \n",
    "\n",
    "urban_ratio_start_year = 0.421 ### Inscrivez le ratio de la population urbaine dans l'année de référence (par exemple 2020).\n",
    "urban_ratio_end_year = 0.5     ### Indiquer le taux de population urbaine à la fin de l'année (par exemple 2030).\n",
    "\n",
    "num_people_per_hh_urban = 4.4     ### Inscrivez le nombre de personnes par ménage prévu pour l'année finale (par exemple 2030).\n",
    "num_people_per_hh_rural = 5.2   ### Inscrivez le nombre de personnes par ménage prévu pour l'année finale (par exemple 2030).\n",
    "\n",
    "elec_ratio_start_year = 0.23   ### Inscrivez le taux d'électrification dans l'année de base (par exemple 2020)\n",
    "urban_elec_ratio = 0.49       ### Écrire le taux d'électrification urbaine dans l'année de référence (par exemple 2020)\n",
    "rural_elec_ratio = 0.05         ### Écrire le taux d'électrification rurale dans l'année de référence (par exemple 2020)"
   ]
  },
  {
   "cell_type": "markdown",
   "metadata": {},
   "source": [
    "### b. Spécifications et coûts des technologies\n",
    "\n",
    "La cellule ci-dessous contient toutes les informations utilisées pour calculer les coûts nivelés pour toutes les technologies, y compris le réseau. Ces valeurs par défaut doivent être mises à jour pour refléter les valeurs les plus précises du pays. Il y a actuellement 7 technologies potentielles à inclure dans le modèle :\n",
    "* Réseau\n",
    "* Mini-réseau photovoltaïque\n",
    "* Mini-réseau éolien\n",
    "* Mini-réseau hydroélectrique\n",
    "* Mini-réseau diesel\n",
    "* Systèmes PV autonomes\n",
    "* Systèmes autonomes au diesel\n",
    "\n",
    "Tout d'abord, il faut décider d'inclure ou non les technologies diesel :"
   ]
  },
  {
   "cell_type": "code",
   "execution_count": 12,
   "metadata": {
    "scrolled": true
   },
   "outputs": [],
   "source": [
    "diesel_techs = 0                        ### 0 = diesel NON inclus, 1 = diesel inclus "
   ]
  },
  {
   "cell_type": "code",
   "execution_count": 13,
   "metadata": {
    "scrolled": true
   },
   "outputs": [],
   "source": [
    "grid_power_plants_capital_cost = 1363   ### Le coût en USD/kW correspond à l'augmentation de la capacité du réseau.\n",
    "grid_losses = 0.167                     ### Fraction de l'électricité perdue lors du transport et de la distribution (en pourcentage)  "
   ]
  },
  {
   "cell_type": "code",
   "execution_count": 14,
   "metadata": {
    "code_folding": [
     2,
     7
    ],
    "scrolled": true
   },
   "outputs": [],
   "source": [
    "#diesel_price = 0.5           ### Il s'agit du prix du diesel en USD/litre tel qu'il est prévu à la fin de l'année de l'analyse.\n",
    "\n",
    "diesel_price = 0.9\n",
    "sa_diesel_cost = {'diesel_price': diesel_price,\n",
    "                  'efficiency': 0.28,\n",
    "                  'diesel_truck_consumption': 14,\n",
    "                  'diesel_truck_volume': 300}\n",
    "\n",
    "mg_diesel_cost = {'diesel_price': diesel_price,\n",
    "                  'efficiency': 0.33,\n",
    "                  'diesel_truck_consumption': 14,\n",
    "                  'diesel_truck_volume': 300}"
   ]
  },
  {
   "cell_type": "code",
   "execution_count": 15,
   "metadata": {
    "scrolled": true
   },
   "outputs": [],
   "source": [
    "sa_diesel_capital_cost = {float(\"inf\"): 938}      ### Coût d'investissement du diesel autonome (USD/kW) tel que prévu dans les années de l'analyse\n",
    "#mg_diesel_capital_cost = {float(\"inf\"): 900}\n",
    "mg_pv_capital_cost = {float(\"inf\"): 2000}\n",
    "mg_diesel_capital_cost = {float(\"inf\"): 721}      ### Coût d'investissement du mini-réseau diesel (USD/kW) tel que prévu dans les années de l'analyse\n",
    "#mg_pv_capital_cost = {float(\"inf\"): 2950}         ### Coût d'investissement des mini-réseaux photovoltaïques (USD/kW) tel qu'il est prévu pour les années de l'analyse\n",
    "mg_wind_capital_cost = {float(\"inf\"): 3750}       ### Mini-réseau Coût d'investissement de l'énergie éolienne (USD/kW) tel que prévu dans les années de l'analyse\n",
    "mg_hydro_capital_cost = {float(\"inf\"): 3000}      ### Coût d'investissement de Mini-grid Hydro (USD/kW) tel que prévu dans les années de l'analyse"
   ]
  },
  {
   "cell_type": "code",
   "execution_count": 16,
   "metadata": {
    "scrolled": true
   },
   "outputs": [],
   "source": [
    "sa_pv_capital_cost_1 = 9620          ### Coût d'investissement des systèmes photovoltaïques autonomes (USD/kW) pour les systèmes domestiques de moins de 20 W\n",
    "sa_pv_capital_cost_2 = 8780          ### Coût d'investissement de l'énergie photovoltaïque autonome (USD/kW) pour les systèmes domestiques de 21 à 50 W\n",
    "sa_pv_capital_cost_3 = 6380           ### Coût d'investissement des systèmes photovoltaïques autonomes (USD/kW) pour les systèmes domestiques de 51 à 100 W\n",
    "sa_pv_capital_cost_4 = 4470           ### Coût d'investissement des systèmes photovoltaïques autonomes (USD/kW) pour les systèmes domestiques de 101 à 1000 W\n",
    "sa_pv_capital_cost_5 = 6950           ### Coût d'investissement des systèmes photovoltaïques autonomes (USD/kW) pour les systèmes domestiques de plus de 1 kW"
   ]
  },
  {
   "cell_type": "markdown",
   "metadata": {},
   "source": [
    "Les cellules ci-dessous contiennent des spécifications technologiques supplémentaires"
   ]
  },
  {
   "cell_type": "code",
   "execution_count": 17,
   "metadata": {
    "scrolled": true
   },
   "outputs": [],
   "source": [
    "discount_rate = 0.08 # E.g. 0.08 means a discount rate of 8%\n",
    "existing_grid_cost_ratio = 0.1        ### Coût supplémentaire par cycle d'électrification (pourcentage) \n",
    "\n",
    "# Coûts de transport et de distribution\n",
    "hv_line_capacity=69 # kV\n",
    "hv_line_cost=53000 # USD/km\n",
    "mv_line_cost = 7000 # USD/km\n",
    "mv_line_capacity=33 # kV\n",
    "mv_line_max_length=50 # km\n",
    "mv_increase_rate=0.1   \n",
    "max_mv_line_dist = 50 # km\n",
    "MV_line_amperage_limit = 8  # Ampere (A)\n",
    "lv_line_capacity=0.24 #kV\n",
    "lv_line_max_length=0.5 # km\n",
    "lv_line_cost=4250 # USD/km\n",
    "service_Transf_type=50  # kVa\n",
    "service_Transf_cost=4250  # $/unit\n",
    "max_nodes_per_serv_trans=300  # maximum number of nodes served by each service transformer\n",
    "hv_lv_transformer_cost=25000 # USD/unit\n",
    "hv_mv_transformer_cost=25000 # USD/unit\n",
    "mv_lv_transformer_cost=10000 # USD/unit\n",
    "mv_mv_transformer_cost=10000 # USD/unit\n",
    "\n",
    "\n",
    "# Coûts du réseau centralisé\n",
    "grid_calc = Technology(om_of_td_lines=0.02,\n",
    "                        distribution_losses=grid_losses,\n",
    "                        connection_cost_per_hh=125,\n",
    "                        base_to_peak_load_ratio=0.8,\n",
    "                        capacity_factor=1,\n",
    "                        tech_life=30,\n",
    "                        grid_penalty_ratio=1,\n",
    "                        grid_capacity_investment=grid_power_plants_capital_cost,\n",
    "                        grid_price=grid_generation_cost)\n",
    "\n",
    "mg_pv_hybrid_calc = Technology(om_of_td_lines=0.02,\n",
    "                               distribution_losses=0.05,\n",
    "                               connection_cost_per_hh=100,\n",
    "                               capacity_factor=0.5,\n",
    "                               tech_life=20,\n",
    "                               mini_grid=True,\n",
    "                               hybrid=True)\n",
    "\n",
    "mg_wind_hybrid_calc = Technology(om_of_td_lines=0.02,\n",
    "                                 distribution_losses=0.05,\n",
    "                                 connection_cost_per_hh=100,\n",
    "                                 capacity_factor=0.5,\n",
    "                                 tech_life=20,\n",
    "                                 mini_grid=True,\n",
    "                                 hybrid=True)\n",
    "\n",
    "# Coûts de l'hydroélectricité en mini-réseau\n",
    "mg_hydro_calc = Technology(om_of_td_lines=0.02,\n",
    "                            distribution_losses=0.05,\n",
    "                            connection_cost_per_hh=100,\n",
    "                            base_to_peak_load_ratio=0.85,\n",
    "                            capacity_factor=0.5,\n",
    "                            tech_life=30,\n",
    "                            capital_cost=mg_hydro_capital_cost,\n",
    "                            om_costs=0.02,\n",
    "                            )\n",
    "\n",
    "# Coûts des mini-réseaux éoliens\n",
    "mg_wind_calc = Technology(om_of_td_lines=0.02,\n",
    "                            distribution_losses=0.05,\n",
    "                            connection_cost_per_hh=100,\n",
    "                            base_to_peak_load_ratio=0.85,\n",
    "                            capital_cost=mg_wind_capital_cost,\n",
    "                            om_costs=0.02,\n",
    "                            tech_life=20,\n",
    "                            )\n",
    "\n",
    "# Coûts de l'énergie photovoltaïque en mini-réseau\n",
    "mg_pv_calc = Technology(om_of_td_lines=0.02,\n",
    "                        distribution_losses=0.05,\n",
    "                        connection_cost_per_hh=100,\n",
    "                        base_to_peak_load_ratio=0.85,\n",
    "                        tech_life=20,\n",
    "                        om_costs=0.015,\n",
    "                        capital_cost= mg_pv_capital_cost                        \n",
    "                       )\n",
    "\n",
    "# Coûts de l'énergie photovoltaïque autonome\n",
    "sa_pv_calc = Technology(base_to_peak_load_ratio=0.9,\n",
    "                        tech_life=15,\n",
    "                        om_costs=0.02,\n",
    "                        capital_cost={0.020: sa_pv_capital_cost_1 * pv_adjustment_factor, \n",
    "                                      0.050: sa_pv_capital_cost_2 * pv_adjustment_factor, \n",
    "                                      0.100: sa_pv_capital_cost_3 * pv_adjustment_factor, \n",
    "                                      1: sa_pv_capital_cost_4 * pv_adjustment_factor, \n",
    "                                      5: sa_pv_capital_cost_5 * pv_adjustment_factor},\n",
    "                        standalone=True\n",
    "                        )\n",
    "\n",
    "# Coûts du diesel pour les mini-réseaux\n",
    "mg_diesel_calc = Technology(om_of_td_lines=0.03,\n",
    "                            distribution_losses=0.05,\n",
    "                            connection_cost_per_hh=100,\n",
    "                            base_to_peak_load_ratio=0.85,\n",
    "                            capacity_factor=0.7,\n",
    "                            tech_life=15,\n",
    "                            om_costs=0.1,\n",
    "                            efficiency=0.33,\n",
    "                            capital_cost=mg_diesel_capital_cost,\n",
    "                            diesel_price=diesel_price,\n",
    "                            diesel_truck_consumption=33.7,\n",
    "                            diesel_truck_volume=15000,\n",
    "                            )\n",
    "\n",
    "# Coûts du diesel autonome\n",
    "sa_diesel_calc = Technology(base_to_peak_load_ratio=0.9,\n",
    "                            capacity_factor=0.7,\n",
    "                            tech_life=10,\n",
    "                            om_costs=0.1,\n",
    "                            capital_cost=sa_diesel_capital_cost,\n",
    "                            diesel_price=diesel_price,\n",
    "                            standalone=True,\n",
    "                            efficiency=0.28,\n",
    "                            diesel_truck_consumption=14,\n",
    "                            diesel_truck_volume=300)"
   ]
  },
  {
   "cell_type": "markdown",
   "metadata": {},
   "source": [
    "# 5. Calibrage des valeurs de l'année de démarrage et informations générales\n",
    "\n",
    "Les étapes suivantes calibrent les conditions de l'année de démarrage dans le pays en termes de population et de taux d'électrification actuel, et ajoutent également quelques informations supplémentaires utiles à utiliser dans les calculs ultérieurs. Si vous avez récupéré le fichier d'entrée d'Energydata.info, certaines de ces étapes sont déjà réalisées, et vous pouvez sauter les cellules ci-dessous où il y a une note. "
   ]
  },
  {
   "cell_type": "code",
   "execution_count": 18,
   "metadata": {},
   "outputs": [
    {
     "data": {
      "text/markdown": [
       "#### Le fichier csv a été importé correctement. Voici un aperçu:"
      ],
      "text/plain": [
       "<IPython.core.display.Markdown object>"
      ]
     },
     "metadata": {},
     "output_type": "display_data"
    },
    {
     "data": {
      "text/html": [
       "<div>\n",
       "<style scoped>\n",
       "    .dataframe tbody tr th:only-of-type {\n",
       "        vertical-align: middle;\n",
       "    }\n",
       "\n",
       "    .dataframe tbody tr th {\n",
       "        vertical-align: top;\n",
       "    }\n",
       "\n",
       "    .dataframe thead th {\n",
       "        text-align: right;\n",
       "    }\n",
       "</style>\n",
       "<table border=\"1\" class=\"dataframe\">\n",
       "  <thead>\n",
       "    <tr style=\"text-align: right;\">\n",
       "      <th></th>\n",
       "      <th>Country</th>\n",
       "      <th>ElecPop</th>\n",
       "      <th>NightLights</th>\n",
       "      <th>TravelHours</th>\n",
       "      <th>GHI</th>\n",
       "      <th>WindVel</th>\n",
       "      <th>Hydropower</th>\n",
       "      <th>HydropowerDist</th>\n",
       "    </tr>\n",
       "  </thead>\n",
       "  <tbody>\n",
       "    <tr>\n",
       "      <th>10370</th>\n",
       "      <td>Sierra_Leone</td>\n",
       "      <td>0</td>\n",
       "      <td>0.975934</td>\n",
       "      <td>1.450000</td>\n",
       "      <td>1856.0</td>\n",
       "      <td>2.968601</td>\n",
       "      <td>1351.950</td>\n",
       "      <td>8.462863</td>\n",
       "    </tr>\n",
       "    <tr>\n",
       "      <th>4080</th>\n",
       "      <td>Sierra_Leone</td>\n",
       "      <td>0</td>\n",
       "      <td>0.980145</td>\n",
       "      <td>0.483333</td>\n",
       "      <td>1837.0</td>\n",
       "      <td>2.734967</td>\n",
       "      <td>2493.150</td>\n",
       "      <td>2.155249</td>\n",
       "    </tr>\n",
       "    <tr>\n",
       "      <th>14201</th>\n",
       "      <td>Sierra_Leone</td>\n",
       "      <td>0</td>\n",
       "      <td>0.970992</td>\n",
       "      <td>1.216667</td>\n",
       "      <td>1852.0</td>\n",
       "      <td>2.790141</td>\n",
       "      <td>155.577</td>\n",
       "      <td>7.513509</td>\n",
       "    </tr>\n",
       "    <tr>\n",
       "      <th>1946</th>\n",
       "      <td>Sierra_Leone</td>\n",
       "      <td>0</td>\n",
       "      <td>0.975408</td>\n",
       "      <td>1.050000</td>\n",
       "      <td>1805.0</td>\n",
       "      <td>2.725426</td>\n",
       "      <td>4535.810</td>\n",
       "      <td>9.919279</td>\n",
       "    </tr>\n",
       "    <tr>\n",
       "      <th>9759</th>\n",
       "      <td>Sierra_Leone</td>\n",
       "      <td>0</td>\n",
       "      <td>0.987370</td>\n",
       "      <td>1.283333</td>\n",
       "      <td>1848.0</td>\n",
       "      <td>2.272415</td>\n",
       "      <td>354.648</td>\n",
       "      <td>8.199068</td>\n",
       "    </tr>\n",
       "    <tr>\n",
       "      <th>20276</th>\n",
       "      <td>Sierra_Leone</td>\n",
       "      <td>0</td>\n",
       "      <td>0.977411</td>\n",
       "      <td>4.400000</td>\n",
       "      <td>1929.0</td>\n",
       "      <td>2.501843</td>\n",
       "      <td>272.298</td>\n",
       "      <td>23.497205</td>\n",
       "    </tr>\n",
       "    <tr>\n",
       "      <th>9177</th>\n",
       "      <td>Sierra_Leone</td>\n",
       "      <td>0</td>\n",
       "      <td>0.962380</td>\n",
       "      <td>0.850000</td>\n",
       "      <td>1888.5</td>\n",
       "      <td>2.890099</td>\n",
       "      <td>104.255</td>\n",
       "      <td>27.129731</td>\n",
       "    </tr>\n",
       "  </tbody>\n",
       "</table>\n",
       "</div>"
      ],
      "text/plain": [
       "            Country  ElecPop  NightLights  TravelHours     GHI   WindVel  \\\n",
       "10370  Sierra_Leone        0     0.975934     1.450000  1856.0  2.968601   \n",
       "4080   Sierra_Leone        0     0.980145     0.483333  1837.0  2.734967   \n",
       "14201  Sierra_Leone        0     0.970992     1.216667  1852.0  2.790141   \n",
       "1946   Sierra_Leone        0     0.975408     1.050000  1805.0  2.725426   \n",
       "9759   Sierra_Leone        0     0.987370     1.283333  1848.0  2.272415   \n",
       "20276  Sierra_Leone        0     0.977411     4.400000  1929.0  2.501843   \n",
       "9177   Sierra_Leone        0     0.962380     0.850000  1888.5  2.890099   \n",
       "\n",
       "       Hydropower  HydropowerDist  \n",
       "10370    1351.950        8.462863  \n",
       "4080     2493.150        2.155249  \n",
       "14201     155.577        7.513509  \n",
       "1946     4535.810        9.919279  \n",
       "9759      354.648        8.199068  \n",
       "20276     272.298       23.497205  \n",
       "9177      104.255       27.129731  "
      ]
     },
     "metadata": {},
     "output_type": "display_data"
    }
   ],
   "source": [
    "pop_modelled, urban_modelled = onsseter.calibrate_current_pop_and_urban(pop_start_year, urban_ratio_start_year)\n",
    "\n",
    "onsseter.project_pop_and_urban(pop_modelled, end_year_pop, urban_modelled, urban_ratio_end_year, start_year, end_year, intermediate_year)\n",
    "\n",
    "display(Markdown('#### Le fichier csv a été importé correctement. Voici un aperçu:'))\n",
    "display(onsseter.df[['Country','ElecPop','NightLights','TravelHours','GHI','WindVel','Hydropower','HydropowerDist']].sample(7))"
   ]
  },
  {
   "cell_type": "markdown",
   "metadata": {},
   "source": [
    "**Note!**\n",
    "*Si vous avez récupéré un fichier d'entrée à partir du site Energydata.info, cette étape a déjà été réalisée et il n'est pas nécessaire de l'exécuter à nouveau. Vous pouvez passer à l'étape suivante*"
   ]
  },
  {
   "cell_type": "code",
   "execution_count": 19,
   "metadata": {
    "scrolled": true
   },
   "outputs": [],
   "source": [
    "onsseter.condition_df()\n",
    "onsseter.df['GridPenalty'] = onsseter.grid_penalties(onsseter.df)\n",
    "onsseter.df['WindCF'] = onsseter.calc_wind_cfs()"
   ]
  },
  {
   "cell_type": "markdown",
   "metadata": {},
   "source": [
    "#### Calibrage des localités actuellement électrifiées\n",
    "\n",
    "Le modèle calibre les localités susceptibles d'être électrifiées au cours de l'année de démarrage, afin de correspondre aux valeurs statistiques nationales définies ci-dessus. Une localité est considérée comme électrifiée si elle remplit toutes les conditions suivantes :\n",
    "- A plus de lumières nocturnes que le seuil défini (ce paramètre est défini sur 0 par défaut)\n",
    "- Est plus proche du réseau de distribution existant que la limite de distance\n",
    "- A plus de population que le seuil\n",
    "\n",
    "Définissez d'abord les seuils. Ensuite, lancez l'étalonnage et vérifiez si les résultats semblent corrects. Dans le cas contraire, redéfinissez ces seuils et relancez l'opération.\n",
    "\n",
    "**Note!**\n",
    "*Si vous avez récupéré un fichier d'entrée à partir du site Energydata.info, cette étape a déjà été réalisée et il n'est pas nécessaire de l'exécuter à nouveau. Vous pouvez passer à l'étape suivante*"
   ]
  },
  {
   "cell_type": "code",
   "execution_count": 20,
   "metadata": {},
   "outputs": [
    {
     "name": "stdout",
     "output_type": "stream",
     "text": [
      "Calibrating using distribution transformers\n",
      "The national modelled electrification rate is 0.23. The modelled urban elec. rate is 0.54 The modelled rural elec. rate is 0.01\n"
     ]
    }
   ],
   "source": [
    "min_night_lights = 0    ### 0 Indique qu'il n'y a pas d'éclairage de nuit, tandis que tout chiffre supérieur fait référence à l'intensité de l'éclairage de nuit.\n",
    "min_pop = 50      ### Population de l'agglomération au-delà de laquelle on peut supposer qu'elle pourrait être électrifiée\n",
    "\n",
    "max_service_transformer_distance = 2    ### Distance en km du réseau existant en dessous de laquelle on peut supposer qu'un village pourrait être électrifié\n",
    "max_mv_line_distance = 2\n",
    "max_hv_line_distance = 5\n",
    "\n",
    "elec_modelled, urban_internal_elec_ratio, rural_internal_elec_ratio = onsseter.elec_current_and_future(elec_ratio_start_year, \n",
    "                                                                                                       urban_elec_ratio, \n",
    "                                                                                                       rural_elec_ratio, \n",
    "                                                                                                       start_year,\n",
    "                                                                                                       min_night_lights=min_night_lights, \n",
    "                                                                                                       min_pop=min_pop, \n",
    "                                                                                                       max_transformer_dist=max_service_transformer_distance, \n",
    "                                                                                                       max_mv_dist=max_mv_line_distance, \n",
    "                                                                                                       max_hv_dist=max_hv_line_distance) \n"
   ]
  },
  {
   "cell_type": "markdown",
   "metadata": {},
   "source": [
    "La figure ci-dessous montre les résultats de la calibration. Les localités en **bleu** sont considérées comme étant (au moins partiellement) électrifiées dès l'année de début de l'analyse, tandis que les localités en **gris* ne sont pas encore électrifiées. Une nouvelle exécution de l'étape de calibrage avec des valeurs initiales différentes peut modifier la carte ci-dessous."
   ]
  },
  {
   "cell_type": "code",
   "execution_count": 21,
   "metadata": {},
   "outputs": [
    {
     "data": {
      "image/png": "[encoded data removed]",
      "text/plain": [
       "<Figure size 864x864 with 1 Axes>"
      ]
     },
     "metadata": {
      "needs_background": "light"
     },
     "output_type": "display_data"
    },
    {
     "data": {
      "text/plain": [
       "<Figure size 2160x2160 with 0 Axes>"
      ]
     },
     "metadata": {},
     "output_type": "display_data"
    }
   ],
   "source": [
    "from matplotlib import pyplot as plt\n",
    "colors = ['#D3D3D3','#808080']\n",
    "plt.figure(figsize=(12,12))\n",
    "plt.plot(onsseter.df.loc[onsseter.df[SET_ELEC_CURRENT]==0, SET_X_DEG], onsseter.df.loc[onsseter.df[SET_ELEC_CURRENT]==0, SET_Y_DEG], color='#D3D3D3', marker=',', linestyle='none')\n",
    "plt.plot(onsseter.df.loc[onsseter.df[SET_ELEC_CURRENT]==1, SET_X_DEG], onsseter.df.loc[onsseter.df[SET_ELEC_CURRENT]==1, SET_Y_DEG], color='#00008B', marker=',', linestyle='none')\n",
    "if onsseter.df[SET_X_DEG].max() - onsseter.df[SET_X_DEG].min() > onsseter.df[SET_Y_DEG].max() - onsseter.df[SET_Y_DEG].min():\n",
    "    plt.xlim(onsseter.df[SET_X_DEG].min() - 1, onsseter.df[SET_X_DEG].max() + 1)\n",
    "    plt.ylim((onsseter.df[SET_Y_DEG].min()+onsseter.df[SET_Y_DEG].max())/2 - 0.5*abs(onsseter.df[SET_X_DEG].max() - onsseter.df[SET_X_DEG].min()) - 1, (onsseter.df[SET_Y_DEG].min()+onsseter.df[SET_Y_DEG].max())/2 + 0.5*abs(onsseter.df[SET_X_DEG].max() - onsseter.df[SET_X_DEG].min()) + 1)\n",
    "else:\n",
    "    plt.xlim((onsseter.df[SET_X_DEG].min()+onsseter.df[SET_X_DEG].max())/2 - 0.5*abs(onsseter.df[SET_Y_DEG].max() - onsseter.df[SET_Y_DEG].min()) - 1, (onsseter.df[SET_X_DEG].min()+onsseter.df[SET_X_DEG].max())/2 + 0.5*abs(onsseter.df[SET_Y_DEG].max() - onsseter.df[SET_Y_DEG].min()) + 1)\n",
    "    plt.ylim(onsseter.df[SET_Y_DEG].min() -1, onsseter.df[SET_Y_DEG].max() +1)\n",
    "plt.figure(figsize=(30,30))\n",
    "logging.getLogger('matplotlib.font_manager').disabled = True"
   ]
  },
  {
   "cell_type": "markdown",
   "metadata": {},
   "source": [
    "Dans certains cas, il peut être intéressant de filtrer les groupements très peu peuplés, par exemple pour augmenter la vitesse de calcul ou pour éliminer les faux positifs dans les données. En fixant la variable **pop_threshold** à une valeur inférieure à 0, toutes les localités dont la population est inférieure à ce seuil seront éliminées de l'analyse."
   ]
  },
  {
   "cell_type": "code",
   "execution_count": 22,
   "metadata": {
    "scrolled": true
   },
   "outputs": [],
   "source": [
    "pop_threshold = 0  # Si vous souhaitez supprimer les cellules à faible densité de population, entrez un seuil supérieur à 0.\n",
    "onsseter.df = onsseter.df.loc[onsseter.df[SET_POP] > pop_threshold]"
   ]
  },
  {
   "cell_type": "markdown",
   "metadata": {},
   "source": [
    "# 6. Définir la demande\n",
    "\n",
    "Ce morceau de code définit la demande d'électricité cible dans la région/le pays. La demande d'électricité résidentielle est définie en kWh/ménage/an, tandis que toutes les autres demandes sont définies en kWh/habitant/an. Notez qu'à l'heure actuelle, toutes les demandes liées aux utilisations productives sont fixées à 0 par défaut."
   ]
  },
  {
   "cell_type": "markdown",
   "metadata": {},
   "source": [
    "**Residential**"
   ]
  },
  {
   "cell_type": "code",
   "execution_count": 23,
   "metadata": {
    "scrolled": true
   },
   "outputs": [],
   "source": [
    "# Définir les objectifs annuels de consommation d'électricité des ménages à choisir\n",
    "tier_1 = 38.7  # 38.7 refers to kWh/household/year. \n",
    "tier_2 = 219\n",
    "tier_3 = 803\n",
    "tier_4 = 2117\n",
    "tier_5 = 2993\n",
    "\n",
    "onsseter.prepare_wtf_tier_columns(num_people_per_hh_rural, num_people_per_hh_urban, tier_1, tier_2, tier_3, tier_4, tier_5)"
   ]
  },
  {
   "cell_type": "markdown",
   "metadata": {},
   "source": [
    "**Non résidentiel**\n",
    "\n",
    "**Note** La demande sociale et productive doit être définie lors de l'étape de préparation."
   ]
  },
  {
   "cell_type": "code",
   "execution_count": 24,
   "metadata": {
    "scrolled": true
   },
   "outputs": [],
   "source": [
    "productive_demand = 1                     # 1 si la demande productive est définie et doit être incluse, sinon 0"
   ]
  },
  {
   "cell_type": "markdown",
   "metadata": {},
   "source": [
    "# 7. Lancer un scénario qui calcule et compare les coûts des technologies pour chaque localité du pays.\n",
    "\n",
    "Sur la base du calcul précédent, ce morceau de code identifie le LCoE que chaque technologie hors réseau peut fournir, pour chaque agglomération peuplée du pays sélectionné. La cellule prend ensuite tous les points actuellement raccordés au réseau dans le pays et examine les points situés à une certaine distance de ceux-ci, pour voir s'il est plus économique de les raccorder au réseau ou d'utiliser l'une des technologies hors réseau calculées ci-dessus. Une fois que d'autres points sont raccordés au réseau, le processus est répété, de sorte que de nouveaux points proches de ces points puissent également être raccordés. Ce processus est répété jusqu'à ce qu'il n'y ait plus de nouveaux points à connecter au réseau."
   ]
  },
  {
   "cell_type": "code",
   "execution_count": 25,
   "metadata": {},
   "outputs": [],
   "source": [
    "# Vous pouvez choisir de calculer la ventilation des coûts d'investissement (paramètre 1) ou uniquement l'investissement total (paramètre 2). Cette dernière option est plus rapide \n",
    "cost_choice = 2                ## L'option 1 n'est pas disponible dans cette version du code ; veuillez laisser la valeur 2."
   ]
  },
  {
   "cell_type": "code",
   "execution_count": 26,
   "metadata": {},
   "outputs": [
    {
     "name": "stdout",
     "output_type": "stream",
     "text": [
      "The electrification rate achieved in 2025 is 75.0 %\n",
      "The electrification rate achieved in 2030 is 100.0 %\n"
     ]
    }
   ],
   "source": [
    "onsseter.current_mv_line_dist()\n",
    "\n",
    "try:\n",
    "    onsseter.df.reset_index(inplace=True)\n",
    "except ValueError:\n",
    "    pass\n",
    "\n",
    "Technology.set_default_values(base_year=start_year, start_year=start_year, end_year=end_year, discount_rate=discount_rate,\n",
    "                             hv_line_type=hv_line_capacity, hv_line_cost=hv_line_cost, mv_line_type=mv_line_capacity,\n",
    "                             mv_line_amperage_limit=MV_line_amperage_limit, mv_line_cost=mv_line_cost, lv_line_type=lv_line_capacity,\n",
    "                             lv_line_cost=lv_line_cost, lv_line_max_length=lv_line_max_length, \n",
    "                             service_transf_type=service_Transf_type, service_transf_cost = service_Transf_cost,\n",
    "                             max_nodes_per_serv_trans=max_nodes_per_serv_trans, mv_lv_sub_station_cost=mv_lv_transformer_cost,\n",
    "                             mv_mv_sub_station_cost=mv_mv_transformer_cost, hv_lv_sub_station_cost=hv_lv_transformer_cost,\n",
    "                             hv_mv_sub_station_cost=hv_mv_transformer_cost)\n",
    "\n",
    "for year in yearsofanalysis:\n",
    "        \n",
    "    eleclimit = eleclimits[year]\n",
    "    time_step = time_steps[year]\n",
    "    \n",
    "    \n",
    "    if year == end_year:\n",
    "        grid_connect_limit = time_step * annual_new_grid_connections_limit_end * 1000\n",
    "        grid_cap_gen_limit = time_step * annual_grid_cap_gen_limit_end * 1000\n",
    "    else:\n",
    "        grid_connect_limit = time_step * annual_new_grid_connections_limit_intermediate * 1000\n",
    "        grid_cap_gen_limit = time_step * annual_grid_cap_gen_limit_intermediate * 1000\n",
    "        \n",
    "    onsseter.set_scenario_variables(year, num_people_per_hh_rural, num_people_per_hh_urban, time_step,\n",
    "                                            start_year, urban_target_tier, \n",
    "                                            rural_target_tier, productive_demand)\n",
    "\n",
    "    \n",
    "    onsseter.diesel_cost_columns(sa_diesel_cost, mg_diesel_cost, year)\n",
    "    \n",
    "    \n",
    "    mg_pv_hybrid_investment, mg_pv_hybrid_capacity = onsseter.calculate_pv_hybrids_lcoe(year, \n",
    "                                                                                        year - time_step, \n",
    "                                                                                        end_year, \n",
    "                                                                                        time_step, \n",
    "                                                                                        mg_pv_hybrid_calc,\n",
    "                                                                                        1, \n",
    "                                                                                        pv_path)\n",
    "\n",
    "    mg_wind_hybrid_investment, mg_wind_hybrid_capacity = onsseter.calculate_wind_hybrids_lcoe(year,\n",
    "                                                                                              year - time_step,\n",
    "                                                                                              end_year,\n",
    "                                                                                              time_step,\n",
    "                                                                                              mg_wind_hybrid_calc,\n",
    "                                                                                              wind_path)\n",
    "\n",
    "    sa_diesel_investment, sa_pv_investment, mg_diesel_investment, \\\n",
    "    mg_wind_investment, mg_hydro_investment, mg_pv_investment = onsseter.calculate_off_grid_lcoes(mg_hydro_calc, \n",
    "                                                                                                  mg_wind_calc, \n",
    "                                                                                                  mg_pv_calc, \n",
    "                                                                                                  sa_pv_calc, \n",
    "                                                                                                  mg_diesel_calc,\n",
    "                                                                                                  sa_diesel_calc, \n",
    "                                                                                                  year, \n",
    "                                                                                                  end_year, \n",
    "                                                                                                  time_step,\n",
    "                                                                                                  diesel_techs)\n",
    "\n",
    "    grid_investment, grid_cap_gen_limit, grid_connect_limit = onsseter.pre_electrification(grid_generation_cost, \n",
    "                                                                                           year, \n",
    "                                                                                           time_step, \n",
    "                                                                                           end_year, \n",
    "                                                                                           grid_calc, \n",
    "                                                                                           grid_cap_gen_limit,\n",
    "                                                                                           grid_connect_limit)\n",
    "\n",
    "    onsseter.df[SET_LCOE_GRID + \"{}\".format(year)], onsseter.df[SET_MIN_GRID_DIST + \"{}\".format(year)], \\\n",
    "    onsseter.df[SET_ELEC_ORDER + \"{}\".format(year)], onsseter.df[SET_MV_CONNECT_DIST], grid_investment = \\\n",
    "    onsseter.elec_extension(grid_calc,\n",
    "                            mv_line_max_length,\n",
    "                            year,\n",
    "                            start_year,\n",
    "                            end_year,\n",
    "                            time_step,\n",
    "                            grid_cap_gen_limit,\n",
    "                            grid_connect_limit,\n",
    "                            auto_intensification=auto_intensification,\n",
    "                            prioritization=5,\n",
    "                            new_investment=grid_investment,\n",
    "                            threshold=9999999999)\n",
    "\n",
    "    onsseter.results_columns(year, time_step, 5, auto_intensification)\n",
    "\n",
    "    onsseter.calculate_investments(sa_diesel_investment, sa_pv_investment, mg_diesel_investment,\n",
    "                                   mg_pv_investment, mg_wind_investment, mg_hydro_investment, \n",
    "                                   mg_pv_hybrid_investment, mg_wind_hybrid_investment, grid_investment, year)\n",
    "\n",
    "    onsseter.apply_limitations(eleclimit, year, time_step, 5, auto_intensification)\n",
    "\n",
    "    onsseter.calculate_new_capacity(mg_pv_hybrid_capacity, mg_wind_hybrid_capacity, mg_hydro_calc, mg_wind_calc,\n",
    "                                            mg_pv_calc, sa_pv_calc, mg_diesel_calc, sa_diesel_calc, grid_calc, year)\n",
    "    \n",
    "    onsseter.tech_code_update_jn(year, time_step)\n",
    "\n",
    "    #onsseter.calc_summaries(df_summary, sumtechs, year)"
   ]
  },
  {
   "cell_type": "code",
   "execution_count": 27,
   "metadata": {},
   "outputs": [],
   "source": [
    "#onsseter.df.columns"
   ]
  },
  {
   "cell_type": "markdown",
   "metadata": {},
   "source": [
    "# 8. Résultats, résumés et visualisation\n",
    "Une fois tous les calculs et les extensions de réseau terminés, ce bloc permet d'obtenir les résultats finaux concernant la technologie choisie pour chaque point, la capacité à installer et son coût. Les résumés, les graphiques et les cartes sont ensuite générés."
   ]
  },
  {
   "cell_type": "code",
   "execution_count": 28,
   "metadata": {
    "code_folding": [
     16,
     30,
     57,
     79,
     113
    ]
   },
   "outputs": [],
   "source": [
    "elements = []\n",
    "for year in yearsofanalysis:\n",
    "    elements.append(\"Population{}\".format(year))\n",
    "    elements.append(\"NewConnections{}\".format(year))\n",
    "    elements.append(\"Capacity{}\".format(year))\n",
    "    elements.append(\"Investment{}\".format(year))\n",
    "\n",
    "techs = [\"1\", \"2\", \"3\", \"4\", \"5\", \"6\", \"7\", \"8\", \"9\", \"10\", \"99\"]\n",
    "\n",
    "sumtechs = []\n",
    "for year in yearsofanalysis:\n",
    "    sumtechs.extend([\"Population{}\".format(year) + t for t in techs])\n",
    "    sumtechs.extend([\"NewConnections{}\".format(year) + t for t in techs])\n",
    "    sumtechs.extend([\"Capacity{}\".format(year) + t for t in techs])\n",
    "    sumtechs.extend([\"Investment{}\".format(year) + t for t in techs])\n",
    "    \n",
    "if cost_choice == 1:\n",
    "    for year in yearsofanalysis:\n",
    "        sumtechs.extend([\"InvestmentCostLV{}\".format(year) + t for t in techs])\n",
    "        sumtechs.extend([\"InvestmentCostMV{}\".format(year) + t for t in techs])\n",
    "        sumtechs.extend([\"InvestmentCostHV{}\".format(year) + t for t in techs])\n",
    "        sumtechs.extend([\"InvestmentCostTransformer{}\".format(year) + t for t in techs])\n",
    "        sumtechs.extend([\"InvestmentCostConnection{}\".format(year) + t for t in techs])\n",
    "        sumtechs.extend([\"CapitalCapacityInvestment{}\".format(year) + t for t in techs])\n",
    "        sumtechs.extend([\"RecurringCosts{}\".format(year) + t for t in techs])\n",
    "    else:\n",
    "        pass\n",
    "\n",
    "summary = pd.Series(index=sumtechs, name='country')\n",
    "\n",
    "if cost_choice == 1:\n",
    "    for year in yearsofanalysis:\n",
    "        for t in techs:\n",
    "            summary.loc[\"Population{}\".format(year) + t] = onsseter.df.loc[(onsseter.df[SET_MIN_OVERALL + '{}'.format(year)] == t + '{}'.format(year)) & (onsseter.df[SET_ELEC_FINAL_CODE + '{}'.format(year)] < 99), SET_POP + '{}'.format(year)].sum()\n",
    "            summary.loc[\"NewConnections{}\".format(year) + t] = onsseter.df.loc[(onsseter.df[SET_MIN_OVERALL + '{}'.format(year)] == t + '{}'.format(year)) & (onsseter.df[SET_ELEC_FINAL_CODE + '{}'.format(year)] < 99), SET_NEW_CONNECTIONS + '{}'.format(year)].sum()\n",
    "            summary.loc[\"Capacity{}\".format(year) + t] = onsseter.df.loc[(onsseter.df[SET_MIN_OVERALL + '{}'.format(year)] == t + '{}'.format(year)) & (onsseter.df[SET_ELEC_FINAL_CODE + '{}'.format(year)] < 99), SET_NEW_CAPACITY + '{}'.format(year)].sum()/1000\n",
    "            summary.loc[\"Investment{}\".format(year) + t] = onsseter.df.loc[(onsseter.df[SET_MIN_OVERALL + '{}'.format(year)] == t + '{}'.format(year)) & (onsseter.df[SET_ELEC_FINAL_CODE + '{}'.format(year)] < 99), SET_INVESTMENT_COST + '{}'.format(year)].sum()\n",
    "            summary.loc[\"InvestmentCostLV{}\".format(year) + t] = onsseter.df.loc[(onsseter.df[SET_MIN_OVERALL + '{}'.format(year)] == t + '{}'.format(year)) & (onsseter.df[SET_ELEC_FINAL_CODE + '{}'.format(year)] < 99), \"InvestmentCostLV\" + '{}'.format(year)].sum()\n",
    "            summary.loc[\"InvestmentCostMV{}\".format(year) + t] = onsseter.df.loc[(onsseter.df[SET_MIN_OVERALL + '{}'.format(year)] == t + '{}'.format(year)) & (onsseter.df[SET_ELEC_FINAL_CODE + '{}'.format(year)] < 99), \"InvestmentCostMV\" + '{}'.format(year)].sum()\n",
    "            summary.loc[\"InvestmentCostHV{}\".format(year) + t] = onsseter.df.loc[(onsseter.df[SET_MIN_OVERALL + '{}'.format(year)] == t + '{}'.format(year)) & (onsseter.df[SET_ELEC_FINAL_CODE + '{}'.format(year)] < 99), \"InvestmentCostHV\" + '{}'.format(year)].sum()\n",
    "            summary.loc[\"InvestmentCostTransformer{}\".format(year) + t] = onsseter.df.loc[(onsseter.df[SET_MIN_OVERALL + '{}'.format(year)] == t + '{}'.format(year)) & (onsseter.df[SET_ELEC_FINAL_CODE + '{}'.format(year)] < 99), \"InvestmentCostTransformer\" + '{}'.format(year)].sum()\n",
    "            summary.loc[\"InvestmentCostConnection{}\".format(year) + t] = onsseter.df.loc[(onsseter.df[SET_MIN_OVERALL + '{}'.format(year)] == t + '{}'.format(year)) & (onsseter.df[SET_ELEC_FINAL_CODE + '{}'.format(year)] < 99), \"InvestmentCostConnection\" + '{}'.format(year)].sum()\n",
    "            summary.loc[\"CapitalCapacityInvestment{}\".format(year) + t] = onsseter.df.loc[(onsseter.df[SET_MIN_OVERALL + '{}'.format(year)] == t + '{}'.format(year)) & (onsseter.df[SET_ELEC_FINAL_CODE + '{}'.format(year)] < 99), \"CapitalCapacityInvestment\" + '{}'.format(year)].sum()\n",
    "            summary.loc[\"RecurringCosts{}\".format(year) + t] = onsseter.df.loc[(onsseter.df[SET_MIN_OVERALL + '{}'.format(year)] == t + '{}'.format(year)) & (onsseter.df[SET_ELEC_FINAL_CODE + '{}'.format(year)] < 99), \"RecurringCosts\" + '{}'.format(year)].sum()\n",
    "else:\n",
    "    for year in yearsofanalysis:\n",
    "        for t in techs:\n",
    "            summary.loc[\"Population{}\".format(year) + t] = onsseter.df.loc[(onsseter.df[SET_ELEC_FINAL_CODE + '{}'.format(year)] == int(t)), SET_POP + '{}'.format(year)].sum()\n",
    "            summary.loc[\"NewConnections{}\".format(year) + t] = onsseter.df.loc[(onsseter.df[SET_ELEC_FINAL_CODE + '{}'.format(year)] == int(t)), SET_NEW_CONNECTIONS + '{}'.format(year)].sum()\n",
    "            summary.loc[\"Capacity{}\".format(year) + t] = onsseter.df.loc[(onsseter.df[SET_ELEC_FINAL_CODE + '{}'.format(year)] == int(t)) & (onsseter.df[SET_ELEC_FINAL_CODE + '{}'.format(year)] < 99), SET_NEW_CAPACITY + '{}'.format(year)].sum()/1000\n",
    "            summary.loc[\"Investment{}\".format(year) + t] = onsseter.df.loc[(onsseter.df[SET_ELEC_FINAL_CODE + '{}'.format(year)] == int(t)) & (onsseter.df[SET_ELEC_FINAL_CODE + '{}'.format(year)] < 99), SET_INVESTMENT_COST + '{}'.format(year)].sum()\n",
    "    \n",
    "summary = summary.fillna(0)\n",
    "     \n",
    "index = techs + ['Total']\n",
    "columns = []\n",
    "\n",
    "if cost_choice == 1:\n",
    "    for year in yearsofanalysis:\n",
    "        columns.append(\"Population{}\".format(year))\n",
    "        columns.append(\"NewConnections{}\".format(year))\n",
    "        columns.append(\"Capacity{} (MW)\".format(year))\n",
    "        columns.append(\"Investment{} (million USD)\".format(year))\n",
    "        columns.append(\"InvestmentLV{} (million USD)\".format(year))\n",
    "        columns.append(\"InvestmentMV{} (million USD)\".format(year))\n",
    "        columns.append(\"InvestmentHV{} (million USD)\".format(year))\n",
    "        columns.append(\"InvestmentTrans{} (million USD)\".format(year))\n",
    "        columns.append(\"InvestmentCon{} (million USD)\".format(year))\n",
    "        columns.append(\"InvestmentCap{} (million USD)\".format(year))\n",
    "        columns.append(\"RecurringCosts{} (million USD)\".format(year))\n",
    "else:\n",
    "    for year in yearsofanalysis:\n",
    "        columns.append(\"Population{}\".format(year))\n",
    "        columns.append(\"NewConnections{}\".format(year))\n",
    "        columns.append(\"Capacity{} (MW)\".format(year))\n",
    "        columns.append(\"Investment{} (million USD)\".format(year))\n",
    "    \n",
    "summary_table = pd.DataFrame(index=index, columns=columns)\n",
    "\n",
    "if cost_choice == 1:\n",
    "    summary_table[columns[0]] = summary.iloc[0:7].astype(int).tolist() + [int(summary.iloc[0:7].sum())]\n",
    "    summary_table[columns[1]] = summary.iloc[7:14].astype(int).tolist() + [int(summary.iloc[7:14].sum())]\n",
    "    summary_table[columns[2]] = summary.iloc[14:21].astype(int).tolist() + [int(summary.iloc[14:21].sum())]\n",
    "    summary_table[columns[3]] = [round(x/1e4)/1e2 for x in summary.iloc[21:28].astype(float).tolist()] + [round(summary.iloc[21:28].sum()/1e4)/1e2]\n",
    "    summary_table[columns[4]] = [round(x/1e4)/1e2 for x in summary.iloc[56:63].astype(float).tolist()] + [round(summary.iloc[56:63].sum()/1e4)/1e2]\n",
    "    summary_table[columns[5]] = [round(x/1e4)/1e2 for x in summary.iloc[63:70].astype(float).tolist()] + [round(summary.iloc[63:70].sum()/1e4)/1e2]\n",
    "    summary_table[columns[6]] = [round(x/1e4)/1e2 for x in summary.iloc[70:77].astype(float).tolist()] + [round(summary.iloc[70:77].sum()/1e4)/1e2]\n",
    "    summary_table[columns[7]] = [round(x/1e4)/1e2 for x in summary.iloc[77:84].astype(float).tolist()] + [round(summary.iloc[77:84].sum()/1e4)/1e2]\n",
    "    summary_table[columns[8]] = [round(x/1e4)/1e2 for x in summary.iloc[84:91].astype(float).tolist()] + [round(summary.iloc[84:91].sum()/1e4)/1e2]\n",
    "    summary_table[columns[9]] = [round(x/1e4)/1e2 for x in summary.iloc[91:98].astype(float).tolist()] + [round(summary.iloc[91:98].sum()/1e4)/1e2]\n",
    "    summary_table[columns[10]] = [round(x/1e4)/1e2 for x in summary.iloc[98:105].astype(float).tolist()] + [round(summary.iloc[98:105].sum()/1e4)/1e2]\n",
    "    \n",
    "    summary_table[columns[11]] = summary.iloc[28:35].astype(int).tolist() + [int(summary.iloc[28:35].sum())]\n",
    "    summary_table[columns[12]] = summary.iloc[35:42].astype(int).tolist() + [int(summary.iloc[35:42].sum())]\n",
    "    summary_table[columns[13]] = summary.iloc[42:49].astype(int).tolist() + [int(summary.iloc[42:49].sum())]\n",
    "    summary_table[columns[14]] = [round(x/1e4)/1e2 for x in summary.iloc[49:56].astype(float).tolist()] + [round(summary.iloc[49:56].sum()/1e4)/1e2]\n",
    "    summary_table[columns[15]] = [round(x/1e4)/1e2 for x in summary.iloc[105:112].astype(float).tolist()] + [round(summary.iloc[105:112].sum()/1e4)/1e2]\n",
    "    summary_table[columns[16]] = [round(x/1e4)/1e2 for x in summary.iloc[112:119].astype(float).tolist()] + [round(summary.iloc[112:119].sum()/1e4)/1e2]\n",
    "    summary_table[columns[17]] = [round(x/1e4)/1e2 for x in summary.iloc[119:126].astype(float).tolist()] + [round(summary.iloc[119:126].sum()/1e4)/1e2]\n",
    "    summary_table[columns[18]] = [round(x/1e4)/1e2 for x in summary.iloc[126:133].astype(float).tolist()] + [round(summary.iloc[126:133].sum()/1e4)/1e2]\n",
    "    summary_table[columns[19]] = [round(x/1e4)/1e2 for x in summary.iloc[133:140].astype(float).tolist()] + [round(summary.iloc[133:140].sum()/1e4)/1e2]\n",
    "    summary_table[columns[20]] = [round(x/1e4)/1e2 for x in summary.iloc[140:147].astype(float).tolist()] + [round(summary.iloc[140:147].sum()/1e4)/1e2]\n",
    "    summary_table[columns[21]] = [round(x/1e4)/1e2 for x in summary.iloc[147:154].astype(float).tolist()] + [round(summary.iloc[147:154].sum()/1e4)/1e2]\n",
    "else:\n",
    "    summary_table[columns[0]] = summary.iloc[0:11].astype(int).tolist() + [int(summary.iloc[0:11].sum())]\n",
    "    summary_table[columns[1]] = summary.iloc[11:22].astype(int).tolist() + [int(summary.iloc[11:22].sum())]\n",
    "    summary_table[columns[2]] = summary.iloc[22:33].astype(int).tolist() + [int(summary.iloc[22:33].sum())]\n",
    "    summary_table[columns[3]] = [round(x/1e4)/1e2 for x in summary.iloc[33:44].astype(float).tolist()] + [round(summary.iloc[33:44].sum()/1e4)/1e2]\n",
    "    summary_table[columns[4]] = summary.iloc[44:55].astype(int).tolist() + [int(summary.iloc[44:55].sum())]\n",
    "    summary_table[columns[5]] = summary.iloc[55:66].astype(int).tolist() + [int(summary.iloc[55:66].sum())]\n",
    "    summary_table[columns[6]] = summary.iloc[66:77].astype(int).tolist() + [int(summary.iloc[66:77].sum())]\n",
    "    summary_table[columns[7]] = [round(x/1e4)/1e2 for x in summary.iloc[77:88].astype(float).tolist()] + [round(summary.iloc[77:88].sum()/1e4)/1e2]\n",
    "    \n",
    "map_dict = {'1': 'Grid_dens', \n",
    "            '2': 'SA_Diesel', \n",
    "            '3': 'SA_PV', \n",
    "            '4': 'MG_Diesel', \n",
    "            '5': 'MG_PV', \n",
    "            '6': 'MG_Wind', \n",
    "            '7': 'MG_Hydro', \n",
    "            '8': 'MG_PV_Hybrid', \n",
    "            '9': 'MG_Wind_Hybrid', \n",
    "            '10':'Grid_ext', \n",
    "            '99':'Non-electrified',\n",
    "            'Total': 'Total'}\n",
    "\n",
    "summary_table.index = summary_table.index.to_series().map(map_dict)"
   ]
  },
  {
   "cell_type": "code",
   "execution_count": 36,
   "metadata": {},
   "outputs": [
    {
     "data": {
      "text/markdown": [
       "### Résumé \n",
       " Voici les résultats résumés du pays sélectionné"
      ],
      "text/plain": [
       "<IPython.core.display.Markdown object>"
      ]
     },
     "metadata": {},
     "output_type": "display_data"
    },
    {
     "data": {
      "text/html": [
       "<div>\n",
       "<style scoped>\n",
       "    .dataframe tbody tr th:only-of-type {\n",
       "        vertical-align: middle;\n",
       "    }\n",
       "\n",
       "    .dataframe tbody tr th {\n",
       "        vertical-align: top;\n",
       "    }\n",
       "\n",
       "    .dataframe thead th {\n",
       "        text-align: right;\n",
       "    }\n",
       "</style>\n",
       "<table border=\"1\" class=\"dataframe\">\n",
       "  <thead>\n",
       "    <tr style=\"text-align: right;\">\n",
       "      <th></th>\n",
       "      <th>Population2025</th>\n",
       "      <th>NewConnections2025</th>\n",
       "      <th>Capacity2025 (MW)</th>\n",
       "      <th>Investment2025 (million USD)</th>\n",
       "      <th>Population2030</th>\n",
       "      <th>NewConnections2030</th>\n",
       "      <th>Capacity2030 (MW)</th>\n",
       "      <th>Investment2030 (million USD)</th>\n",
       "    </tr>\n",
       "  </thead>\n",
       "  <tbody>\n",
       "    <tr>\n",
       "      <th>Grid_dens</th>\n",
       "      <td>2572809</td>\n",
       "      <td>745128</td>\n",
       "      <td>98</td>\n",
       "      <td>188.32</td>\n",
       "      <td>3099343</td>\n",
       "      <td>526548</td>\n",
       "      <td>69</td>\n",
       "      <td>131.48</td>\n",
       "    </tr>\n",
       "    <tr>\n",
       "      <th>SA_Diesel</th>\n",
       "      <td>0</td>\n",
       "      <td>0</td>\n",
       "      <td>0</td>\n",
       "      <td>0.00</td>\n",
       "      <td>0</td>\n",
       "      <td>0</td>\n",
       "      <td>0</td>\n",
       "      <td>0.00</td>\n",
       "    </tr>\n",
       "    <tr>\n",
       "      <th>SA_PV</th>\n",
       "      <td>576388</td>\n",
       "      <td>576388</td>\n",
       "      <td>16</td>\n",
       "      <td>75.55</td>\n",
       "      <td>1166045</td>\n",
       "      <td>598143</td>\n",
       "      <td>18</td>\n",
       "      <td>81.89</td>\n",
       "    </tr>\n",
       "    <tr>\n",
       "      <th>MG_Diesel</th>\n",
       "      <td>0</td>\n",
       "      <td>0</td>\n",
       "      <td>0</td>\n",
       "      <td>0.00</td>\n",
       "      <td>0</td>\n",
       "      <td>0</td>\n",
       "      <td>0</td>\n",
       "      <td>0.00</td>\n",
       "    </tr>\n",
       "    <tr>\n",
       "      <th>MG_PV</th>\n",
       "      <td>0</td>\n",
       "      <td>0</td>\n",
       "      <td>0</td>\n",
       "      <td>0.00</td>\n",
       "      <td>0</td>\n",
       "      <td>0</td>\n",
       "      <td>0</td>\n",
       "      <td>0.00</td>\n",
       "    </tr>\n",
       "    <tr>\n",
       "      <th>MG_Wind</th>\n",
       "      <td>0</td>\n",
       "      <td>0</td>\n",
       "      <td>0</td>\n",
       "      <td>0.00</td>\n",
       "      <td>0</td>\n",
       "      <td>0</td>\n",
       "      <td>0</td>\n",
       "      <td>0.00</td>\n",
       "    </tr>\n",
       "    <tr>\n",
       "      <th>MG_Hydro</th>\n",
       "      <td>92131</td>\n",
       "      <td>92131</td>\n",
       "      <td>2</td>\n",
       "      <td>10.12</td>\n",
       "      <td>74114</td>\n",
       "      <td>10134</td>\n",
       "      <td>0</td>\n",
       "      <td>1.81</td>\n",
       "    </tr>\n",
       "    <tr>\n",
       "      <th>MG_PV_Hybrid</th>\n",
       "      <td>2385220</td>\n",
       "      <td>2385220</td>\n",
       "      <td>90</td>\n",
       "      <td>253.88</td>\n",
       "      <td>2663470</td>\n",
       "      <td>91263</td>\n",
       "      <td>3</td>\n",
       "      <td>42.43</td>\n",
       "    </tr>\n",
       "    <tr>\n",
       "      <th>MG_Wind_Hybrid</th>\n",
       "      <td>0</td>\n",
       "      <td>0</td>\n",
       "      <td>0</td>\n",
       "      <td>0.00</td>\n",
       "      <td>0</td>\n",
       "      <td>0</td>\n",
       "      <td>0</td>\n",
       "      <td>0.00</td>\n",
       "    </tr>\n",
       "    <tr>\n",
       "      <th>Grid_ext</th>\n",
       "      <td>931469</td>\n",
       "      <td>931469</td>\n",
       "      <td>16</td>\n",
       "      <td>84.04</td>\n",
       "      <td>2683690</td>\n",
       "      <td>1914994</td>\n",
       "      <td>216</td>\n",
       "      <td>483.34</td>\n",
       "    </tr>\n",
       "    <tr>\n",
       "      <th>Non-electrified</th>\n",
       "      <td>2186156</td>\n",
       "      <td>2186156</td>\n",
       "      <td>0</td>\n",
       "      <td>0.00</td>\n",
       "      <td>0</td>\n",
       "      <td>0</td>\n",
       "      <td>0</td>\n",
       "      <td>0.00</td>\n",
       "    </tr>\n",
       "    <tr>\n",
       "      <th>Total</th>\n",
       "      <td>8744176</td>\n",
       "      <td>6916495</td>\n",
       "      <td>224</td>\n",
       "      <td>611.91</td>\n",
       "      <td>9686665</td>\n",
       "      <td>3141084</td>\n",
       "      <td>308</td>\n",
       "      <td>740.96</td>\n",
       "    </tr>\n",
       "  </tbody>\n",
       "</table>\n",
       "</div>"
      ],
      "text/plain": [
       "                 Population2025  NewConnections2025  Capacity2025 (MW)  \\\n",
       "Grid_dens               2572809              745128                 98   \n",
       "SA_Diesel                     0                   0                  0   \n",
       "SA_PV                    576388              576388                 16   \n",
       "MG_Diesel                     0                   0                  0   \n",
       "MG_PV                         0                   0                  0   \n",
       "MG_Wind                       0                   0                  0   \n",
       "MG_Hydro                  92131               92131                  2   \n",
       "MG_PV_Hybrid            2385220             2385220                 90   \n",
       "MG_Wind_Hybrid                0                   0                  0   \n",
       "Grid_ext                 931469              931469                 16   \n",
       "Non-electrified         2186156             2186156                  0   \n",
       "Total                   8744176             6916495                224   \n",
       "\n",
       "                 Investment2025 (million USD)  Population2030  \\\n",
       "Grid_dens                              188.32         3099343   \n",
       "SA_Diesel                                0.00               0   \n",
       "SA_PV                                   75.55         1166045   \n",
       "MG_Diesel                                0.00               0   \n",
       "MG_PV                                    0.00               0   \n",
       "MG_Wind                                  0.00               0   \n",
       "MG_Hydro                                10.12           74114   \n",
       "MG_PV_Hybrid                           253.88         2663470   \n",
       "MG_Wind_Hybrid                           0.00               0   \n",
       "Grid_ext                                84.04         2683690   \n",
       "Non-electrified                          0.00               0   \n",
       "Total                                  611.91         9686665   \n",
       "\n",
       "                 NewConnections2030  Capacity2030 (MW)  \\\n",
       "Grid_dens                    526548                 69   \n",
       "SA_Diesel                         0                  0   \n",
       "SA_PV                        598143                 18   \n",
       "MG_Diesel                         0                  0   \n",
       "MG_PV                             0                  0   \n",
       "MG_Wind                           0                  0   \n",
       "MG_Hydro                      10134                  0   \n",
       "MG_PV_Hybrid                  91263                  3   \n",
       "MG_Wind_Hybrid                    0                  0   \n",
       "Grid_ext                    1914994                216   \n",
       "Non-electrified                   0                  0   \n",
       "Total                       3141084                308   \n",
       "\n",
       "                 Investment2030 (million USD)  \n",
       "Grid_dens                              131.48  \n",
       "SA_Diesel                                0.00  \n",
       "SA_PV                                   81.89  \n",
       "MG_Diesel                                0.00  \n",
       "MG_PV                                    0.00  \n",
       "MG_Wind                                  0.00  \n",
       "MG_Hydro                                 1.81  \n",
       "MG_PV_Hybrid                            42.43  \n",
       "MG_Wind_Hybrid                           0.00  \n",
       "Grid_ext                               483.34  \n",
       "Non-electrified                          0.00  \n",
       "Total                                  740.96  "
      ]
     },
     "execution_count": 36,
     "metadata": {},
     "output_type": "execute_result"
    }
   ],
   "source": [
    "display(Markdown('### Résumé \\n Voici les résultats résumés du pays sélectionné'))\n",
    "summary_table"
   ]
  },
  {
   "cell_type": "code",
   "execution_count": 30,
   "metadata": {
    "code_folding": [
     15
    ]
   },
   "outputs": [
    {
     "data": {
      "image/png": "[encoded data removed]",
      "text/plain": [
       "<Figure size 2520x2520 with 4 Axes>"
      ]
     },
     "metadata": {
      "needs_background": "light"
     },
     "output_type": "display_data"
    }
   ],
   "source": [
    "import matplotlib.pylab as plt\n",
    "import seaborn as sns\n",
    "\n",
    "colors = ['#4e53de','#EDD100','#ffc700','#1F6600','#98E600','#70A800','#28e66d', '#e628a0', '#1b8f4d', '#a6aaff', '#D3D3D3']\n",
    "techs_colors = dict(zip(techs, colors))\n",
    "\n",
    "summary_plot=summary_table.drop(labels='Total',axis=0)\n",
    "fig_size = [35, 35]\n",
    "font_size = 1\n",
    "plt.rcParams[\"figure.figsize\"] = fig_size\n",
    "f, axarr = plt.subplots(2, 2)\n",
    "fig_size = [15, 15]\n",
    "font_size = 10\n",
    "plt.rcParams[\"figure.figsize\"] = fig_size\n",
    "\n",
    "if cost_choice == 1:\n",
    "    sns.barplot(x=summary_plot.index.tolist(), y=columns[11], data=summary_plot, ax=axarr[0, 0], palette=colors)\n",
    "    axarr[0, 0].set_ylabel(columns[4], fontsize=2*font_size)\n",
    "    axarr[0, 0].tick_params(labelsize=font_size)\n",
    "    sns.barplot(x=summary_plot.index.tolist(), y=columns[12], data=summary_plot, ax=axarr[0, 1], palette=colors)\n",
    "    axarr[0, 1].set_ylabel(columns[5], fontsize=2*font_size)\n",
    "    axarr[0, 1].tick_params(labelsize=font_size)\n",
    "    sns.barplot(x=summary_plot.index.tolist(), y=columns[13], data=summary_plot, ax=axarr[1, 0], palette=colors)\n",
    "    axarr[1, 0].set_ylabel(columns[6], fontsize=2*font_size)\n",
    "    axarr[1, 0].tick_params(labelsize=font_size)\n",
    "    sns.barplot(x=summary_plot.index.tolist(), y=columns[14], data=summary_plot, ax=axarr[1, 1], palette=colors)\n",
    "    axarr[1, 1].set_ylabel(columns[7], fontsize=2*font_size)\n",
    "    axarr[1, 1].tick_params(labelsize=font_size)\n",
    "else:\n",
    "    sns.barplot(x=summary_plot.index.tolist(), y=columns[4], data=summary_plot, ax=axarr[0, 0], palette=colors)\n",
    "    axarr[0, 0].set_ylabel(columns[4], fontsize=2*font_size)\n",
    "    axarr[0, 0].tick_params(labelsize=font_size)\n",
    "    sns.barplot(x=summary_plot.index.tolist(), y=columns[5], data=summary_plot, ax=axarr[0, 1], palette=colors)\n",
    "    axarr[0, 1].set_ylabel(columns[5], fontsize=2*font_size)\n",
    "    axarr[0, 1].tick_params(labelsize=font_size)\n",
    "    sns.barplot(x=summary_plot.index.tolist(), y=columns[6], data=summary_plot, ax=axarr[1, 0], palette=colors)\n",
    "    axarr[1, 0].set_ylabel(columns[6], fontsize=2*font_size)\n",
    "    axarr[1, 0].tick_params(labelsize=font_size)\n",
    "    sns.barplot(x=summary_plot.index.tolist(), y=columns[7], data=summary_plot, ax=axarr[1, 1], palette=colors)\n",
    "    axarr[1, 1].set_ylabel(columns[7], fontsize=2*font_size)\n",
    "    axarr[1, 1].tick_params(labelsize=font_size)"
   ]
  },
  {
   "cell_type": "code",
   "execution_count": 31,
   "metadata": {},
   "outputs": [
    {
     "data": {
      "text/plain": [
       "<Figure size 720x720 with 0 Axes>"
      ]
     },
     "execution_count": 31,
     "metadata": {},
     "output_type": "execute_result"
    },
    {
     "data": {
      "image/png": "[encoded data removed]",
      "text/plain": [
       "<Figure size 720x720 with 1 Axes>"
      ]
     },
     "metadata": {
      "needs_background": "light"
     },
     "output_type": "display_data"
    },
    {
     "data": {
      "text/plain": [
       "<Figure size 720x720 with 0 Axes>"
      ]
     },
     "metadata": {},
     "output_type": "display_data"
    }
   ],
   "source": [
    "from matplotlib import pyplot as plt\n",
    "colors = ['#4e53de','#EDD100','#ffc700','#1F6600','#98E600','#70A800','#28e66d', '#e628a0', '#1b8f4d', '#a6aaff', '#D3D3D3']\n",
    "plt.figure(figsize=(10,10))\n",
    "plt.plot(onsseter.df.loc[onsseter.df['FinalElecCode{}'.format(end_year)]==3, SET_X_DEG], onsseter.df.loc[onsseter.df['FinalElecCode{}'.format(end_year)]==3, SET_Y_DEG], color='#ffc700', marker=',', linestyle='none')\n",
    "plt.plot(onsseter.df.loc[onsseter.df['FinalElecCode{}'.format(end_year)]==2, SET_X_DEG], onsseter.df.loc[onsseter.df['FinalElecCode{}'.format(end_year)]==2, SET_Y_DEG], color='#a6aaff', marker=',', linestyle='none')\n",
    "plt.plot(onsseter.df.loc[onsseter.df['FinalElecCode{}'.format(end_year)]==4, SET_X_DEG], onsseter.df.loc[onsseter.df['FinalElecCode{}'.format(end_year)]==4, SET_Y_DEG], color='#1F6600', marker=',', linestyle='none')\n",
    "plt.plot(onsseter.df.loc[onsseter.df['FinalElecCode{}'.format(end_year)]==5, SET_X_DEG], onsseter.df.loc[onsseter.df['FinalElecCode{}'.format(end_year)]==5, SET_Y_DEG], color='#e628a0', marker=',', linestyle='none')\n",
    "plt.plot(onsseter.df.loc[onsseter.df['FinalElecCode{}'.format(end_year)]==6, SET_X_DEG], onsseter.df.loc[onsseter.df['FinalElecCode{}'.format(end_year)]==6, SET_Y_DEG], color='#1b8f4d', marker=',', linestyle='none')\n",
    "plt.plot(onsseter.df.loc[onsseter.df['FinalElecCode{}'.format(end_year)]==7, SET_X_DEG], onsseter.df.loc[onsseter.df['FinalElecCode{}'.format(end_year)]==7, SET_Y_DEG], color='#28e66d', marker=',', linestyle='none')\n",
    "plt.plot(onsseter.df.loc[onsseter.df['FinalElecCode{}'.format(end_year)]==8, SET_X_DEG], onsseter.df.loc[onsseter.df['FinalElecCode{}'.format(end_year)]==8, SET_Y_DEG], color='#e628a0', marker=',', linestyle='none')\n",
    "plt.plot(onsseter.df.loc[onsseter.df['FinalElecCode{}'.format(end_year)]==9, SET_X_DEG], onsseter.df.loc[onsseter.df['FinalElecCode{}'.format(end_year)]==9, SET_Y_DEG], color='#1b8f4d', marker=',', linestyle='none')\n",
    "plt.plot(onsseter.df.loc[onsseter.df['FinalElecCode{}'.format(end_year)]==1, SET_X_DEG], onsseter.df.loc[onsseter.df['FinalElecCode{}'.format(end_year)]==1, SET_Y_DEG], color='#4e53de', marker=',', linestyle='none')\n",
    "plt.plot(onsseter.df.loc[onsseter.df['FinalElecCode{}'.format(end_year)]==10, SET_X_DEG], onsseter.df.loc[onsseter.df['FinalElecCode{}'.format(end_year)]==10, SET_Y_DEG], color='#a6aaff', marker=',', linestyle='none')\n",
    "if onsseter.df[SET_X_DEG].max() - onsseter.df[SET_X_DEG].min() > onsseter.df[SET_Y_DEG].max() - onsseter.df[SET_Y_DEG].min():\n",
    "    plt.xlim(onsseter.df[SET_X_DEG].min() - 1, onsseter.df[SET_X_DEG].max() + 1)\n",
    "    plt.ylim((onsseter.df[SET_Y_DEG].min()+onsseter.df[SET_Y_DEG].max())/2 - 0.5*abs(onsseter.df[SET_X_DEG].max() - onsseter.df[SET_X_DEG].min()) - 1, (onsseter.df[SET_Y_DEG].min()+onsseter.df[SET_Y_DEG].max())/2 + 0.5*abs(onsseter.df[SET_X_DEG].max() - onsseter.df[SET_X_DEG].min()) + 1)\n",
    "else:\n",
    "    plt.xlim((onsseter.df[SET_X_DEG].min()+onsseter.df[SET_X_DEG].max())/2 - 0.5*abs(onsseter.df[SET_Y_DEG].max() - onsseter.df[SET_Y_DEG].min()) - 1, (onsseter.df[SET_X_DEG].min()+onsseter.df[SET_X_DEG].max())/2 + 0.5*abs(onsseter.df[SET_Y_DEG].max() - onsseter.df[SET_Y_DEG].min()) + 1)\n",
    "    plt.ylim(onsseter.df[SET_Y_DEG].min() -1, onsseter.df[SET_Y_DEG].max() +1)\n",
    "plt.figure(figsize=(10,10))"
   ]
  },
  {
   "cell_type": "markdown",
   "metadata": {},
   "source": [
    "## 9. Exportation des résultats\n",
    "\n",
    "Ce code génère trois fichiers csv :\n",
    " - un contenant tous les résultats du scénario créé\n",
    " - un fichier contenant le résumé du scénario créé\n",
    " - un fichier contenant certaines des variables d'entrée clés du scénario.\n",
    "\n",
    "Avant de continuer, veuillez écrire le nom du scénario dans la première cellule ci-dessous. Ensuite, passez à la cellule suivante et exécutez-la pour naviguer jusqu'au répertoire où vous voulez enregistrer vos résultats. Le fichier d'exemple doit être situé à l'adresse .\\gep-onsset\\sample_output. \n",
    "\n",
    "**Notez que si vous ne changez pas le nom du scénario, les fichiers de sortie précédents seront écrasés."
   ]
  },
  {
   "cell_type": "code",
   "execution_count": 32,
   "metadata": {
    "scrolled": true
   },
   "outputs": [],
   "source": [
    "scenario_name = \"Sample_Scenario\""
   ]
  },
  {
   "cell_type": "code",
   "execution_count": 33,
   "metadata": {
    "code_folding": [
     0
    ],
    "scrolled": true
   },
   "outputs": [],
   "source": [
    "list1 = [('Start_year',start_year,'','',''), \n",
    "         ('End_year',end_year,'','',''),\n",
    "         ('End year electrification rate target',electrification_rate_target,'','',''),\n",
    "         ('Intermediate target year', intermediate_year,'','',''),\n",
    "         ('Intermediate electrification rate target', intermediate_electrification_target,'','',''),\n",
    "         ('PV cost adjustment factor', pv_adjustment_factor, '', '', ''),\n",
    "         ('Urban target tier', urban_target_tier, '', '', ''),\n",
    "         ('Rural target tier', rural_target_tier, '', '', ''),\n",
    "         ('Prioritization', prioritization,'','','5 = least cost, 4 = forced grid within buffer only, 6 = forced grid within buffer & least cost out of the buffer zone'),\n",
    "         ('Auto intensification distance', auto_intensification, '', '', 'Buffer distance (km) for automatic intensification if choosing prioritization 1'),\n",
    "         ('discount_rate',discount_rate,'','',''),\n",
    "         ('pop_threshold',pop_threshold,'','',''),\n",
    "         ('pop_start_year',pop_start_year,'','','the population in the base year (e.g. 2018)'),\n",
    "         ('pop_end_year',end_year_pop,'','','the projected population in the end year (e.g. 2030)'),\n",
    "         ('urban_ratio_start_year',urban_ratio_start_year,'','','the urban population population ratio in the base year (e.g. 2018)'),\n",
    "         ('urban_ratio_end_year',urban_ratio_end_year,'','','the urban population population ratio in the end year (e.g. 2030)'),\n",
    "         ('num_people_per_hh_urban',num_people_per_hh_urban,'','','the number of people per household expected in the end year (e.g. 2030)'),\n",
    "         ('num_people_per_hh_rural',num_people_per_hh_rural,'','','the number of people per household expected in the end year (e.g. 2030)'),\n",
    "         ('elec_ratio_start_year',elec_ratio_start_year,'','','the electrification rate in the base year (e.g. 2018)'),\n",
    "         ('urban_elec_ratio',urban_elec_ratio,'','','urban electrification rate in the base year (e.g. 2018)'),\n",
    "         ('rural_elec_ratio',rural_elec_ratio,'','','rural electrification rate in the base year (e.g. 2018)'),\n",
    "         ('grid_generation_cost',grid_generation_cost,'','','This is the grid cost electricity USD/kWh as expected in the end year of the analysis'),\n",
    "         ('grid_power_plants_capital_cost',grid_power_plants_capital_cost,'','','The cost in USD/kW to for capacity upgrades of the grid-connected power plants'),\n",
    "         ('grid_losses',grid_losses,'','','The fraction of electricity lost in transmission and distribution (percentage)'),\n",
    "         ('base_to_peak',grid_calc.base_to_peak_load_ratio,'','','The ratio of base grid demand to peak demand (percentage)'),\n",
    "         ('existing_grid_cost_ratio',existing_grid_cost_ratio,'','','The additional cost per round of electrification (percentage)'),\n",
    "         ('diesel_price',diesel_price,'','','This is the diesel price in USD/liter as expected in the end year of the analysis'),\n",
    "         ('sa_diesel_capital_cost',sa_diesel_capital_cost,'','','Stand-alone Diesel capital cost (USD/kW) as expected in the years of the analysis'),\n",
    "         ('mg_diesel_capital_cost',mg_diesel_capital_cost,'','','Mini-grid Diesel capital cost (USD/kW) as expected in the years of the analysis'),\n",
    "         ('mg_pv_capital_cost',mg_pv_capital_cost,'','','Mini-grid PV capital cost (USD/kW) as expected in the years of the analysis'),\n",
    "         ('mg_wind_capital_cost',mg_wind_capital_cost,'','','Mini-grid Wind capital cost (USD/kW) as expected in the years of the analysis'),\n",
    "         ('mg_hydro_capital_cost',mg_hydro_capital_cost,'','','Mini-grid Hydro capital cost (USD/kW) as expected in the years of the analysis'),\n",
    "         ('sa_pv_capital_cost_1',sa_pv_capital_cost_1,'','','Stand-alone PV capital cost (USD/kW) for household systems under 20 W'),\n",
    "         ('sa_pv_capital_cost_2',sa_pv_capital_cost_2,'','','Stand-alone PV capital cost (USD/kW) for household systems between 21-50 W'),\n",
    "         ('sa_pv_capital_cost_3',sa_pv_capital_cost_3,'','','Stand-alone PV capital cost (USD/kW) for household systems between 51-100 W'),\n",
    "         ('sa_pv_capital_cost_4',sa_pv_capital_cost_4,'','','Stand-alone PV capital cost (USD/kW) for household systems between 101-200 W'),\n",
    "         ('sa_pv_capital_cost_5',sa_pv_capital_cost_5,'','','Stand-alone PV capital cost (USD/kW) for household systems over 200 W'),\n",
    "         ('mv_line_cost',mv_line_cost,'','','Cost of MV lines in USD/km'),\n",
    "         ('lv_line_cost',lv_line_cost,'','','Cost of LV lines in USD/km'),\n",
    "         ('mv_line_capacity',mv_line_capacity,'','','Capacity of MV lines in kW/line'),\n",
    "         ('lv_line_capacity',lv_line_capacity,'','','Capacity of LV lines in kW/line'),\n",
    "         ('lv_line_max_length',lv_line_max_length,'','','Maximum length of LV lines (km)'),\n",
    "         ('hv_line_cost',hv_line_cost,'','','Cost of HV lines in USD/km'),\n",
    "         ('mv_line_max_length',mv_line_max_length,'','','Maximum length of MV lines (km)'),\n",
    "         ('hv_lv_transformer_cost',hv_lv_transformer_cost,'','','Cost of HV/MV transformer (USD/unit)'),\n",
    "         ('mv_increase_rate',mv_increase_rate,'','','percentage'),\n",
    "         ('max_grid_extension_dist',max_mv_line_dist,'','','Maximum distance that the grid may be extended by means of MV lines'),\n",
    "         ('annual_new_grid_connections_limit_intermediate', annual_new_grid_connections_limit_intermediate,'','','This is the maximum amount of new households that can be connected to the grid in one year (thousands)'),\n",
    "         ('annual_new_grid_connections_limit_end', annual_new_grid_connections_limit_end,'','','This is the maximum amount of new households that can be connected to the grid in one year (thousands)'),\n",
    "         ('grid_capacity_limit_end',annual_grid_cap_gen_limit_end,'','','This is the maximum generation capacity that can be added to the grid in one year (MW)'),\n",
    "         ('grid_capacity_limit_intermediate',annual_grid_cap_gen_limit_intermediate,'','','This is the maximum generation capacity that can be added to the grid in one year (MW)'),\n",
    "         ('GIS data: Administrative boundaries','','','','Delineates the boundaries of the analysis.'),\n",
    "         ('GIS data: DEM','','','','Filled DEM (elevation) maps are use in a number of processes in the analysis (Energy potentials, restriction zones, grid extension suitability map etc.).'),\n",
    "         ('GIS data: Hydropower','','','','Points showing potential mini/small hydropower potential.  Provides power availability in each identified point.'),\n",
    "         ('GIS data: Land Cover','','','','Land cover maps are use in a number of processes in the analysis (Energy potentials, restriction zones, grid extension suitability map etc.).'),\n",
    "         ('GIS data: Night-time Lights','','','','Dataset used to,identify and spatially calibrate the currently electrified/non-electrified population.'),\n",
    "         ('GIS data: Population','','','','Spatial identification and quantification of the current (base year) population. This dataset sets the basis of the ONSSET analysis as it is directly connected with the electricity demand and the assignment of energy access goals'),\n",
    "         ('GIS data: Roads','','','','Current road infrastructure is used in order to specify grid extension suitability.'),\n",
    "         ('GIS data: Solar GHI','','','','Provide information about the Global Horizontal Irradiation (kWh/m2/year) over an area. This is later used to identify the availability/suitability of Photovoltaic systems.'),\n",
    "         ('GIS data: Substations','','','','Current Substation infrastructure is used in order to specify grid extension suitability.'),\n",
    "         ('GIS data: Existing grid','','','','Current grid network'),\n",
    "         ('GIS data: Planned grid','','','','Planned/committed grid network extensions'),\n",
    "         ('GIS data: Travel-time','','','','Visualizes spatially the travel time required to reach from any individual cell to the closest town with population more than 50,000 people.'),\n",
    "         ('GIS data: Wind velocity','','','','Provide information about the wind velocity (m/sec) over an area. This is later used to identify the availability/suitability of wind power (using Capacity factors).'),\n",
    "        ]\n",
    "labels = ['Variable','Value', 'Source', 'Comments', 'Description']\n",
    "df_variables = pd.DataFrame.from_records(list1, columns=labels)"
   ]
  },
  {
   "cell_type": "code",
   "execution_count": 34,
   "metadata": {
    "scrolled": true
   },
   "outputs": [],
   "source": [
    "messagebox.showinfo('OnSSET', 'Parcourir le dossier dans lequel vous souhaitez enregistrer les résultats')\n",
    "\n",
    "output_dir = filedialog.askdirectory()\n",
    "output_dir_variables = os.path.join(output_dir, '{}_Variables.csv'.format(scenario_name))\n",
    "output_dir_results = os.path.join(output_dir, '{}_Results.csv'.format(scenario_name))\n",
    "output_dir_summaries = os.path.join(output_dir, '{}_Summaries.csv'.format(scenario_name))"
   ]
  },
  {
   "cell_type": "code",
   "execution_count": 35,
   "metadata": {
    "scrolled": true
   },
   "outputs": [],
   "source": [
    "# Renvoi du résultat sous forme de fichier csv\n",
    "onsseter.df.to_csv(output_dir_results, index=False)\n",
    "\n",
    "# Renvoi du résumé sous forme de fichier csv\n",
    "summary_table.to_csv(output_dir_summaries, index=True)\n",
    "\n",
    "# Retourner les variables d'entrée dans un fichier csv\n",
    "df_variables.to_csv(output_dir_variables, index=False)"
   ]
  }
 ],
 "metadata": {
  "anaconda-cloud": {},
  "celltoolbar": "Raw Cell Format",
  "kernelspec": {
   "display_name": "Python 3",
   "language": "python",
   "name": "python3"
  },
  "language_info": {
   "codemirror_mode": {
    "name": "ipython",
    "version": 3
   },
   "file_extension": ".py",
   "mimetype": "text/x-python",
   "name": "python",
   "nbconvert_exporter": "python",
   "pygments_lexer": "ipython3",
   "version": "3.8.5"
  }
 },
 "nbformat": 4,
 "nbformat_minor": 4
}
